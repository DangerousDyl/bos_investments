{
 "cells": [
  {
   "cell_type": "markdown",
   "id": "7d6ea326-cf6f-4b2d-b838-26953927de03",
   "metadata": {},
   "source": [
    "#### Dashboard for investments"
   ]
  },
  {
   "cell_type": "markdown",
   "id": "6acf9705-61d3-4aa1-81af-c3d56d19f64b",
   "metadata": {},
   "source": [
    "Idea: We want to invest when there is significant deviation away from the long-term mean"
   ]
  },
  {
   "cell_type": "markdown",
   "id": "39e02e47-08df-40f9-954a-32215d6d7803",
   "metadata": {},
   "source": [
    "Steps:\n",
    "1. Calculate long term trend of SNP500 - Loop through each time period in the dataframe and then conduct a ols regression and store the outputs. The bins are 15 year periods (12 * 15)\n",
    "2. Determine at which points was there significant deviation away from trend (Jacksobian co-integration test)\n",
    "3. Create threshold at which point there was significant deviation away that led you to an investment decision \n",
    "4. Create algorithm that invests when this happens"
   ]
  },
  {
   "cell_type": "markdown",
   "id": "47d3a051-d202-4141-9ebe-c92558b526ea",
   "metadata": {},
   "source": [
    "Data: \n",
    "1. Currently we just have a randomly CSV of the data, our goal is to find a constant datasource."
   ]
  },
  {
   "cell_type": "code",
   "execution_count": 1,
   "id": "190fd84a-e13a-4313-b595-486f8c387a16",
   "metadata": {},
   "outputs": [],
   "source": [
    "import os\n",
    "import pandas as pd \n",
    "import numpy as np \n",
    "import matplotlib as plt \n",
    "from datetime import datetime"
   ]
  },
  {
   "cell_type": "code",
   "execution_count": 2,
   "id": "c506c09a-2edf-4196-bc87-be49884ae6c0",
   "metadata": {},
   "outputs": [
    {
     "data": {
      "text/plain": [
       "'/Users/dylanjohnson/Documents/bos_investments/bos_investments'"
      ]
     },
     "execution_count": 2,
     "metadata": {},
     "output_type": "execute_result"
    }
   ],
   "source": [
    "path = os.getcwd()\n",
    "path"
   ]
  },
  {
   "cell_type": "code",
   "execution_count": 62,
   "id": "1689bea7-19a6-4a2f-a41c-48c1849bb56a",
   "metadata": {},
   "outputs": [],
   "source": [
    "# env = os.chdir(\"./Documents/bos_investments\")"
   ]
  },
  {
   "cell_type": "code",
   "execution_count": 5,
   "id": "966d9a76-3dd6-41b1-81f0-d26454b34606",
   "metadata": {},
   "outputs": [
    {
     "data": {
      "text/html": [
       "<div>\n",
       "<style scoped>\n",
       "    .dataframe tbody tr th:only-of-type {\n",
       "        vertical-align: middle;\n",
       "    }\n",
       "\n",
       "    .dataframe tbody tr th {\n",
       "        vertical-align: top;\n",
       "    }\n",
       "\n",
       "    .dataframe thead th {\n",
       "        text-align: right;\n",
       "    }\n",
       "</style>\n",
       "<table border=\"1\" class=\"dataframe\">\n",
       "  <thead>\n",
       "    <tr style=\"text-align: right;\">\n",
       "      <th></th>\n",
       "      <th>Date</th>\n",
       "      <th>SP500</th>\n",
       "      <th>Dividend</th>\n",
       "      <th>Earnings</th>\n",
       "      <th>Consumer Price Index</th>\n",
       "      <th>Long Interest Rate</th>\n",
       "      <th>Real Price</th>\n",
       "      <th>Real Dividend</th>\n",
       "      <th>Real Earnings</th>\n",
       "      <th>PE10</th>\n",
       "    </tr>\n",
       "  </thead>\n",
       "  <tbody>\n",
       "    <tr>\n",
       "      <th>0</th>\n",
       "      <td>1871-01-01</td>\n",
       "      <td>4.44</td>\n",
       "      <td>0.26</td>\n",
       "      <td>0.4</td>\n",
       "      <td>12.46</td>\n",
       "      <td>5.32</td>\n",
       "      <td>89.00</td>\n",
       "      <td>5.21</td>\n",
       "      <td>8.02</td>\n",
       "      <td>NaN</td>\n",
       "    </tr>\n",
       "    <tr>\n",
       "      <th>1</th>\n",
       "      <td>1871-02-01</td>\n",
       "      <td>4.50</td>\n",
       "      <td>0.26</td>\n",
       "      <td>0.4</td>\n",
       "      <td>12.84</td>\n",
       "      <td>5.32</td>\n",
       "      <td>87.53</td>\n",
       "      <td>5.06</td>\n",
       "      <td>7.78</td>\n",
       "      <td>NaN</td>\n",
       "    </tr>\n",
       "    <tr>\n",
       "      <th>2</th>\n",
       "      <td>1871-03-01</td>\n",
       "      <td>4.61</td>\n",
       "      <td>0.26</td>\n",
       "      <td>0.4</td>\n",
       "      <td>13.03</td>\n",
       "      <td>5.33</td>\n",
       "      <td>88.36</td>\n",
       "      <td>4.98</td>\n",
       "      <td>7.67</td>\n",
       "      <td>NaN</td>\n",
       "    </tr>\n",
       "    <tr>\n",
       "      <th>3</th>\n",
       "      <td>1871-04-01</td>\n",
       "      <td>4.74</td>\n",
       "      <td>0.26</td>\n",
       "      <td>0.4</td>\n",
       "      <td>12.56</td>\n",
       "      <td>5.33</td>\n",
       "      <td>94.29</td>\n",
       "      <td>5.17</td>\n",
       "      <td>7.96</td>\n",
       "      <td>NaN</td>\n",
       "    </tr>\n",
       "    <tr>\n",
       "      <th>4</th>\n",
       "      <td>1871-05-01</td>\n",
       "      <td>4.86</td>\n",
       "      <td>0.26</td>\n",
       "      <td>0.4</td>\n",
       "      <td>12.27</td>\n",
       "      <td>5.33</td>\n",
       "      <td>98.93</td>\n",
       "      <td>5.29</td>\n",
       "      <td>8.14</td>\n",
       "      <td>NaN</td>\n",
       "    </tr>\n",
       "    <tr>\n",
       "      <th>5</th>\n",
       "      <td>1871-06-01</td>\n",
       "      <td>4.82</td>\n",
       "      <td>0.26</td>\n",
       "      <td>0.4</td>\n",
       "      <td>12.08</td>\n",
       "      <td>5.34</td>\n",
       "      <td>99.66</td>\n",
       "      <td>5.38</td>\n",
       "      <td>8.27</td>\n",
       "      <td>NaN</td>\n",
       "    </tr>\n",
       "  </tbody>\n",
       "</table>\n",
       "</div>"
      ],
      "text/plain": [
       "         Date  SP500  Dividend  Earnings  Consumer Price Index  \\\n",
       "0  1871-01-01   4.44      0.26       0.4                 12.46   \n",
       "1  1871-02-01   4.50      0.26       0.4                 12.84   \n",
       "2  1871-03-01   4.61      0.26       0.4                 13.03   \n",
       "3  1871-04-01   4.74      0.26       0.4                 12.56   \n",
       "4  1871-05-01   4.86      0.26       0.4                 12.27   \n",
       "5  1871-06-01   4.82      0.26       0.4                 12.08   \n",
       "\n",
       "   Long Interest Rate  Real Price  Real Dividend  Real Earnings  PE10  \n",
       "0                5.32       89.00           5.21           8.02   NaN  \n",
       "1                5.32       87.53           5.06           7.78   NaN  \n",
       "2                5.33       88.36           4.98           7.67   NaN  \n",
       "3                5.33       94.29           5.17           7.96   NaN  \n",
       "4                5.33       98.93           5.29           8.14   NaN  \n",
       "5                5.34       99.66           5.38           8.27   NaN  "
      ]
     },
     "execution_count": 5,
     "metadata": {},
     "output_type": "execute_result"
    }
   ],
   "source": [
    "df = pd.read_csv(\"s&p500.csv\", infer_datetime_format = True)\n",
    "df.head(6)"
   ]
  },
  {
   "cell_type": "markdown",
   "id": "55e554b9-303d-42c5-a015-6029695a8d31",
   "metadata": {},
   "source": [
    "### Step 1: Create the bins"
   ]
  },
  {
   "cell_type": "markdown",
   "id": "97d5eb56-e8ef-4128-8820-1e1bd947afbe",
   "metadata": {},
   "source": [
    "What do we want to do:\n",
    "1. Create a bin for each time_stamp"
   ]
  },
  {
   "cell_type": "code",
   "execution_count": 6,
   "id": "6803e777-eed2-4435-acdb-b02ce54966bb",
   "metadata": {},
   "outputs": [],
   "source": [
    "df['Date'] = pd.to_datetime(df['Date'])"
   ]
  },
  {
   "cell_type": "code",
   "execution_count": 37,
   "id": "c2e33146-da93-4e10-ac46-cb54c5f5d985",
   "metadata": {},
   "outputs": [
    {
     "data": {
      "text/html": [
       "<div>\n",
       "<style scoped>\n",
       "    .dataframe tbody tr th:only-of-type {\n",
       "        vertical-align: middle;\n",
       "    }\n",
       "\n",
       "    .dataframe tbody tr th {\n",
       "        vertical-align: top;\n",
       "    }\n",
       "\n",
       "    .dataframe thead th {\n",
       "        text-align: right;\n",
       "    }\n",
       "</style>\n",
       "<table border=\"1\" class=\"dataframe\">\n",
       "  <thead>\n",
       "    <tr style=\"text-align: right;\">\n",
       "      <th></th>\n",
       "      <th>Date</th>\n",
       "      <th>SP500</th>\n",
       "      <th>Dividend</th>\n",
       "      <th>Earnings</th>\n",
       "      <th>Consumer Price Index</th>\n",
       "      <th>Long Interest Rate</th>\n",
       "      <th>Real Price</th>\n",
       "      <th>Real Dividend</th>\n",
       "      <th>Real Earnings</th>\n",
       "      <th>PE10</th>\n",
       "    </tr>\n",
       "  </thead>\n",
       "  <tbody>\n",
       "    <tr>\n",
       "      <th>0</th>\n",
       "      <td>1871-01-01</td>\n",
       "      <td>4.44</td>\n",
       "      <td>0.26</td>\n",
       "      <td>0.40</td>\n",
       "      <td>12.46</td>\n",
       "      <td>5.32</td>\n",
       "      <td>89.00</td>\n",
       "      <td>5.21</td>\n",
       "      <td>8.02</td>\n",
       "      <td>NaN</td>\n",
       "    </tr>\n",
       "    <tr>\n",
       "      <th>1</th>\n",
       "      <td>1871-02-01</td>\n",
       "      <td>4.50</td>\n",
       "      <td>0.26</td>\n",
       "      <td>0.40</td>\n",
       "      <td>12.84</td>\n",
       "      <td>5.32</td>\n",
       "      <td>87.53</td>\n",
       "      <td>5.06</td>\n",
       "      <td>7.78</td>\n",
       "      <td>NaN</td>\n",
       "    </tr>\n",
       "    <tr>\n",
       "      <th>2</th>\n",
       "      <td>1871-03-01</td>\n",
       "      <td>4.61</td>\n",
       "      <td>0.26</td>\n",
       "      <td>0.40</td>\n",
       "      <td>13.03</td>\n",
       "      <td>5.33</td>\n",
       "      <td>88.36</td>\n",
       "      <td>4.98</td>\n",
       "      <td>7.67</td>\n",
       "      <td>NaN</td>\n",
       "    </tr>\n",
       "    <tr>\n",
       "      <th>3</th>\n",
       "      <td>1871-04-01</td>\n",
       "      <td>4.74</td>\n",
       "      <td>0.26</td>\n",
       "      <td>0.40</td>\n",
       "      <td>12.56</td>\n",
       "      <td>5.33</td>\n",
       "      <td>94.29</td>\n",
       "      <td>5.17</td>\n",
       "      <td>7.96</td>\n",
       "      <td>NaN</td>\n",
       "    </tr>\n",
       "    <tr>\n",
       "      <th>4</th>\n",
       "      <td>1871-05-01</td>\n",
       "      <td>4.86</td>\n",
       "      <td>0.26</td>\n",
       "      <td>0.40</td>\n",
       "      <td>12.27</td>\n",
       "      <td>5.33</td>\n",
       "      <td>98.93</td>\n",
       "      <td>5.29</td>\n",
       "      <td>8.14</td>\n",
       "      <td>NaN</td>\n",
       "    </tr>\n",
       "    <tr>\n",
       "      <th>...</th>\n",
       "      <td>...</td>\n",
       "      <td>...</td>\n",
       "      <td>...</td>\n",
       "      <td>...</td>\n",
       "      <td>...</td>\n",
       "      <td>...</td>\n",
       "      <td>...</td>\n",
       "      <td>...</td>\n",
       "      <td>...</td>\n",
       "      <td>...</td>\n",
       "    </tr>\n",
       "    <tr>\n",
       "      <th>1763</th>\n",
       "      <td>2017-01-12</td>\n",
       "      <td>2664.34</td>\n",
       "      <td>48.93</td>\n",
       "      <td>109.88</td>\n",
       "      <td>246.52</td>\n",
       "      <td>2.40</td>\n",
       "      <td>2700.13</td>\n",
       "      <td>49.59</td>\n",
       "      <td>111.36</td>\n",
       "      <td>32.09</td>\n",
       "    </tr>\n",
       "    <tr>\n",
       "      <th>1764</th>\n",
       "      <td>2018-01-01</td>\n",
       "      <td>2789.80</td>\n",
       "      <td>49.29</td>\n",
       "      <td>NaN</td>\n",
       "      <td>247.87</td>\n",
       "      <td>2.58</td>\n",
       "      <td>2811.96</td>\n",
       "      <td>49.68</td>\n",
       "      <td>NaN</td>\n",
       "      <td>33.31</td>\n",
       "    </tr>\n",
       "    <tr>\n",
       "      <th>1765</th>\n",
       "      <td>2018-01-02</td>\n",
       "      <td>2705.16</td>\n",
       "      <td>49.64</td>\n",
       "      <td>NaN</td>\n",
       "      <td>248.99</td>\n",
       "      <td>2.86</td>\n",
       "      <td>2714.34</td>\n",
       "      <td>49.81</td>\n",
       "      <td>NaN</td>\n",
       "      <td>32.12</td>\n",
       "    </tr>\n",
       "    <tr>\n",
       "      <th>1766</th>\n",
       "      <td>2018-01-03</td>\n",
       "      <td>2702.77</td>\n",
       "      <td>50.00</td>\n",
       "      <td>NaN</td>\n",
       "      <td>249.55</td>\n",
       "      <td>2.84</td>\n",
       "      <td>2705.82</td>\n",
       "      <td>50.06</td>\n",
       "      <td>NaN</td>\n",
       "      <td>31.99</td>\n",
       "    </tr>\n",
       "    <tr>\n",
       "      <th>1767</th>\n",
       "      <td>2018-01-04</td>\n",
       "      <td>2642.19</td>\n",
       "      <td>NaN</td>\n",
       "      <td>NaN</td>\n",
       "      <td>249.84</td>\n",
       "      <td>2.80</td>\n",
       "      <td>2642.19</td>\n",
       "      <td>NaN</td>\n",
       "      <td>NaN</td>\n",
       "      <td>31.19</td>\n",
       "    </tr>\n",
       "  </tbody>\n",
       "</table>\n",
       "<p>1768 rows × 10 columns</p>\n",
       "</div>"
      ],
      "text/plain": [
       "           Date    SP500  Dividend  Earnings  Consumer Price Index  \\\n",
       "0    1871-01-01     4.44      0.26      0.40                 12.46   \n",
       "1    1871-02-01     4.50      0.26      0.40                 12.84   \n",
       "2    1871-03-01     4.61      0.26      0.40                 13.03   \n",
       "3    1871-04-01     4.74      0.26      0.40                 12.56   \n",
       "4    1871-05-01     4.86      0.26      0.40                 12.27   \n",
       "...         ...      ...       ...       ...                   ...   \n",
       "1763 2017-01-12  2664.34     48.93    109.88                246.52   \n",
       "1764 2018-01-01  2789.80     49.29       NaN                247.87   \n",
       "1765 2018-01-02  2705.16     49.64       NaN                248.99   \n",
       "1766 2018-01-03  2702.77     50.00       NaN                249.55   \n",
       "1767 2018-01-04  2642.19       NaN       NaN                249.84   \n",
       "\n",
       "      Long Interest Rate  Real Price  Real Dividend  Real Earnings   PE10  \n",
       "0                   5.32       89.00           5.21           8.02    NaN  \n",
       "1                   5.32       87.53           5.06           7.78    NaN  \n",
       "2                   5.33       88.36           4.98           7.67    NaN  \n",
       "3                   5.33       94.29           5.17           7.96    NaN  \n",
       "4                   5.33       98.93           5.29           8.14    NaN  \n",
       "...                  ...         ...            ...            ...    ...  \n",
       "1763                2.40     2700.13          49.59         111.36  32.09  \n",
       "1764                2.58     2811.96          49.68            NaN  33.31  \n",
       "1765                2.86     2714.34          49.81            NaN  32.12  \n",
       "1766                2.84     2705.82          50.06            NaN  31.99  \n",
       "1767                2.80     2642.19            NaN            NaN  31.19  \n",
       "\n",
       "[1768 rows x 10 columns]"
      ]
     },
     "execution_count": 37,
     "metadata": {},
     "output_type": "execute_result"
    }
   ],
   "source": [
    "df"
   ]
  },
  {
   "cell_type": "code",
   "execution_count": 9,
   "id": "d9fb8898-174b-4eb4-a3fb-53fe94b720a9",
   "metadata": {},
   "outputs": [],
   "source": [
    "a = pd.to_datetime(df['Date'])"
   ]
  },
  {
   "cell_type": "markdown",
   "id": "4e026720-aeb1-4075-868b-27f2929eb999",
   "metadata": {},
   "source": [
    "Make a new column that tells the bins that it has"
   ]
  },
  {
   "cell_type": "code",
   "execution_count": 61,
   "id": "eb34b23e-dff1-449b-acbe-2c5c0ba141a8",
   "metadata": {},
   "outputs": [
    {
     "name": "stdout",
     "output_type": "stream",
     "text": [
      "1768\n",
      "1769\n",
      "180\n"
     ]
    }
   ],
   "source": [
    "print(len(a))\n",
    "rows = 1769\n",
    "print(rows)\n",
    "bin_size = 15*12\n",
    "print(bin_size)"
   ]
  },
  {
   "cell_type": "code",
   "execution_count": 13,
   "id": "b41a14ff-4c5b-4d29-a89f-a78c0b61e160",
   "metadata": {},
   "outputs": [],
   "source": [
    "col_names = []\n",
    "for i in range(len(a)):\n",
    "    col_names.append(\"bin_\"+str(i)) "
   ]
  },
  {
   "cell_type": "code",
   "execution_count": 15,
   "id": "80b799e5-80fd-476a-952c-3577e73d490f",
   "metadata": {},
   "outputs": [
    {
     "data": {
      "text/html": [
       "<div>\n",
       "<style scoped>\n",
       "    .dataframe tbody tr th:only-of-type {\n",
       "        vertical-align: middle;\n",
       "    }\n",
       "\n",
       "    .dataframe tbody tr th {\n",
       "        vertical-align: top;\n",
       "    }\n",
       "\n",
       "    .dataframe thead th {\n",
       "        text-align: right;\n",
       "    }\n",
       "</style>\n",
       "<table border=\"1\" class=\"dataframe\">\n",
       "  <thead>\n",
       "    <tr style=\"text-align: right;\">\n",
       "      <th></th>\n",
       "      <th>bin_0</th>\n",
       "      <th>bin_1</th>\n",
       "      <th>bin_2</th>\n",
       "      <th>bin_3</th>\n",
       "      <th>bin_4</th>\n",
       "      <th>bin_5</th>\n",
       "      <th>bin_6</th>\n",
       "      <th>bin_7</th>\n",
       "      <th>bin_8</th>\n",
       "      <th>bin_9</th>\n",
       "      <th>...</th>\n",
       "      <th>bin_1758</th>\n",
       "      <th>bin_1759</th>\n",
       "      <th>bin_1760</th>\n",
       "      <th>bin_1761</th>\n",
       "      <th>bin_1762</th>\n",
       "      <th>bin_1763</th>\n",
       "      <th>bin_1764</th>\n",
       "      <th>bin_1765</th>\n",
       "      <th>bin_1766</th>\n",
       "      <th>bin_1767</th>\n",
       "    </tr>\n",
       "  </thead>\n",
       "  <tbody>\n",
       "  </tbody>\n",
       "</table>\n",
       "<p>0 rows × 1768 columns</p>\n",
       "</div>"
      ],
      "text/plain": [
       "Empty DataFrame\n",
       "Columns: [bin_0, bin_1, bin_2, bin_3, bin_4, bin_5, bin_6, bin_7, bin_8, bin_9, bin_10, bin_11, bin_12, bin_13, bin_14, bin_15, bin_16, bin_17, bin_18, bin_19, bin_20, bin_21, bin_22, bin_23, bin_24, bin_25, bin_26, bin_27, bin_28, bin_29, bin_30, bin_31, bin_32, bin_33, bin_34, bin_35, bin_36, bin_37, bin_38, bin_39, bin_40, bin_41, bin_42, bin_43, bin_44, bin_45, bin_46, bin_47, bin_48, bin_49, bin_50, bin_51, bin_52, bin_53, bin_54, bin_55, bin_56, bin_57, bin_58, bin_59, bin_60, bin_61, bin_62, bin_63, bin_64, bin_65, bin_66, bin_67, bin_68, bin_69, bin_70, bin_71, bin_72, bin_73, bin_74, bin_75, bin_76, bin_77, bin_78, bin_79, bin_80, bin_81, bin_82, bin_83, bin_84, bin_85, bin_86, bin_87, bin_88, bin_89, bin_90, bin_91, bin_92, bin_93, bin_94, bin_95, bin_96, bin_97, bin_98, bin_99, ...]\n",
       "Index: []\n",
       "\n",
       "[0 rows x 1768 columns]"
      ]
     },
     "execution_count": 15,
     "metadata": {},
     "output_type": "execute_result"
    }
   ],
   "source": [
    "bins = pd.DataFrame(columns = col_names)\n",
    "bins = bins.reindex(list(range(0, 1770))).reset_index(drop=True)\n",
    "bins"
   ]
  },
  {
   "cell_type": "code",
   "execution_count": 29,
   "id": "4f38d0ac-1a53-4614-b581-54043bf0bb2c",
   "metadata": {
    "tags": []
   },
   "outputs": [
    {
     "data": {
      "text/plain": [
       "Index(['bin_0', 'bin_1', 'bin_2', 'bin_3', 'bin_4', 'bin_5', 'bin_6', 'bin_7',\n",
       "       'bin_8', 'bin_9',\n",
       "       ...\n",
       "       'bin_1758', 'bin_1759', 'bin_1760', 'bin_1761', 'bin_1762', 'bin_1763',\n",
       "       'bin_1764', 'bin_1765', 'bin_1766', 'bin_1767'],\n",
       "      dtype='object', length=1768)"
      ]
     },
     "execution_count": 29,
     "metadata": {},
     "output_type": "execute_result"
    }
   ],
   "source": [
    "n = rows\n",
    "lists = [[] for _ in range(n)]\n",
    "lists\n",
    "bins.columns"
   ]
  },
  {
   "cell_type": "code",
   "execution_count": 31,
   "id": "3d729d2b-0836-4f37-b731-46e8b7010eac",
   "metadata": {},
   "outputs": [],
   "source": [
    "columns = len(bins.columns)"
   ]
  },
  {
   "cell_type": "code",
   "execution_count": 55,
   "id": "e21c33d2-c73b-494f-9d2d-d39b6577d0bf",
   "metadata": {},
   "outputs": [
    {
     "name": "stdout",
     "output_type": "stream",
     "text": [
      "1770\n",
      "1768\n",
      "180\n"
     ]
    }
   ],
   "source": [
    "print(len(bins))\n",
    "print(len(bins.columns))\n",
    "print(bin_size)"
   ]
  },
  {
   "cell_type": "code",
   "execution_count": 56,
   "id": "aecaf4cc-3607-4eb8-bb09-73081b24538f",
   "metadata": {},
   "outputs": [],
   "source": [
    "def create_empty_lists():    \n",
    "    n = 1768\n",
    "    lists = [[] for _ in range(n)]\n",
    "    return lists\n",
    "lists = create_empty_lists()"
   ]
  },
  {
   "cell_type": "code",
   "execution_count": 57,
   "id": "074e071b-444c-4534-9050-23eb0ec54ca2",
   "metadata": {},
   "outputs": [],
   "source": [
    "def bin_defined(columns, rows, bin_size, empty_list):\n",
    "    for i in range(len(columns)): ## For each bin (column)\n",
    "        for y in range(rows): #for each row\n",
    "            if i <= y <= i+bin_size: ##for each index within our bin our length assign the index to the correct bin \n",
    "                lists[i].append(1)\n",
    "            else:\n",
    "                lists[i].append(0)\n",
    "    return lists\n",
    "l_of_l = bin_defined(columns = bins.columns, rows = len(bins), bin_size = 180, empty_list = lists)"
   ]
  },
  {
   "cell_type": "code",
   "execution_count": 58,
   "id": "16319c9b-a8ad-4b0a-9b18-2567b8169941",
   "metadata": {
    "tags": []
   },
   "outputs": [],
   "source": [
    "def convert_dataframe(l_of_l):\n",
    "    col_names = []\n",
    "    \n",
    "    df = pd.DataFrame(l_of_l)\n",
    "    df = df.iloc[:,:-2]\n",
    "    df = df.transpose()\n",
    "\n",
    "    \n",
    "    for i in range(1768):\n",
    "        col_names.append(\"bin_\" + str(i))\n",
    "    df.columns = [col_names]\n",
    "    \n",
    "    return df \n",
    "df = convert_dataframe(l_of_l)"
   ]
  },
  {
   "cell_type": "markdown",
   "id": "0f71b124-5aa2-462b-a7a4-48b635ba4c2a",
   "metadata": {},
   "source": [
    "### Step 2: Map these bins to the data that we have"
   ]
  },
  {
   "cell_type": "code",
   "execution_count": null,
   "id": "41d9f2d1-c148-443c-9d36-75525f122681",
   "metadata": {},
   "outputs": [],
   "source": []
  },
  {
   "cell_type": "markdown",
   "id": "1b5dd665-d37b-42e5-a62a-a7f5da38e690",
   "metadata": {},
   "source": [
    "### Step 3: Do an OLS regression for each bin"
   ]
  }
 ],
 "metadata": {
  "kernelspec": {
   "display_name": "standard-env",
   "language": "python",
   "name": "standard-env"
  },
  "language_info": {
   "codemirror_mode": {
    "name": "ipython",
    "version": 3
   },
   "file_extension": ".py",
   "mimetype": "text/x-python",
   "name": "python",
   "nbconvert_exporter": "python",
   "pygments_lexer": "ipython3",
   "version": "3.9.12"
  }
 },
 "nbformat": 4,
 "nbformat_minor": 5
}
