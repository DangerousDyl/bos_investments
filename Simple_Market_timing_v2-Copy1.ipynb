{
 "cells": [
  {
   "cell_type": "markdown",
   "id": "3127f69f-ab05-4dbe-b7d9-d7d79321924a",
   "metadata": {},
   "source": [
    "# A Simple Market Timing Algorithm"
   ]
  },
  {
   "cell_type": "markdown",
   "id": "1a496a82-372b-442b-a5b8-81723469020c",
   "metadata": {
    "tags": []
   },
   "source": [
    "## 1 - Introduction"
   ]
  },
  {
   "cell_type": "markdown",
   "id": "f1745c69-0c36-41f3-93c9-303800e89498",
   "metadata": {},
   "source": [
    "### 1.1 - Background\n",
    "This notebook takes the simplest iteration that was discovered out of the market timing research  as a proof of concept. \n",
    "\n",
    "\n",
    "***Key Goal***: Market Timing Algoithm that buys when the price is relatively high and sell when the price is relatively low.\n",
    "- *Pricing Mechanism*: OLS Time Series Regression\n",
    "- *Timing Mechanism*: Average of the Absolute Value of the Standard Error\n",
    "- *Buy/Sell Weight Mechanism*: Simple percent, with simple sophistications around momentum\n",
    "\n",
    "These will de discussed in more detail in the relevant sections.\n"
   ]
  },
  {
   "cell_type": "code",
   "execution_count": 1,
   "id": "1870f870-c551-4a89-8d99-3d946f1e1cd5",
   "metadata": {},
   "outputs": [
    {
     "data": {
      "text/html": [
       "<style>\n",
       "table {float:left}\n",
       "</style>\n"
      ],
      "text/plain": [
       "<IPython.core.display.HTML object>"
      ]
     },
     "metadata": {},
     "output_type": "display_data"
    }
   ],
   "source": [
    "%%html \n",
    "<style>\n",
    "table {float:left}\n",
    "</style>"
   ]
  },
  {
   "cell_type": "markdown",
   "id": "4e9538cc-b5bd-4d2b-841b-e6f6a4ef50f8",
   "metadata": {},
   "source": [
    "### 1.2 - Data\n",
    "This model uses daily S&P500 data. <br>\n",
    "*Source:* https://www.kaggle.com/datasets/pdquant/sp500-daily-19862018?resource=download\n",
    "\n",
    "\n",
    "| Metric      | Value       | Metric      | Value       |\n",
    "| ----------- | ----------- | ----------- | ----------- |\n",
    "| Frequency   | Daily (B)   | Count       | 8192        |\n",
    "| Start Year  | 02-Jan-1986 | Mean        | 1070        |\n",
    "| End Year    | 29-Jun-2018 | Max         | 2872        | \n",
    "| Periods     | 8192        | StD         | 616         |\n"
   ]
  },
  {
   "cell_type": "markdown",
   "id": "d6bf93c0-be58-4300-846f-6853a75d5336",
   "metadata": {},
   "source": [
    "### 1.3 - Inflation\n",
    "In order to adjust for the real value of money, we adjust our dataset using monthly CPI data. Note that there is a period mismatch between our daily stock data and monthly inflation data. To solve this, inflation is assumed constant to be constant for the whole month. \n",
    "- *Source*: https://data.bls.gov/\n",
    "- *Series Title*: All items in U.S. city average, all urban consumers, not seasonally adjusted\n",
    "- *Area*: U.S. city average\n",
    "- *Base Period*:  1982-84=100\n",
    "\n",
    "\n",
    "<div class=\"alert alert-block alert-info\">\n",
    "<b>Theory</b> <br><em>Inflation adjustment, or \"deflation\", is accomplished by dividing a monetary time series by a price index, such as the Consumer Price Index (CPI). The deflated series is then said to be measured in \"constant dollars,\" whereas the original series was measured in \"nominal dollars\" or \"current dollars.\"</em> <br> Source:https://people.duke.edu/~rnau/411infla.htm\n",
    "</div>"
   ]
  },
  {
   "cell_type": "markdown",
   "id": "9ab649ab-386c-4d7b-bd69-29ea8c864624",
   "metadata": {
    "tags": []
   },
   "source": [
    "## 2 - Preparing S&P Data"
   ]
  },
  {
   "cell_type": "markdown",
   "id": "0c803da3-695a-455a-9d2f-20e0f76f3b34",
   "metadata": {
    "tags": []
   },
   "source": [
    "### 2.1 - Importing modules"
   ]
  },
  {
   "cell_type": "code",
   "execution_count": 2,
   "id": "f59878d9-6f48-408d-b84a-f95208fbcc7a",
   "metadata": {},
   "outputs": [],
   "source": [
    "import os\n",
    "import pandas as pd \n",
    "import numpy as np \n",
    "import matplotlib as plt \n",
    "import seaborn as sns\n",
    "from datetime import datetime\n",
    "import matplotlib.pyplot as plt\n",
    "import statsmodels.api as sm\n",
    "from sklearn import linear_model\n",
    "sns.set_style(\"white\")\n",
    "sns.set_palette(\"deep\")"
   ]
  },
  {
   "cell_type": "markdown",
   "id": "9fcd141e-fe67-4654-88a6-c571c27f54fd",
   "metadata": {},
   "source": [
    "### 2.2 - Changing the directory"
   ]
  },
  {
   "cell_type": "code",
   "execution_count": 3,
   "id": "ede1a0d1-8aa2-4fed-9294-174c3e4809cb",
   "metadata": {},
   "outputs": [
    {
     "data": {
      "text/plain": [
       "'C:\\\\Users\\\\alexb\\\\OneDrive\\\\Documents\\\\02 - Work\\\\coding\\\\TimeSeries'"
      ]
     },
     "execution_count": 3,
     "metadata": {},
     "output_type": "execute_result"
    }
   ],
   "source": [
    "env = os.chdir(r'C:\\Users\\alexb\\OneDrive\\Documents\\02 - Work\\coding\\TimeSeries')\n",
    "path = os.getcwd()\n",
    "path"
   ]
  },
  {
   "cell_type": "markdown",
   "id": "dc567bb6-f94c-4976-ae67-244e292c054b",
   "metadata": {},
   "source": [
    "### 2.3 - Downloading the data"
   ]
  },
  {
   "cell_type": "code",
   "execution_count": 4,
   "id": "16f2277e-0911-41d9-a8e0-2f7517e52b87",
   "metadata": {},
   "outputs": [
    {
     "data": {
      "text/html": [
       "<div>\n",
       "<style scoped>\n",
       "    .dataframe tbody tr th:only-of-type {\n",
       "        vertical-align: middle;\n",
       "    }\n",
       "\n",
       "    .dataframe tbody tr th {\n",
       "        vertical-align: top;\n",
       "    }\n",
       "\n",
       "    .dataframe thead th {\n",
       "        text-align: right;\n",
       "    }\n",
       "</style>\n",
       "<table border=\"1\" class=\"dataframe\">\n",
       "  <thead>\n",
       "    <tr style=\"text-align: right;\">\n",
       "      <th></th>\n",
       "      <th>date</th>\n",
       "      <th>close</th>\n",
       "    </tr>\n",
       "  </thead>\n",
       "  <tbody>\n",
       "    <tr>\n",
       "      <th>0</th>\n",
       "      <td>1986-01-02</td>\n",
       "      <td>209.59</td>\n",
       "    </tr>\n",
       "    <tr>\n",
       "      <th>1</th>\n",
       "      <td>1986-01-03</td>\n",
       "      <td>210.88</td>\n",
       "    </tr>\n",
       "    <tr>\n",
       "      <th>2</th>\n",
       "      <td>1986-01-06</td>\n",
       "      <td>210.65</td>\n",
       "    </tr>\n",
       "    <tr>\n",
       "      <th>3</th>\n",
       "      <td>1986-01-07</td>\n",
       "      <td>213.80</td>\n",
       "    </tr>\n",
       "    <tr>\n",
       "      <th>4</th>\n",
       "      <td>1986-01-08</td>\n",
       "      <td>207.97</td>\n",
       "    </tr>\n",
       "  </tbody>\n",
       "</table>\n",
       "</div>"
      ],
      "text/plain": [
       "        date   close\n",
       "0 1986-01-02  209.59\n",
       "1 1986-01-03  210.88\n",
       "2 1986-01-06  210.65\n",
       "3 1986-01-07  213.80\n",
       "4 1986-01-08  207.97"
      ]
     },
     "execution_count": 4,
     "metadata": {},
     "output_type": "execute_result"
    }
   ],
   "source": [
    "df1 = pd.read_csv(\"spx.csv\", infer_datetime_format = True)\n",
    "df1['date'] = pd.to_datetime(df1['date'])   # Setting date to datetime format. Don't rerun \n",
    "\n",
    "df1.head(5)"
   ]
  },
  {
   "cell_type": "code",
   "execution_count": 5,
   "id": "9baeda73-6550-4df3-9185-69aaf8068b13",
   "metadata": {},
   "outputs": [
    {
     "data": {
      "text/plain": [
       "date     datetime64[ns]\n",
       "close           float64\n",
       "dtype: object"
      ]
     },
     "execution_count": 5,
     "metadata": {},
     "output_type": "execute_result"
    }
   ],
   "source": [
    "df1.dtypes"
   ]
  },
  {
   "cell_type": "markdown",
   "id": "417f72a8-fef3-4d1e-bb6b-904f2e6af6f9",
   "metadata": {
    "tags": []
   },
   "source": [
    "### 2.4 - Creating iterable index column"
   ]
  },
  {
   "cell_type": "markdown",
   "id": "0be9caac-e2a8-427f-8172-dfad366eb631",
   "metadata": {},
   "source": [
    "This will make our life easier as we begin looping through the set"
   ]
  },
  {
   "cell_type": "code",
   "execution_count": 6,
   "id": "90e5f7f4-eba4-4f26-a942-88c1492730ec",
   "metadata": {},
   "outputs": [
    {
     "data": {
      "text/html": [
       "<div>\n",
       "<style scoped>\n",
       "    .dataframe tbody tr th:only-of-type {\n",
       "        vertical-align: middle;\n",
       "    }\n",
       "\n",
       "    .dataframe tbody tr th {\n",
       "        vertical-align: top;\n",
       "    }\n",
       "\n",
       "    .dataframe thead th {\n",
       "        text-align: right;\n",
       "    }\n",
       "</style>\n",
       "<table border=\"1\" class=\"dataframe\">\n",
       "  <thead>\n",
       "    <tr style=\"text-align: right;\">\n",
       "      <th></th>\n",
       "      <th>date</th>\n",
       "      <th>close</th>\n",
       "      <th>index</th>\n",
       "    </tr>\n",
       "  </thead>\n",
       "  <tbody>\n",
       "    <tr>\n",
       "      <th>8187</th>\n",
       "      <td>2018-06-25</td>\n",
       "      <td>2717.07</td>\n",
       "      <td>8187</td>\n",
       "    </tr>\n",
       "    <tr>\n",
       "      <th>8188</th>\n",
       "      <td>2018-06-26</td>\n",
       "      <td>2723.06</td>\n",
       "      <td>8188</td>\n",
       "    </tr>\n",
       "    <tr>\n",
       "      <th>8189</th>\n",
       "      <td>2018-06-27</td>\n",
       "      <td>2699.63</td>\n",
       "      <td>8189</td>\n",
       "    </tr>\n",
       "    <tr>\n",
       "      <th>8190</th>\n",
       "      <td>2018-06-28</td>\n",
       "      <td>2716.31</td>\n",
       "      <td>8190</td>\n",
       "    </tr>\n",
       "    <tr>\n",
       "      <th>8191</th>\n",
       "      <td>2018-06-29</td>\n",
       "      <td>2718.37</td>\n",
       "      <td>8191</td>\n",
       "    </tr>\n",
       "  </tbody>\n",
       "</table>\n",
       "</div>"
      ],
      "text/plain": [
       "           date    close  index\n",
       "8187 2018-06-25  2717.07   8187\n",
       "8188 2018-06-26  2723.06   8188\n",
       "8189 2018-06-27  2699.63   8189\n",
       "8190 2018-06-28  2716.31   8190\n",
       "8191 2018-06-29  2718.37   8191"
      ]
     },
     "execution_count": 6,
     "metadata": {},
     "output_type": "execute_result"
    }
   ],
   "source": [
    "df1['index'] = df1.index.values\n",
    "df1.tail(5)"
   ]
  },
  {
   "cell_type": "markdown",
   "id": "1dacd320-0d53-4d24-b74b-4b2b422c02be",
   "metadata": {
    "tags": []
   },
   "source": [
    "### Section 2 Output\n",
    "\n",
    "*Dataframes*\n",
    "- df1: S&P 500 daily close\n",
    "    - Date (datetime format)\n",
    "    - Close (float)\n",
    "    - Index (int)"
   ]
  },
  {
   "cell_type": "markdown",
   "id": "2121319a-237f-48ee-85f5-6e87fd6e5b62",
   "metadata": {
    "tags": []
   },
   "source": [
    "## 3 - Adjusting for Inflation"
   ]
  },
  {
   "cell_type": "markdown",
   "id": "1dd85bac-97d8-47b7-9c93-bc80a8987b51",
   "metadata": {
    "tags": []
   },
   "source": [
    "### 3.1 - Importing Inflation Dataset"
   ]
  },
  {
   "cell_type": "code",
   "execution_count": 7,
   "id": "73a16f2c-28c7-4ac9-bd3b-741ed6527cd3",
   "metadata": {},
   "outputs": [],
   "source": [
    "cpi = pd.read_csv(\"cpi.csv\", infer_datetime_format = True)\n",
    "#cpi.head(4)"
   ]
  },
  {
   "cell_type": "code",
   "execution_count": 8,
   "id": "9fd924c9-0d4e-45e5-ae09-6043fbc206a2",
   "metadata": {},
   "outputs": [],
   "source": [
    "cpi['Date'] = pd.to_datetime(cpi['Date'], format='%d-%m-%Y')"
   ]
  },
  {
   "cell_type": "code",
   "execution_count": 9,
   "id": "baee98a2-1212-457e-a84e-1550e34a4707",
   "metadata": {},
   "outputs": [
    {
     "data": {
      "text/html": [
       "<div>\n",
       "<style scoped>\n",
       "    .dataframe tbody tr th:only-of-type {\n",
       "        vertical-align: middle;\n",
       "    }\n",
       "\n",
       "    .dataframe tbody tr th {\n",
       "        vertical-align: top;\n",
       "    }\n",
       "\n",
       "    .dataframe thead th {\n",
       "        text-align: right;\n",
       "    }\n",
       "</style>\n",
       "<table border=\"1\" class=\"dataframe\">\n",
       "  <thead>\n",
       "    <tr style=\"text-align: right;\">\n",
       "      <th></th>\n",
       "      <th>Date</th>\n",
       "      <th>Price</th>\n",
       "    </tr>\n",
       "  </thead>\n",
       "  <tbody>\n",
       "    <tr>\n",
       "      <th>0</th>\n",
       "      <td>1986-01-01</td>\n",
       "      <td>109.6</td>\n",
       "    </tr>\n",
       "    <tr>\n",
       "      <th>1</th>\n",
       "      <td>1986-02-01</td>\n",
       "      <td>109.3</td>\n",
       "    </tr>\n",
       "    <tr>\n",
       "      <th>2</th>\n",
       "      <td>1986-03-01</td>\n",
       "      <td>108.8</td>\n",
       "    </tr>\n",
       "  </tbody>\n",
       "</table>\n",
       "</div>"
      ],
      "text/plain": [
       "        Date  Price\n",
       "0 1986-01-01  109.6\n",
       "1 1986-02-01  109.3\n",
       "2 1986-03-01  108.8"
      ]
     },
     "execution_count": 9,
     "metadata": {},
     "output_type": "execute_result"
    }
   ],
   "source": [
    "cpi.head(3)"
   ]
  },
  {
   "cell_type": "code",
   "execution_count": 10,
   "id": "c7ae2cf6-1c8f-466d-ad4e-86cd474246ef",
   "metadata": {},
   "outputs": [
    {
     "data": {
      "text/plain": [
       "Date     datetime64[ns]\n",
       "Price           float64\n",
       "dtype: object"
      ]
     },
     "execution_count": 10,
     "metadata": {},
     "output_type": "execute_result"
    }
   ],
   "source": [
    "cpi.dtypes"
   ]
  },
  {
   "cell_type": "markdown",
   "id": "c48cf830-8a95-4299-a3ac-1aa21f7d49a9",
   "metadata": {
    "tags": []
   },
   "source": [
    "### 3.2 - Merging CPI Data"
   ]
  },
  {
   "cell_type": "markdown",
   "id": "158039bf-ca40-47b0-94e5-ac1966a2a3ff",
   "metadata": {},
   "source": [
    "Strategy:\n",
    "- Create list of month_year combinations in CPI dataframe\n",
    "- Create list of month_year combinations in S&P dataframe\n",
    "- Merge value if they equal each other"
   ]
  },
  {
   "cell_type": "markdown",
   "id": "1d0dc0fd-acc3-466b-9bb1-37b02015dd1a",
   "metadata": {},
   "source": [
    "#### 3.2.1 - Converting date to monthly for both datasets"
   ]
  },
  {
   "cell_type": "code",
   "execution_count": 11,
   "id": "09253ee2-6b9c-49b6-b9b2-245395dc1a78",
   "metadata": {},
   "outputs": [
    {
     "data": {
      "text/html": [
       "<div>\n",
       "<style scoped>\n",
       "    .dataframe tbody tr th:only-of-type {\n",
       "        vertical-align: middle;\n",
       "    }\n",
       "\n",
       "    .dataframe tbody tr th {\n",
       "        vertical-align: top;\n",
       "    }\n",
       "\n",
       "    .dataframe thead th {\n",
       "        text-align: right;\n",
       "    }\n",
       "</style>\n",
       "<table border=\"1\" class=\"dataframe\">\n",
       "  <thead>\n",
       "    <tr style=\"text-align: right;\">\n",
       "      <th></th>\n",
       "      <th>Date</th>\n",
       "      <th>Price</th>\n",
       "      <th>month_year</th>\n",
       "    </tr>\n",
       "  </thead>\n",
       "  <tbody>\n",
       "    <tr>\n",
       "      <th>0</th>\n",
       "      <td>1986-01-01</td>\n",
       "      <td>109.6</td>\n",
       "      <td>1986-01</td>\n",
       "    </tr>\n",
       "    <tr>\n",
       "      <th>1</th>\n",
       "      <td>1986-02-01</td>\n",
       "      <td>109.3</td>\n",
       "      <td>1986-02</td>\n",
       "    </tr>\n",
       "    <tr>\n",
       "      <th>2</th>\n",
       "      <td>1986-03-01</td>\n",
       "      <td>108.8</td>\n",
       "      <td>1986-03</td>\n",
       "    </tr>\n",
       "    <tr>\n",
       "      <th>3</th>\n",
       "      <td>1986-04-01</td>\n",
       "      <td>108.6</td>\n",
       "      <td>1986-04</td>\n",
       "    </tr>\n",
       "    <tr>\n",
       "      <th>4</th>\n",
       "      <td>1986-05-01</td>\n",
       "      <td>108.9</td>\n",
       "      <td>1986-05</td>\n",
       "    </tr>\n",
       "  </tbody>\n",
       "</table>\n",
       "</div>"
      ],
      "text/plain": [
       "        Date  Price month_year\n",
       "0 1986-01-01  109.6    1986-01\n",
       "1 1986-02-01  109.3    1986-02\n",
       "2 1986-03-01  108.8    1986-03\n",
       "3 1986-04-01  108.6    1986-04\n",
       "4 1986-05-01  108.9    1986-05"
      ]
     },
     "execution_count": 11,
     "metadata": {},
     "output_type": "execute_result"
    }
   ],
   "source": [
    "cpi['month_year'] = cpi['Date'].dt.to_period('M')\n",
    "cpi.head(5)"
   ]
  },
  {
   "cell_type": "code",
   "execution_count": 12,
   "id": "0b917a4f-c1ac-4655-874d-b920d1f83227",
   "metadata": {},
   "outputs": [
    {
     "data": {
      "text/html": [
       "<div>\n",
       "<style scoped>\n",
       "    .dataframe tbody tr th:only-of-type {\n",
       "        vertical-align: middle;\n",
       "    }\n",
       "\n",
       "    .dataframe tbody tr th {\n",
       "        vertical-align: top;\n",
       "    }\n",
       "\n",
       "    .dataframe thead th {\n",
       "        text-align: right;\n",
       "    }\n",
       "</style>\n",
       "<table border=\"1\" class=\"dataframe\">\n",
       "  <thead>\n",
       "    <tr style=\"text-align: right;\">\n",
       "      <th></th>\n",
       "      <th>date</th>\n",
       "      <th>close</th>\n",
       "      <th>index</th>\n",
       "      <th>month_year</th>\n",
       "    </tr>\n",
       "  </thead>\n",
       "  <tbody>\n",
       "    <tr>\n",
       "      <th>0</th>\n",
       "      <td>1986-01-02</td>\n",
       "      <td>209.59</td>\n",
       "      <td>0</td>\n",
       "      <td>1986-01</td>\n",
       "    </tr>\n",
       "    <tr>\n",
       "      <th>1</th>\n",
       "      <td>1986-01-03</td>\n",
       "      <td>210.88</td>\n",
       "      <td>1</td>\n",
       "      <td>1986-01</td>\n",
       "    </tr>\n",
       "    <tr>\n",
       "      <th>2</th>\n",
       "      <td>1986-01-06</td>\n",
       "      <td>210.65</td>\n",
       "      <td>2</td>\n",
       "      <td>1986-01</td>\n",
       "    </tr>\n",
       "    <tr>\n",
       "      <th>3</th>\n",
       "      <td>1986-01-07</td>\n",
       "      <td>213.80</td>\n",
       "      <td>3</td>\n",
       "      <td>1986-01</td>\n",
       "    </tr>\n",
       "    <tr>\n",
       "      <th>4</th>\n",
       "      <td>1986-01-08</td>\n",
       "      <td>207.97</td>\n",
       "      <td>4</td>\n",
       "      <td>1986-01</td>\n",
       "    </tr>\n",
       "  </tbody>\n",
       "</table>\n",
       "</div>"
      ],
      "text/plain": [
       "        date   close  index month_year\n",
       "0 1986-01-02  209.59      0    1986-01\n",
       "1 1986-01-03  210.88      1    1986-01\n",
       "2 1986-01-06  210.65      2    1986-01\n",
       "3 1986-01-07  213.80      3    1986-01\n",
       "4 1986-01-08  207.97      4    1986-01"
      ]
     },
     "execution_count": 12,
     "metadata": {},
     "output_type": "execute_result"
    }
   ],
   "source": [
    "df1['month_year'] = df1['date'].dt.to_period('M')\n",
    "df1.head(5)"
   ]
  },
  {
   "cell_type": "markdown",
   "id": "441d00f3-2117-4894-b514-aa826c335ecb",
   "metadata": {},
   "source": [
    "#### 3.2.2 - Creating lists to append"
   ]
  },
  {
   "cell_type": "code",
   "execution_count": 13,
   "id": "73ba7987-cb9f-4e06-80bc-f6a095b06783",
   "metadata": {},
   "outputs": [
    {
     "data": {
      "text/plain": [
       "0   1986-01-02\n",
       "1   1986-01-03\n",
       "2   1986-01-06\n",
       "3   1986-01-07\n",
       "4   1986-01-08\n",
       "5   1986-01-09\n",
       "Name: date, dtype: datetime64[ns]"
      ]
     },
     "execution_count": 13,
     "metadata": {},
     "output_type": "execute_result"
    }
   ],
   "source": [
    "date_list = pd.to_datetime(df1['date'])\n",
    "date_list.head(6)"
   ]
  },
  {
   "cell_type": "markdown",
   "id": "a3d41c3b-3ae5-4eea-9d4e-016afe835e90",
   "metadata": {},
   "source": [
    "#### 3.2.3 - Appending dats to DF1"
   ]
  },
  {
   "cell_type": "code",
   "execution_count": 14,
   "id": "433f6999-1ad9-4682-8e45-259f330feb3c",
   "metadata": {},
   "outputs": [
    {
     "data": {
      "text/html": [
       "<div>\n",
       "<style scoped>\n",
       "    .dataframe tbody tr th:only-of-type {\n",
       "        vertical-align: middle;\n",
       "    }\n",
       "\n",
       "    .dataframe tbody tr th {\n",
       "        vertical-align: top;\n",
       "    }\n",
       "\n",
       "    .dataframe thead th {\n",
       "        text-align: right;\n",
       "    }\n",
       "</style>\n",
       "<table border=\"1\" class=\"dataframe\">\n",
       "  <thead>\n",
       "    <tr style=\"text-align: right;\">\n",
       "      <th></th>\n",
       "      <th>date</th>\n",
       "      <th>close</th>\n",
       "      <th>index</th>\n",
       "      <th>month_year</th>\n",
       "      <th>cpi</th>\n",
       "    </tr>\n",
       "  </thead>\n",
       "  <tbody>\n",
       "    <tr>\n",
       "      <th>8187</th>\n",
       "      <td>2018-06-25</td>\n",
       "      <td>2717.07</td>\n",
       "      <td>8187</td>\n",
       "      <td>2018-06</td>\n",
       "      <td>251.989</td>\n",
       "    </tr>\n",
       "    <tr>\n",
       "      <th>8188</th>\n",
       "      <td>2018-06-26</td>\n",
       "      <td>2723.06</td>\n",
       "      <td>8188</td>\n",
       "      <td>2018-06</td>\n",
       "      <td>251.989</td>\n",
       "    </tr>\n",
       "    <tr>\n",
       "      <th>8189</th>\n",
       "      <td>2018-06-27</td>\n",
       "      <td>2699.63</td>\n",
       "      <td>8189</td>\n",
       "      <td>2018-06</td>\n",
       "      <td>251.989</td>\n",
       "    </tr>\n",
       "    <tr>\n",
       "      <th>8190</th>\n",
       "      <td>2018-06-28</td>\n",
       "      <td>2716.31</td>\n",
       "      <td>8190</td>\n",
       "      <td>2018-06</td>\n",
       "      <td>251.989</td>\n",
       "    </tr>\n",
       "    <tr>\n",
       "      <th>8191</th>\n",
       "      <td>2018-06-29</td>\n",
       "      <td>2718.37</td>\n",
       "      <td>8191</td>\n",
       "      <td>2018-06</td>\n",
       "      <td>251.989</td>\n",
       "    </tr>\n",
       "  </tbody>\n",
       "</table>\n",
       "</div>"
      ],
      "text/plain": [
       "           date    close  index month_year      cpi\n",
       "8187 2018-06-25  2717.07   8187    2018-06  251.989\n",
       "8188 2018-06-26  2723.06   8188    2018-06  251.989\n",
       "8189 2018-06-27  2699.63   8189    2018-06  251.989\n",
       "8190 2018-06-28  2716.31   8190    2018-06  251.989\n",
       "8191 2018-06-29  2718.37   8191    2018-06  251.989"
      ]
     },
     "execution_count": 14,
     "metadata": {},
     "output_type": "execute_result"
    }
   ],
   "source": [
    "temp_list = []\n",
    "i = 0\n",
    "\n",
    "for i in range(len(df1)):\n",
    "    sp_date = df1.iloc[i,3]\n",
    "    cpi_index = cpi[cpi['month_year']==sp_date].index.values\n",
    "    cpi_index = cpi_index[0]\n",
    "    cpi_value = cpi.iloc[cpi_index,1]\n",
    "    temp_list.append(cpi_value)\n",
    "    \n",
    "    i = i + 1\n",
    "\n",
    "df1[\"cpi\"] = temp_list\n",
    "\n",
    "df1.tail(5)"
   ]
  },
  {
   "cell_type": "markdown",
   "id": "a9fcf5b5-5ab2-4803-9055-a83e5991cb5c",
   "metadata": {},
   "source": [
    "### 3.3 - Calculating Adjusted Price"
   ]
  },
  {
   "cell_type": "code",
   "execution_count": 15,
   "id": "e247f7a8-c918-423d-bfa2-d03cb2be8d46",
   "metadata": {},
   "outputs": [
    {
     "data": {
      "text/html": [
       "<div>\n",
       "<style scoped>\n",
       "    .dataframe tbody tr th:only-of-type {\n",
       "        vertical-align: middle;\n",
       "    }\n",
       "\n",
       "    .dataframe tbody tr th {\n",
       "        vertical-align: top;\n",
       "    }\n",
       "\n",
       "    .dataframe thead th {\n",
       "        text-align: right;\n",
       "    }\n",
       "</style>\n",
       "<table border=\"1\" class=\"dataframe\">\n",
       "  <thead>\n",
       "    <tr style=\"text-align: right;\">\n",
       "      <th></th>\n",
       "      <th>date</th>\n",
       "      <th>close</th>\n",
       "      <th>index</th>\n",
       "      <th>month_year</th>\n",
       "      <th>cpi</th>\n",
       "      <th>price</th>\n",
       "    </tr>\n",
       "  </thead>\n",
       "  <tbody>\n",
       "    <tr>\n",
       "      <th>0</th>\n",
       "      <td>1986-01-02</td>\n",
       "      <td>209.59</td>\n",
       "      <td>0</td>\n",
       "      <td>1986-01</td>\n",
       "      <td>109.6</td>\n",
       "      <td>191.231752</td>\n",
       "    </tr>\n",
       "    <tr>\n",
       "      <th>1</th>\n",
       "      <td>1986-01-03</td>\n",
       "      <td>210.88</td>\n",
       "      <td>1</td>\n",
       "      <td>1986-01</td>\n",
       "      <td>109.6</td>\n",
       "      <td>192.408759</td>\n",
       "    </tr>\n",
       "    <tr>\n",
       "      <th>2</th>\n",
       "      <td>1986-01-06</td>\n",
       "      <td>210.65</td>\n",
       "      <td>2</td>\n",
       "      <td>1986-01</td>\n",
       "      <td>109.6</td>\n",
       "      <td>192.198905</td>\n",
       "    </tr>\n",
       "    <tr>\n",
       "      <th>3</th>\n",
       "      <td>1986-01-07</td>\n",
       "      <td>213.80</td>\n",
       "      <td>3</td>\n",
       "      <td>1986-01</td>\n",
       "      <td>109.6</td>\n",
       "      <td>195.072993</td>\n",
       "    </tr>\n",
       "    <tr>\n",
       "      <th>4</th>\n",
       "      <td>1986-01-08</td>\n",
       "      <td>207.97</td>\n",
       "      <td>4</td>\n",
       "      <td>1986-01</td>\n",
       "      <td>109.6</td>\n",
       "      <td>189.753650</td>\n",
       "    </tr>\n",
       "  </tbody>\n",
       "</table>\n",
       "</div>"
      ],
      "text/plain": [
       "        date   close  index month_year    cpi       price\n",
       "0 1986-01-02  209.59      0    1986-01  109.6  191.231752\n",
       "1 1986-01-03  210.88      1    1986-01  109.6  192.408759\n",
       "2 1986-01-06  210.65      2    1986-01  109.6  192.198905\n",
       "3 1986-01-07  213.80      3    1986-01  109.6  195.072993\n",
       "4 1986-01-08  207.97      4    1986-01  109.6  189.753650"
      ]
     },
     "execution_count": 15,
     "metadata": {},
     "output_type": "execute_result"
    }
   ],
   "source": [
    "df1['price'] = (df1['close'] / df1['cpi']) * 100\n",
    "df1.head(5)"
   ]
  },
  {
   "cell_type": "code",
   "execution_count": 16,
   "id": "f56781b8-ce18-41f7-ab4f-7413030eaa10",
   "metadata": {},
   "outputs": [
    {
     "data": {
      "text/html": [
       "<div>\n",
       "<style scoped>\n",
       "    .dataframe tbody tr th:only-of-type {\n",
       "        vertical-align: middle;\n",
       "    }\n",
       "\n",
       "    .dataframe tbody tr th {\n",
       "        vertical-align: top;\n",
       "    }\n",
       "\n",
       "    .dataframe thead th {\n",
       "        text-align: right;\n",
       "    }\n",
       "</style>\n",
       "<table border=\"1\" class=\"dataframe\">\n",
       "  <thead>\n",
       "    <tr style=\"text-align: right;\">\n",
       "      <th></th>\n",
       "      <th>date</th>\n",
       "      <th>index</th>\n",
       "      <th>price</th>\n",
       "    </tr>\n",
       "  </thead>\n",
       "  <tbody>\n",
       "    <tr>\n",
       "      <th>0</th>\n",
       "      <td>1986-01-02</td>\n",
       "      <td>0</td>\n",
       "      <td>191.231752</td>\n",
       "    </tr>\n",
       "    <tr>\n",
       "      <th>1</th>\n",
       "      <td>1986-01-03</td>\n",
       "      <td>1</td>\n",
       "      <td>192.408759</td>\n",
       "    </tr>\n",
       "    <tr>\n",
       "      <th>2</th>\n",
       "      <td>1986-01-06</td>\n",
       "      <td>2</td>\n",
       "      <td>192.198905</td>\n",
       "    </tr>\n",
       "    <tr>\n",
       "      <th>3</th>\n",
       "      <td>1986-01-07</td>\n",
       "      <td>3</td>\n",
       "      <td>195.072993</td>\n",
       "    </tr>\n",
       "    <tr>\n",
       "      <th>4</th>\n",
       "      <td>1986-01-08</td>\n",
       "      <td>4</td>\n",
       "      <td>189.753650</td>\n",
       "    </tr>\n",
       "    <tr>\n",
       "      <th>5</th>\n",
       "      <td>1986-01-09</td>\n",
       "      <td>5</td>\n",
       "      <td>188.056569</td>\n",
       "    </tr>\n",
       "  </tbody>\n",
       "</table>\n",
       "</div>"
      ],
      "text/plain": [
       "        date  index       price\n",
       "0 1986-01-02      0  191.231752\n",
       "1 1986-01-03      1  192.408759\n",
       "2 1986-01-06      2  192.198905\n",
       "3 1986-01-07      3  195.072993\n",
       "4 1986-01-08      4  189.753650\n",
       "5 1986-01-09      5  188.056569"
      ]
     },
     "execution_count": 16,
     "metadata": {},
     "output_type": "execute_result"
    }
   ],
   "source": [
    "exclusions = [\"month_year\",\"cpi\",\"close\"]\n",
    "i = 0\n",
    "while i < len(exclusions):\n",
    "    df1.drop(exclusions[i], inplace=True, axis=1)\n",
    "    i = i + 1\n",
    "\n",
    "df1.head(6)"
   ]
  },
  {
   "cell_type": "code",
   "execution_count": 17,
   "id": "b245ed78-2216-4bd5-84ab-5415b993d79e",
   "metadata": {},
   "outputs": [
    {
     "data": {
      "text/html": [
       "<div>\n",
       "<style scoped>\n",
       "    .dataframe tbody tr th:only-of-type {\n",
       "        vertical-align: middle;\n",
       "    }\n",
       "\n",
       "    .dataframe tbody tr th {\n",
       "        vertical-align: top;\n",
       "    }\n",
       "\n",
       "    .dataframe thead th {\n",
       "        text-align: right;\n",
       "    }\n",
       "</style>\n",
       "<table border=\"1\" class=\"dataframe\">\n",
       "  <thead>\n",
       "    <tr style=\"text-align: right;\">\n",
       "      <th></th>\n",
       "      <th>index</th>\n",
       "      <th>date</th>\n",
       "      <th>price</th>\n",
       "    </tr>\n",
       "  </thead>\n",
       "  <tbody>\n",
       "    <tr>\n",
       "      <th>0</th>\n",
       "      <td>0</td>\n",
       "      <td>1986-01-02</td>\n",
       "      <td>191.231752</td>\n",
       "    </tr>\n",
       "    <tr>\n",
       "      <th>1</th>\n",
       "      <td>1</td>\n",
       "      <td>1986-01-03</td>\n",
       "      <td>192.408759</td>\n",
       "    </tr>\n",
       "    <tr>\n",
       "      <th>2</th>\n",
       "      <td>2</td>\n",
       "      <td>1986-01-06</td>\n",
       "      <td>192.198905</td>\n",
       "    </tr>\n",
       "    <tr>\n",
       "      <th>3</th>\n",
       "      <td>3</td>\n",
       "      <td>1986-01-07</td>\n",
       "      <td>195.072993</td>\n",
       "    </tr>\n",
       "    <tr>\n",
       "      <th>4</th>\n",
       "      <td>4</td>\n",
       "      <td>1986-01-08</td>\n",
       "      <td>189.753650</td>\n",
       "    </tr>\n",
       "  </tbody>\n",
       "</table>\n",
       "</div>"
      ],
      "text/plain": [
       "   index       date       price\n",
       "0      0 1986-01-02  191.231752\n",
       "1      1 1986-01-03  192.408759\n",
       "2      2 1986-01-06  192.198905\n",
       "3      3 1986-01-07  195.072993\n",
       "4      4 1986-01-08  189.753650"
      ]
     },
     "execution_count": 17,
     "metadata": {},
     "output_type": "execute_result"
    }
   ],
   "source": [
    "first_column = df1.pop('index')\n",
    "df1.insert(0, 'index', first_column)\n",
    "df1.head(5)"
   ]
  },
  {
   "cell_type": "markdown",
   "id": "935d1a47-970b-4e24-8511-a649b51e0811",
   "metadata": {},
   "source": [
    "### 3.3 - Plotting"
   ]
  },
  {
   "cell_type": "code",
   "execution_count": 18,
   "id": "63bd74e1-5169-4ccd-b35a-d01b72f533c3",
   "metadata": {},
   "outputs": [
    {
     "data": {
      "image/png": "[encoded data removed]",
      "text/plain": [
       "<Figure size 432x288 with 1 Axes>"
      ]
     },
     "metadata": {},
     "output_type": "display_data"
    }
   ],
   "source": [
    "plt.plot(df1['date'], df1['price'], marker='o',ms=1) #color='red'\n",
    "plt.title('Historical S&P 500 prices, adjusted for inflation', fontsize=14)\n",
    "plt.xlabel('Year', fontsize=14)\n",
    "plt.ylabel('Adjusted Close (daily)', fontsize=14)\n",
    "plt.grid(True)\n",
    "plt.show()"
   ]
  },
  {
   "cell_type": "markdown",
   "id": "b6520f61-61cf-48f4-ace8-996153ad4063",
   "metadata": {},
   "source": [
    "### Section 3 Output"
   ]
  },
  {
   "cell_type": "markdown",
   "id": "7038593a-ae45-41ae-aa37-f424abaa6fea",
   "metadata": {},
   "source": [
    "*Dataframes*\n",
    "- df1: S&P 500 daily close\n",
    "    - Date (datetime format)\n",
    "    - Price (float)\n",
    "    - Index (int)\n",
    "    \n",
    "Potential To Dos:\n",
    "- Add inflation (year-on-year) to the analysis\n",
    "- Add interest rates to the analysis"
   ]
  },
  {
   "cell_type": "markdown",
   "id": "fa0de1b0-0f56-443d-93c9-c6a246a4379c",
   "metadata": {
    "tags": []
   },
   "source": [
    "## 4 - Building Functions for Sampling and Regression"
   ]
  },
  {
   "cell_type": "markdown",
   "id": "44730bca-9d44-4f9e-8a13-146830c52292",
   "metadata": {},
   "source": [
    "### 4.1 - Function for sampling a cross-section of data"
   ]
  },
  {
   "cell_type": "markdown",
   "id": "99293614-ec3d-4c20-8308-0a14edee7946",
   "metadata": {},
   "source": [
    "<div class=\"alert alert-block alert-success\">\n",
    "<b>Purpose</b> <br><em>A function that takes as input an index i (that corresponds to a row in DF1), and returns an array including the SnP price data for indexes (i) to (i + bin) size</em> <br>\n",
    "</div>"
   ]
  },
  {
   "cell_type": "markdown",
   "id": "c4e67838-d218-4168-96ea-0370cfe971d4",
   "metadata": {},
   "source": [
    "#### 4.1.1 - Assumptions\n",
    "Key Assumption: Regression window. For this iteration, we use a ***10-year regression window***. Note, we can let this by dynamically changeable in later versions of the app"
   ]
  },
  {
   "cell_type": "code",
   "execution_count": 19,
   "id": "1f340fe3-effc-4482-9651-9c70a781523b",
   "metadata": {},
   "outputs": [
    {
     "data": {
      "text/plain": [
       "2600"
      ]
     },
     "execution_count": 19,
     "metadata": {},
     "output_type": "execute_result"
    }
   ],
   "source": [
    "days_in_week = 5\n",
    "weeks_in_year = 52\n",
    "years_in_window = 10\n",
    "\n",
    "bin_size = days_in_week*weeks_in_year*years_in_window\n",
    "bin_size"
   ]
  },
  {
   "cell_type": "markdown",
   "id": "0079143e-8ce2-43a8-a852-7d04f3121bf0",
   "metadata": {},
   "source": [
    "#### 4.1.2 - Defining the function"
   ]
  },
  {
   "cell_type": "markdown",
   "id": "b93962ae-6ebc-4fd9-9657-50e86b146787",
   "metadata": {},
   "source": [
    "Note, we subtract so that the window is backwards looking from time t. In other words, we ask the question, what has the trend been for the last N years."
   ]
  },
  {
   "cell_type": "code",
   "execution_count": 20,
   "id": "330cfb30-ead3-4693-afd0-90b0398c7dc7",
   "metadata": {},
   "outputs": [
    {
     "data": {
      "text/html": [
       "<div>\n",
       "<style scoped>\n",
       "    .dataframe tbody tr th:only-of-type {\n",
       "        vertical-align: middle;\n",
       "    }\n",
       "\n",
       "    .dataframe tbody tr th {\n",
       "        vertical-align: top;\n",
       "    }\n",
       "\n",
       "    .dataframe thead th {\n",
       "        text-align: right;\n",
       "    }\n",
       "</style>\n",
       "<table border=\"1\" class=\"dataframe\">\n",
       "  <thead>\n",
       "    <tr style=\"text-align: right;\">\n",
       "      <th></th>\n",
       "      <th>index</th>\n",
       "      <th>date</th>\n",
       "      <th>price</th>\n",
       "    </tr>\n",
       "  </thead>\n",
       "  <tbody>\n",
       "    <tr>\n",
       "      <th>0</th>\n",
       "      <td>0</td>\n",
       "      <td>1986-01-02</td>\n",
       "      <td>191.231752</td>\n",
       "    </tr>\n",
       "    <tr>\n",
       "      <th>1</th>\n",
       "      <td>1</td>\n",
       "      <td>1986-01-03</td>\n",
       "      <td>192.408759</td>\n",
       "    </tr>\n",
       "    <tr>\n",
       "      <th>2</th>\n",
       "      <td>2</td>\n",
       "      <td>1986-01-06</td>\n",
       "      <td>192.198905</td>\n",
       "    </tr>\n",
       "    <tr>\n",
       "      <th>3</th>\n",
       "      <td>3</td>\n",
       "      <td>1986-01-07</td>\n",
       "      <td>195.072993</td>\n",
       "    </tr>\n",
       "    <tr>\n",
       "      <th>4</th>\n",
       "      <td>4</td>\n",
       "      <td>1986-01-08</td>\n",
       "      <td>189.753650</td>\n",
       "    </tr>\n",
       "    <tr>\n",
       "      <th>...</th>\n",
       "      <td>...</td>\n",
       "      <td>...</td>\n",
       "      <td>...</td>\n",
       "    </tr>\n",
       "    <tr>\n",
       "      <th>1995</th>\n",
       "      <td>1995</td>\n",
       "      <td>1993-11-19</td>\n",
       "      <td>317.283951</td>\n",
       "    </tr>\n",
       "    <tr>\n",
       "      <th>1996</th>\n",
       "      <td>1996</td>\n",
       "      <td>1993-11-22</td>\n",
       "      <td>314.903978</td>\n",
       "    </tr>\n",
       "    <tr>\n",
       "      <th>1997</th>\n",
       "      <td>1997</td>\n",
       "      <td>1993-11-23</td>\n",
       "      <td>316.207133</td>\n",
       "    </tr>\n",
       "    <tr>\n",
       "      <th>1998</th>\n",
       "      <td>1998</td>\n",
       "      <td>1993-11-24</td>\n",
       "      <td>317.119342</td>\n",
       "    </tr>\n",
       "    <tr>\n",
       "      <th>1999</th>\n",
       "      <td>1999</td>\n",
       "      <td>1993-11-26</td>\n",
       "      <td>317.599451</td>\n",
       "    </tr>\n",
       "  </tbody>\n",
       "</table>\n",
       "<p>2000 rows × 3 columns</p>\n",
       "</div>"
      ],
      "text/plain": [
       "      index       date       price\n",
       "0         0 1986-01-02  191.231752\n",
       "1         1 1986-01-03  192.408759\n",
       "2         2 1986-01-06  192.198905\n",
       "3         3 1986-01-07  195.072993\n",
       "4         4 1986-01-08  189.753650\n",
       "...     ...        ...         ...\n",
       "1995   1995 1993-11-19  317.283951\n",
       "1996   1996 1993-11-22  314.903978\n",
       "1997   1997 1993-11-23  316.207133\n",
       "1998   1998 1993-11-24  317.119342\n",
       "1999   1999 1993-11-26  317.599451\n",
       "\n",
       "[2000 rows x 3 columns]"
      ]
     },
     "execution_count": 20,
     "metadata": {},
     "output_type": "execute_result"
    }
   ],
   "source": [
    "def gen_sample_df(i):\n",
    "    start = i - bin_size\n",
    "    if start < 0:\n",
    "        start = 0\n",
    "    end = i \n",
    "    temp_df = df1.iloc[start:end, 0:3]\n",
    "    temp_df = pd.DataFrame(data=temp_df)\n",
    "    return temp_df\n",
    "\n",
    "\n",
    "a = gen_sample_df(2000)\n",
    "a"
   ]
  },
  {
   "cell_type": "markdown",
   "id": "35cadef1-a189-4681-98c7-4cfb7c99cb30",
   "metadata": {},
   "source": [
    "### 4.2 - Define function to regress over sample"
   ]
  },
  {
   "cell_type": "markdown",
   "id": "fdbafc3c-50f0-425e-8645-7c1ceeda6ba7",
   "metadata": {},
   "source": [
    "<div class=\"alert alert-block alert-success\">\n",
    "<b>Purpose</b> <br><em>A function that takes as input a time series and ouputs a dictionary including: i) the predicted price at time t, ii) the mean standard error </em> <br>\n",
    "</div>"
   ]
  },
  {
   "cell_type": "markdown",
   "id": "2cd696dc-1bbd-4572-a62d-baa44e11864c",
   "metadata": {},
   "source": [
    "*Note on Standard Error*. The simplest sensible error measure that came out of the research was the mean of the sum of the asbolute value of the model errors. This gave us the purest sense of the predictive distance from actual to be able to compare our results against. "
   ]
  },
  {
   "cell_type": "code",
   "execution_count": 21,
   "id": "f0bf3297-3eb8-4505-8423-6fbf2c6b5f68",
   "metadata": {},
   "outputs": [
    {
     "data": {
      "text/html": [
       "<div>\n",
       "<style scoped>\n",
       "    .dataframe tbody tr th:only-of-type {\n",
       "        vertical-align: middle;\n",
       "    }\n",
       "\n",
       "    .dataframe tbody tr th {\n",
       "        vertical-align: top;\n",
       "    }\n",
       "\n",
       "    .dataframe thead th {\n",
       "        text-align: right;\n",
       "    }\n",
       "</style>\n",
       "<table border=\"1\" class=\"dataframe\">\n",
       "  <thead>\n",
       "    <tr style=\"text-align: right;\">\n",
       "      <th></th>\n",
       "      <th>index</th>\n",
       "      <th>date</th>\n",
       "      <th>price</th>\n",
       "      <th>error</th>\n",
       "      <th>true_error</th>\n",
       "    </tr>\n",
       "  </thead>\n",
       "  <tbody>\n",
       "    <tr>\n",
       "      <th>0</th>\n",
       "      <td>0</td>\n",
       "      <td>1986-01-02</td>\n",
       "      <td>191.231752</td>\n",
       "      <td>21.276993</td>\n",
       "      <td>-21.276993</td>\n",
       "    </tr>\n",
       "    <tr>\n",
       "      <th>1</th>\n",
       "      <td>1</td>\n",
       "      <td>1986-01-03</td>\n",
       "      <td>192.408759</td>\n",
       "      <td>20.148667</td>\n",
       "      <td>-20.148667</td>\n",
       "    </tr>\n",
       "    <tr>\n",
       "      <th>2</th>\n",
       "      <td>2</td>\n",
       "      <td>1986-01-06</td>\n",
       "      <td>192.198905</td>\n",
       "      <td>20.407203</td>\n",
       "      <td>-20.407203</td>\n",
       "    </tr>\n",
       "    <tr>\n",
       "      <th>3</th>\n",
       "      <td>3</td>\n",
       "      <td>1986-01-07</td>\n",
       "      <td>195.072993</td>\n",
       "      <td>17.581797</td>\n",
       "      <td>-17.581797</td>\n",
       "    </tr>\n",
       "    <tr>\n",
       "      <th>4</th>\n",
       "      <td>4</td>\n",
       "      <td>1986-01-08</td>\n",
       "      <td>189.753650</td>\n",
       "      <td>22.949821</td>\n",
       "      <td>-22.949821</td>\n",
       "    </tr>\n",
       "    <tr>\n",
       "      <th>...</th>\n",
       "      <td>...</td>\n",
       "      <td>...</td>\n",
       "      <td>...</td>\n",
       "      <td>...</td>\n",
       "      <td>...</td>\n",
       "    </tr>\n",
       "    <tr>\n",
       "      <th>1995</th>\n",
       "      <td>1995</td>\n",
       "      <td>1993-11-19</td>\n",
       "      <td>317.283951</td>\n",
       "      <td>7.655531</td>\n",
       "      <td>7.655531</td>\n",
       "    </tr>\n",
       "    <tr>\n",
       "      <th>1996</th>\n",
       "      <td>1996</td>\n",
       "      <td>1993-11-22</td>\n",
       "      <td>314.903978</td>\n",
       "      <td>5.226877</td>\n",
       "      <td>5.226877</td>\n",
       "    </tr>\n",
       "    <tr>\n",
       "      <th>1997</th>\n",
       "      <td>1997</td>\n",
       "      <td>1993-11-23</td>\n",
       "      <td>316.207133</td>\n",
       "      <td>6.481351</td>\n",
       "      <td>6.481351</td>\n",
       "    </tr>\n",
       "    <tr>\n",
       "      <th>1998</th>\n",
       "      <td>1998</td>\n",
       "      <td>1993-11-24</td>\n",
       "      <td>317.119342</td>\n",
       "      <td>7.344878</td>\n",
       "      <td>7.344878</td>\n",
       "    </tr>\n",
       "    <tr>\n",
       "      <th>1999</th>\n",
       "      <td>1999</td>\n",
       "      <td>1993-11-26</td>\n",
       "      <td>317.599451</td>\n",
       "      <td>7.776306</td>\n",
       "      <td>7.776306</td>\n",
       "    </tr>\n",
       "  </tbody>\n",
       "</table>\n",
       "<p>2000 rows × 5 columns</p>\n",
       "</div>"
      ],
      "text/plain": [
       "      index       date       price      error  true_error\n",
       "0         0 1986-01-02  191.231752  21.276993  -21.276993\n",
       "1         1 1986-01-03  192.408759  20.148667  -20.148667\n",
       "2         2 1986-01-06  192.198905  20.407203  -20.407203\n",
       "3         3 1986-01-07  195.072993  17.581797  -17.581797\n",
       "4         4 1986-01-08  189.753650  22.949821  -22.949821\n",
       "...     ...        ...         ...        ...         ...\n",
       "1995   1995 1993-11-19  317.283951   7.655531    7.655531\n",
       "1996   1996 1993-11-22  314.903978   5.226877    5.226877\n",
       "1997   1997 1993-11-23  316.207133   6.481351    6.481351\n",
       "1998   1998 1993-11-24  317.119342   7.344878    7.344878\n",
       "1999   1999 1993-11-26  317.599451   7.776306    7.776306\n",
       "\n",
       "[2000 rows x 5 columns]"
      ]
     },
     "execution_count": 21,
     "metadata": {},
     "output_type": "execute_result"
    }
   ],
   "source": [
    "def sample_OLS(temp_df):\n",
    "    sample = temp_df\n",
    "    x = sample['index'].values.reshape(-1, 1)\n",
    "    y = sample['price'].values\n",
    "    regr = linear_model.LinearRegression()\n",
    "    regr.fit(x,y)\n",
    "\n",
    "#-----------------Regression has been run------------#\n",
    "    \n",
    "    predicted = regr.predict(x)\n",
    "    actual = sample['price']\n",
    "    actual = np.array(actual)\n",
    "    \n",
    "    diffs = []\n",
    "    tru_diffs = []\n",
    "    \n",
    "    for i in range(len(actual)):\n",
    "        diff = actual[i] - predicted[i]\n",
    "        diffs.append(diff)\n",
    "    \n",
    "    abs_diffs =  [abs(i) for i in diffs]\n",
    "    sample['error'] = abs_diffs\n",
    "    sample['true_error'] = diffs\n",
    "    return sample\n",
    "\n",
    "b = sample_OLS(a)\n",
    "b"
   ]
  },
  {
   "cell_type": "markdown",
   "id": "cc109d87-5606-40ca-babb-b458511ce1c3",
   "metadata": {},
   "source": [
    "### 4.3 - Defining function to check which threshold our value is in"
   ]
  },
  {
   "cell_type": "markdown",
   "id": "60c6e137-5634-455c-8027-a897ea670de5",
   "metadata": {},
   "source": [
    "<div class=\"alert alert-block alert-success\">\n",
    "<b>Purpose</b> <br>Generate a series of threshold based on the sample standard deviation. The function takes as input the sample standard deviation and price at time t. As output, it returns the classification <br><em> </em> <br>\n",
    "</div>"
   ]
  },
  {
   "cell_type": "markdown",
   "id": "977fe0a7-2a86-40aa-8a69-b1d754610d58",
   "metadata": {},
   "source": [
    "#### 4.3.1 - Defining the thresholds"
   ]
  },
  {
   "attachments": {
    "350d1c64-0c87-4e49-ade5-1b10145880e1.png": {
     "image/png": "[encoded data removed]"
    }
   },
   "cell_type": "markdown",
   "id": "66ba67a7-4484-4c28-8dff-98002d007429",
   "metadata": {},
   "source": [
    "<div>\n",
    "<img src=\"attachment:350d1c64-0c87-4e49-ade5-1b10145880e1.png\" width=\"400\"/>\n",
    "</div>"
   ]
  },
  {
   "cell_type": "markdown",
   "id": "d09ea533-3da5-404f-a4ba-a5f23913b31f",
   "metadata": {},
   "source": [
    "#### 4.3.2 - Function to return classification, given a set of bands"
   ]
  },
  {
   "cell_type": "code",
   "execution_count": 22,
   "id": "f45d9591-9c12-4013-8ce5-7c8a82aadf41",
   "metadata": {},
   "outputs": [],
   "source": [
    "def check_value(error,stdev):\n",
    "    \n",
    "    band1_bottom = 0\n",
    "    band1_top = 0.5 * stdev\n",
    "    band2_bottom = 0.5 * stdev + 0.000001\n",
    "    band2_top = stdev \n",
    "    band3_bottom = stdev + 0.000001\n",
    "    band3_top = 1.5 * stdev\n",
    "    band4_bottom = 1.5 * stdev + 0.000001\n",
    "    band4_top = 2 * stdev\n",
    "    band5_bottom = 2 * stdev + 0.000001\n",
    "    band5_top = 2.5 * stdev\n",
    "    band6_bottom = 2.5 * stdev + 0.000001\n",
    "    band6_top = 3 * stdev\n",
    "    \n",
    "    if band1_bottom < error < band1_top:\n",
    "        return 1\n",
    "    if band2_bottom < error < band2_top:\n",
    "        return 2\n",
    "    if band3_bottom < error < band3_top:\n",
    "        return 3\n",
    "    if band4_bottom < error < band4_top:\n",
    "        return 4\n",
    "    if band5_bottom < error < band5_top:\n",
    "        return 5\n",
    "    if band6_bottom < error < band6_top:\n",
    "        return 6\n",
    "    if error > band6_top:\n",
    "        return 7"
   ]
  },
  {
   "cell_type": "markdown",
   "id": "587039f0-f7a6-41e7-86a0-b6e138c563ca",
   "metadata": {},
   "source": [
    "#### 4.3.3 - Function to return classification"
   ]
  },
  {
   "cell_type": "code",
   "execution_count": 23,
   "id": "58f4789a-8fa1-4a79-bbd3-70506fba6273",
   "metadata": {},
   "outputs": [
    {
     "data": {
      "text/plain": [
       "2"
      ]
     },
     "execution_count": 23,
     "metadata": {},
     "output_type": "execute_result"
    }
   ],
   "source": [
    "def classify_price(sample): \n",
    "    stdev = sample['error'].std()   \n",
    "    last_value = sample[\"error\"].iloc[-1]\n",
    "    check = check_value(last_value,stdev)\n",
    "    last_error = sample[\"true_error\"].iloc[-1]\n",
    "    \n",
    "    if last_error < 0:\n",
    "        check = check * (-1)\n",
    "    \n",
    "    return check\n",
    "\n",
    "test = classify_price(b)\n",
    "test"
   ]
  },
  {
   "cell_type": "markdown",
   "id": "fe4aeb3f-f432-4b1d-9a6d-d822690a337a",
   "metadata": {
    "tags": []
   },
   "source": [
    "## 5 - Creating Buy/Sell Function"
   ]
  },
  {
   "cell_type": "markdown",
   "id": "38aa354b-856b-4172-bc60-e5fc0d5062f6",
   "metadata": {},
   "source": [
    "<div class=\"alert alert-block alert-success\">\n",
    "<b>Purpose</b> <br><em>Loop through each row of the price data. For each of the rows, determine the category. If the category is 6, buy/sell 5 %. If it is cat 7, buy/sell 10%. Move 5 days forward. </em> <br>\n",
    "</div>"
   ]
  },
  {
   "cell_type": "markdown",
   "id": "7dfcfc60-625f-49be-ae18-82e332d82654",
   "metadata": {},
   "source": [
    "Output: Buy or sell amount\n",
    "Input: final value, category\n",
    "\n",
    "Actually: first, append category to df1\n",
    "NExt append buy/sell (in form of 0,-1,1 as we will be multiplying by negative for Sell\n",
    "Next, append buy/sell amount \n",
    "Finally run the wallet"
   ]
  },
  {
   "cell_type": "markdown",
   "id": "19d13663-98e8-4573-9c01-c58cfb90d124",
   "metadata": {},
   "source": [
    "### 5.1 - Generate sample and call functions"
   ]
  },
  {
   "cell_type": "code",
   "execution_count": 24,
   "id": "4f6289ce-c4d2-47bb-a5dd-88a9ca58ed8e",
   "metadata": {},
   "outputs": [
    {
     "data": {
      "text/html": [
       "<div>\n",
       "<style scoped>\n",
       "    .dataframe tbody tr th:only-of-type {\n",
       "        vertical-align: middle;\n",
       "    }\n",
       "\n",
       "    .dataframe tbody tr th {\n",
       "        vertical-align: top;\n",
       "    }\n",
       "\n",
       "    .dataframe thead th {\n",
       "        text-align: right;\n",
       "    }\n",
       "</style>\n",
       "<table border=\"1\" class=\"dataframe\">\n",
       "  <thead>\n",
       "    <tr style=\"text-align: right;\">\n",
       "      <th></th>\n",
       "      <th>index</th>\n",
       "      <th>date</th>\n",
       "      <th>price</th>\n",
       "      <th>classification</th>\n",
       "    </tr>\n",
       "  </thead>\n",
       "  <tbody>\n",
       "    <tr>\n",
       "      <th>0</th>\n",
       "      <td>0</td>\n",
       "      <td>1986-01-02</td>\n",
       "      <td>191.231752</td>\n",
       "      <td>0</td>\n",
       "    </tr>\n",
       "    <tr>\n",
       "      <th>1</th>\n",
       "      <td>1</td>\n",
       "      <td>1986-01-03</td>\n",
       "      <td>192.408759</td>\n",
       "      <td>0</td>\n",
       "    </tr>\n",
       "    <tr>\n",
       "      <th>2</th>\n",
       "      <td>2</td>\n",
       "      <td>1986-01-06</td>\n",
       "      <td>192.198905</td>\n",
       "      <td>0</td>\n",
       "    </tr>\n",
       "    <tr>\n",
       "      <th>3</th>\n",
       "      <td>3</td>\n",
       "      <td>1986-01-07</td>\n",
       "      <td>195.072993</td>\n",
       "      <td>0</td>\n",
       "    </tr>\n",
       "    <tr>\n",
       "      <th>4</th>\n",
       "      <td>4</td>\n",
       "      <td>1986-01-08</td>\n",
       "      <td>189.753650</td>\n",
       "      <td>4</td>\n",
       "    </tr>\n",
       "  </tbody>\n",
       "</table>\n",
       "</div>"
      ],
      "text/plain": [
       "   index       date       price  classification\n",
       "0      0 1986-01-02  191.231752               0\n",
       "1      1 1986-01-03  192.408759               0\n",
       "2      2 1986-01-06  192.198905               0\n",
       "3      3 1986-01-07  195.072993               0\n",
       "4      4 1986-01-08  189.753650               4"
      ]
     },
     "execution_count": 24,
     "metadata": {},
     "output_type": "execute_result"
    }
   ],
   "source": [
    "categories = []\n",
    "\n",
    "for i in range(len(df1)):\n",
    "    if i < 4:\n",
    "        categories.append(0)\n",
    "        i = i + 1\n",
    "    else: \n",
    "        sample = gen_sample_df(i)\n",
    "        regression = sample_OLS(sample)\n",
    "        category = classify_price(sample)\n",
    "        categories.append(category)\n",
    "        i = i + 1\n",
    "\n",
    "#print(categories)\n",
    "\n",
    "df1['classification'] = categories\n",
    "df1.head(5)"
   ]
  },
  {
   "cell_type": "markdown",
   "id": "9863f9ce-c587-4b6f-8b40-673545337963",
   "metadata": {},
   "source": [
    "### 5.2 - Plotting classifications"
   ]
  },
  {
   "cell_type": "code",
   "execution_count": 25,
   "id": "04a6a2e8-5e6f-4961-98d5-87d7b61e939e",
   "metadata": {},
   "outputs": [
    {
     "data": {
      "image/png": "[encoded data removed]",
      "text/plain": [
       "<Figure size 432x288 with 1 Axes>"
      ]
     },
     "metadata": {},
     "output_type": "display_data"
    }
   ],
   "source": [
    "hist = df1['classification'].hist(bins=15)"
   ]
  },
  {
   "cell_type": "markdown",
   "id": "d10e74aa-b382-4f0e-8575-ba5f8698feb5",
   "metadata": {},
   "source": [
    "From this, there might be an issue with the error calculations, or thresholds given the extremes on either ends. Might have to look at this deeper late"
   ]
  },
  {
   "cell_type": "markdown",
   "id": "d1f02636-ee80-49db-86d4-d37414706215",
   "metadata": {},
   "source": [
    "### 5.3 - Defining buy/sell weights"
   ]
  },
  {
   "cell_type": "code",
   "execution_count": 26,
   "id": "4b269ad4-5a19-4b4c-b84e-761e5eff1304",
   "metadata": {},
   "outputs": [],
   "source": [
    "top_weight = 0.15\n",
    "bot_weight = 0.10"
   ]
  },
  {
   "cell_type": "markdown",
   "id": "cbabe3e6-ea36-4f3c-a6e3-fea9de82af2d",
   "metadata": {},
   "source": [
    "### 5.4 - Defining buy/sell assumptions"
   ]
  },
  {
   "cell_type": "code",
   "execution_count": 27,
   "id": "ae1984fe-13b3-49e6-b91a-7154957881e6",
   "metadata": {},
   "outputs": [],
   "source": [
    "start_value = df1.iloc[0,2] # 191.23175182481754"
   ]
  },
  {
   "cell_type": "code",
   "execution_count": 28,
   "id": "3d945cfb-08cf-4661-a770-f4f33278f66e",
   "metadata": {},
   "outputs": [],
   "source": [
    "# To record ticket value and number of shares for each buy/sell\n",
    "trans_value = []\n",
    "trans_shares = []\n",
    "\n",
    "# To record our bank, total capital invested and how much we have left in the bank\n",
    "running_holdings = []\n",
    "running_bank = []\n",
    "running_shares = []\n",
    "\n",
    "# Starting value for our counters\n",
    "i = 0\n",
    "buy_count = 0\n",
    "sell_count = 0\n",
    "\n",
    "# Starting value for our function\n",
    "holdings = 1\n",
    "bank = 1000000\n",
    "holdings_in_shares = holdings / start_value"
   ]
  },
  {
   "cell_type": "markdown",
   "id": "7a7e440a-75d6-44c1-b4ec-b8c3ccdb7670",
   "metadata": {
    "tags": []
   },
   "source": [
    "### 5.5 - Buying Function"
   ]
  },
  {
   "cell_type": "markdown",
   "id": "3c0e1e2a-cb44-42fc-9ef8-448348b21a89",
   "metadata": {},
   "source": [
    "What I want as output\n",
    "- Price of stock\n",
    "- Classification\n",
    "- Ticket Value\n",
    "- Ticket Shares\n",
    "- Capital Invested\n",
    "- Capital"
   ]
  },
  {
   "cell_type": "code",
   "execution_count": 29,
   "id": "a8c8a45e-dbbf-41f7-95a1-0e9c15a8b34d",
   "metadata": {},
   "outputs": [
    {
     "name": "stdout",
     "output_type": "stream",
     "text": [
      "2211426.9904333195\n",
      "993.823794622446\n",
      "0.9212604030471039\n",
      "210\n",
      "210\n"
     ]
    }
   ],
   "source": [
    "for i in range(len(df1)):\n",
    "    classification = df1.iloc[i,3] \n",
    "    share_price = df1.iloc[i,2]\n",
    "    \n",
    "    holdings = holdings_in_shares * share_price\n",
    "    \n",
    "    if classification == 6:\n",
    "        if holdings > share_price:    # could replace 10 with share_price\n",
    "            ticket_size = -(holdings * bot_weight)\n",
    "            trans_value.append(ticket_size)\n",
    "            \n",
    "            ticket_shares = ticket_size / share_price\n",
    "            trans_shares.append(ticket_shares)\n",
    "            \n",
    "            bank = bank - ticket_size # Money leaves bank. Ticket size is negative for sales , in which case the bank is credited\n",
    "            running_bank.append(bank)\n",
    "            \n",
    "            holdings = holdings + ticket_size  # Investment account goes up/down by value of sale\n",
    "            running_holdings.append(holdings)\n",
    "            \n",
    "            holdings_in_shares = holdings_in_shares + ticket_shares\n",
    "            running_shares.append(holdings_in_shares)\n",
    "            \n",
    "            sell_count = sell_count + 1\n",
    "            i = i + 1\n",
    "\n",
    "        else:\n",
    "            trans_value.append(0)\n",
    "            trans_shares.append(0)\n",
    "            running_bank.append(bank)  # Should still equal what it was the loop before\n",
    "            running_holdings.append(holdings)\n",
    "            running_shares.append(holdings_in_shares)\n",
    "            i = i + 1\n",
    "\n",
    "    elif classification == 7:\n",
    "        if holdings > share_price:    # could replace 10 with share_price\n",
    "            ticket_size = -(holdings * top_weight)\n",
    "            trans_value.append(ticket_size)\n",
    "            \n",
    "            ticket_shares = ticket_size / share_price\n",
    "            trans_shares.append(ticket_shares)\n",
    "            \n",
    "            bank = bank - ticket_size # Money leaves bank. Ticket size is negative for sales , in which case the bank is credited\n",
    "            running_bank.append(bank)\n",
    "            \n",
    "            holdings = holdings + ticket_size  # Investment account goes up/down by value of sale\n",
    "            running_holdings.append(holdings)\n",
    "            \n",
    "            holdings_in_shares = holdings_in_shares + ticket_shares\n",
    "            running_shares.append(holdings_in_shares)\n",
    "            \n",
    "            sell_count = sell_count + 1\n",
    "            i = i + 1\n",
    "\n",
    "        else:\n",
    "            trans_value.append(0)\n",
    "            trans_shares.append(0)\n",
    "            running_bank.append(bank)         # Should still equal what it was the loop before\n",
    "            running_holdings.append(holdings)\n",
    "            running_shares.append(holdings_in_shares)\n",
    "            i = i + 1\n",
    "\n",
    "    elif classification == -6:                # This represents a buy\n",
    "        if bank > share_price:            # For buy, bank was changed to holdings, and negative sign removed\n",
    "            ticket_size = bank * bot_weight # For buy, weighting determined by bank, not holding\n",
    "            trans_value.append(ticket_size)\n",
    "            \n",
    "            ticket_shares = ticket_size / share_price\n",
    "            trans_shares.append(ticket_shares)\n",
    "            \n",
    "            bank = bank - ticket_size # Money leaves bank. Ticket size is negative for sales , in which case the bank is credited\n",
    "            running_bank.append(bank)\n",
    "            \n",
    "            holdings = holdings + ticket_size  # Investment account goes up/down by value of sale\n",
    "            running_holdings.append(holdings)\n",
    "            \n",
    "            holdings_in_shares = holdings_in_shares + ticket_shares\n",
    "            running_shares.append(holdings_in_shares)\n",
    "            \n",
    "            buy_count = buy_count + 1    # Changed to buy count\n",
    "            i = i + 1\n",
    "\n",
    "        else:\n",
    "            trans_value.append(0)\n",
    "            trans_shares.append(0)\n",
    "            running_bank.append(bank)  # Should still equal what it was the loop before\n",
    "            running_holdings.append(holdings)\n",
    "            running_shares.append(holdings_in_shares)\n",
    "            i = i + 1\n",
    "\n",
    "    elif classification == -7:                # This represents a buy\n",
    "        if bank > share_price:            # For buy, bank was changed to holdings, and negative sign removed\n",
    "            ticket_size = bank * top_weight # For buy, weighting determined by bank, not holding\n",
    "            trans_value.append(ticket_size)\n",
    "            \n",
    "            ticket_shares = ticket_size / share_price\n",
    "            trans_shares.append(ticket_shares)\n",
    "            \n",
    "            bank = bank - ticket_size # Money leaves bank. Ticket size is negative for sales , in which case the bank is credited\n",
    "            running_bank.append(bank)\n",
    "            \n",
    "            holdings = holdings + ticket_size  # Investment account goes up/down by value of sale\n",
    "            running_holdings.append(holdings)\n",
    "            \n",
    "            holdings_in_shares = holdings_in_shares + ticket_shares\n",
    "            running_shares.append(holdings_in_shares)\n",
    "            \n",
    "            buy_count = buy_count + 1    # Changed to buy count\n",
    "            i = i + 1\n",
    "\n",
    "        else:\n",
    "            trans_value.append(0)\n",
    "            trans_shares.append(0)\n",
    "            running_bank.append(bank)  # Should still equal what it was the loop before\n",
    "            running_holdings.append(holdings)\n",
    "            running_shares.append(holdings_in_shares)\n",
    "            i = i + 1\n",
    "            \n",
    "    else:\n",
    "        trans_value.append(0)\n",
    "        trans_shares.append(0)\n",
    "        running_bank.append(bank)  # Should still equal what it was the loop before\n",
    "        running_holdings.append(holdings)\n",
    "        running_shares.append(holdings_in_shares)\n",
    "        i = i + 1\n",
    "\n",
    "        \n",
    "print(bank)\n",
    "print(holdings)\n",
    "print(holdings_in_shares)\n",
    "print(buy_count)\n",
    "print(sell_count)"
   ]
  },
  {
   "cell_type": "markdown",
   "id": "f9e4b2b1-41c3-4923-8088-5932328a71e2",
   "metadata": {
    "tags": []
   },
   "source": [
    "### 5. 6 - Full Table"
   ]
  },
  {
   "cell_type": "code",
   "execution_count": 30,
   "id": "13899fd7-0bb7-4edf-8a2d-54b027cc35cd",
   "metadata": {},
   "outputs": [],
   "source": [
    "pd.set_option('display.max_rows', None, 'display.max_columns', None)\n",
    "pd.options.display.float_format = '{:,.2f}'.format"
   ]
  },
  {
   "cell_type": "code",
   "execution_count": 44,
   "id": "7f8599c3-e588-4f83-8d40-633796ee9ef8",
   "metadata": {},
   "outputs": [
    {
     "data": {
      "text/html": [
       "<div>\n",
       "<style scoped>\n",
       "    .dataframe tbody tr th:only-of-type {\n",
       "        vertical-align: middle;\n",
       "    }\n",
       "\n",
       "    .dataframe tbody tr th {\n",
       "        vertical-align: top;\n",
       "    }\n",
       "\n",
       "    .dataframe thead th {\n",
       "        text-align: right;\n",
       "    }\n",
       "</style>\n",
       "<table border=\"1\" class=\"dataframe\">\n",
       "  <thead>\n",
       "    <tr style=\"text-align: right;\">\n",
       "      <th></th>\n",
       "      <th>index</th>\n",
       "      <th>date</th>\n",
       "      <th>price</th>\n",
       "      <th>classification</th>\n",
       "      <th>transaction value</th>\n",
       "      <th>transaction shares</th>\n",
       "      <th>holdings</th>\n",
       "      <th>bank</th>\n",
       "      <th>no shares</th>\n",
       "      <th>pps</th>\n",
       "    </tr>\n",
       "  </thead>\n",
       "  <tbody>\n",
       "    <tr>\n",
       "      <th>8182</th>\n",
       "      <td>8182</td>\n",
       "      <td>2018-06-18</td>\n",
       "      <td>1,100.74</td>\n",
       "      <td>4</td>\n",
       "      <td>0.00</td>\n",
       "      <td>0.00</td>\n",
       "      <td>1,014.07</td>\n",
       "      <td>2,211,426.99</td>\n",
       "      <td>0.92</td>\n",
       "      <td>1,100.74</td>\n",
       "    </tr>\n",
       "    <tr>\n",
       "      <th>8183</th>\n",
       "      <td>8183</td>\n",
       "      <td>2018-06-19</td>\n",
       "      <td>1,096.31</td>\n",
       "      <td>4</td>\n",
       "      <td>0.00</td>\n",
       "      <td>0.00</td>\n",
       "      <td>1,009.99</td>\n",
       "      <td>2,211,426.99</td>\n",
       "      <td>0.92</td>\n",
       "      <td>1,096.31</td>\n",
       "    </tr>\n",
       "    <tr>\n",
       "      <th>8184</th>\n",
       "      <td>8184</td>\n",
       "      <td>2018-06-20</td>\n",
       "      <td>1,098.19</td>\n",
       "      <td>3</td>\n",
       "      <td>0.00</td>\n",
       "      <td>0.00</td>\n",
       "      <td>1,011.72</td>\n",
       "      <td>2,211,426.99</td>\n",
       "      <td>0.92</td>\n",
       "      <td>1,098.19</td>\n",
       "    </tr>\n",
       "    <tr>\n",
       "      <th>8185</th>\n",
       "      <td>8185</td>\n",
       "      <td>2018-06-21</td>\n",
       "      <td>1,091.22</td>\n",
       "      <td>3</td>\n",
       "      <td>0.00</td>\n",
       "      <td>0.00</td>\n",
       "      <td>1,005.30</td>\n",
       "      <td>2,211,426.99</td>\n",
       "      <td>0.92</td>\n",
       "      <td>1,091.22</td>\n",
       "    </tr>\n",
       "    <tr>\n",
       "      <th>8186</th>\n",
       "      <td>8186</td>\n",
       "      <td>2018-06-22</td>\n",
       "      <td>1,093.25</td>\n",
       "      <td>3</td>\n",
       "      <td>0.00</td>\n",
       "      <td>0.00</td>\n",
       "      <td>1,007.17</td>\n",
       "      <td>2,211,426.99</td>\n",
       "      <td>0.92</td>\n",
       "      <td>1,093.25</td>\n",
       "    </tr>\n",
       "    <tr>\n",
       "      <th>8187</th>\n",
       "      <td>8187</td>\n",
       "      <td>2018-06-25</td>\n",
       "      <td>1,078.25</td>\n",
       "      <td>3</td>\n",
       "      <td>0.00</td>\n",
       "      <td>0.00</td>\n",
       "      <td>993.35</td>\n",
       "      <td>2,211,426.99</td>\n",
       "      <td>0.92</td>\n",
       "      <td>1,078.25</td>\n",
       "    </tr>\n",
       "    <tr>\n",
       "      <th>8188</th>\n",
       "      <td>8188</td>\n",
       "      <td>2018-06-26</td>\n",
       "      <td>1,080.63</td>\n",
       "      <td>2</td>\n",
       "      <td>0.00</td>\n",
       "      <td>0.00</td>\n",
       "      <td>995.54</td>\n",
       "      <td>2,211,426.99</td>\n",
       "      <td>0.92</td>\n",
       "      <td>1,080.63</td>\n",
       "    </tr>\n",
       "    <tr>\n",
       "      <th>8189</th>\n",
       "      <td>8189</td>\n",
       "      <td>2018-06-27</td>\n",
       "      <td>1,071.33</td>\n",
       "      <td>3</td>\n",
       "      <td>0.00</td>\n",
       "      <td>0.00</td>\n",
       "      <td>986.97</td>\n",
       "      <td>2,211,426.99</td>\n",
       "      <td>0.92</td>\n",
       "      <td>1,071.33</td>\n",
       "    </tr>\n",
       "    <tr>\n",
       "      <th>8190</th>\n",
       "      <td>8190</td>\n",
       "      <td>2018-06-28</td>\n",
       "      <td>1,077.95</td>\n",
       "      <td>2</td>\n",
       "      <td>0.00</td>\n",
       "      <td>0.00</td>\n",
       "      <td>993.07</td>\n",
       "      <td>2,211,426.99</td>\n",
       "      <td>0.92</td>\n",
       "      <td>1,077.95</td>\n",
       "    </tr>\n",
       "    <tr>\n",
       "      <th>8191</th>\n",
       "      <td>8191</td>\n",
       "      <td>2018-06-29</td>\n",
       "      <td>1,078.77</td>\n",
       "      <td>2</td>\n",
       "      <td>0.00</td>\n",
       "      <td>0.00</td>\n",
       "      <td>993.82</td>\n",
       "      <td>2,211,426.99</td>\n",
       "      <td>0.92</td>\n",
       "      <td>1,078.77</td>\n",
       "    </tr>\n",
       "  </tbody>\n",
       "</table>\n",
       "</div>"
      ],
      "text/plain": [
       "      index       date    price  classification  transaction value  \\\n",
       "8182   8182 2018-06-18 1,100.74               4               0.00   \n",
       "8183   8183 2018-06-19 1,096.31               4               0.00   \n",
       "8184   8184 2018-06-20 1,098.19               3               0.00   \n",
       "8185   8185 2018-06-21 1,091.22               3               0.00   \n",
       "8186   8186 2018-06-22 1,093.25               3               0.00   \n",
       "8187   8187 2018-06-25 1,078.25               3               0.00   \n",
       "8188   8188 2018-06-26 1,080.63               2               0.00   \n",
       "8189   8189 2018-06-27 1,071.33               3               0.00   \n",
       "8190   8190 2018-06-28 1,077.95               2               0.00   \n",
       "8191   8191 2018-06-29 1,078.77               2               0.00   \n",
       "\n",
       "      transaction shares  holdings         bank  no shares      pps  \n",
       "8182                0.00  1,014.07 2,211,426.99       0.92 1,100.74  \n",
       "8183                0.00  1,009.99 2,211,426.99       0.92 1,096.31  \n",
       "8184                0.00  1,011.72 2,211,426.99       0.92 1,098.19  \n",
       "8185                0.00  1,005.30 2,211,426.99       0.92 1,091.22  \n",
       "8186                0.00  1,007.17 2,211,426.99       0.92 1,093.25  \n",
       "8187                0.00    993.35 2,211,426.99       0.92 1,078.25  \n",
       "8188                0.00    995.54 2,211,426.99       0.92 1,080.63  \n",
       "8189                0.00    986.97 2,211,426.99       0.92 1,071.33  \n",
       "8190                0.00    993.07 2,211,426.99       0.92 1,077.95  \n",
       "8191                0.00    993.82 2,211,426.99       0.92 1,078.77  "
      ]
     },
     "execution_count": 44,
     "metadata": {},
     "output_type": "execute_result"
    }
   ],
   "source": [
    "df1['transaction value'] = trans_value\n",
    "df1['transaction shares'] = trans_shares\n",
    "\n",
    "df1['holdings'] = running_holdings\n",
    "df1['bank'] = running_bank\n",
    "df1['no shares'] = running_shares\n",
    "df1['pps'] = df1['holdings'] / df1['no shares']\n",
    "\n",
    "df1.tail(10)"
   ]
  },
  {
   "cell_type": "markdown",
   "id": "ffe55379-ace0-4460-89d2-92cc029acf11",
   "metadata": {},
   "source": [
    "# 6 - Evaluating"
   ]
  },
  {
   "cell_type": "markdown",
   "id": "b653fb87-c35e-4b30-93d0-59f1bd86b1b2",
   "metadata": {},
   "source": [
    "### 6.1 - Model Stats"
   ]
  },
  {
   "cell_type": "markdown",
   "id": "7053adf3-1000-4947-af93-bd219d598f80",
   "metadata": {},
   "source": [
    "### 6.2 - Graphic Visualisation"
   ]
  },
  {
   "cell_type": "markdown",
   "id": "95384f5a-fe7b-4f9e-b9a4-2c2d0959c1a2",
   "metadata": {},
   "source": [
    "*Goals*\n",
    "- Chart 1: SnP 500 price, with the buy and sell points highlighted"
   ]
  },
  {
   "cell_type": "code",
   "execution_count": 38,
   "id": "d5ce933c-5680-49e5-a6c7-940080a40b2d",
   "metadata": {},
   "outputs": [
    {
     "data": {
      "text/plain": [
       "<AxesSubplot:>"
      ]
     },
     "execution_count": 38,
     "metadata": {},
     "output_type": "execute_result"
    },
    {
     "data": {
      "image/png": "[encoded data removed]",
      "text/plain": [
       "<Figure size 432x288 with 2 Axes>"
      ]
     },
     "metadata": {},
     "output_type": "display_data"
    }
   ],
   "source": [
    "fig, ax = plt.subplots() # Create the figure and axes object\n",
    "\n",
    "# Plot the first x and y axes:\n",
    "df1.plot(x = 'date', y = 'price', ax = ax) \n",
    "# Plot the second x and y axes. By secondary_y = True a second y-axis is requested:\n",
    "# (see https://pandas.pydata.org/pandas-docs/stable/reference/api/pandas.DataFrame.plot.html for details)\n",
    "df1.plot(x = 'date', y = 'holdings', ax = ax, secondary_y = True) "
   ]
  },
  {
   "cell_type": "markdown",
   "id": "fc3f8038-6816-4f24-85a6-086ddb65c18d",
   "metadata": {},
   "source": [
    "This shows pretty clearly one of the issues is that we are selling far before the main market goes up. We also do not seem to be able to capitalise on the losses in 2012, potentially this is because 2021 is still on trend somehow\n",
    "\n",
    "The purchase in 204 is interesting (experienced an almost immediate loss), is that because the trendline went up so much? Actually it looks like the same problem as on the upside, just sold to early\n",
    "\n",
    "Also not sure why I wasn't buying in 2008. or maybe I was but the wallet was empty\n",
    "\n",
    "Solutions: \n",
    "- Longer window: Would this do anything? if you made it as lo\n",
    "- Step more than 1 forward when buying . We hit a number of +7s in a row, so we could move i+1 to i + 5. Problem is that the arrays would no longer be the same size, so it would take some finaigling\n",
    "- Create counters, that add weights to a buy or sell bucket. It would be interesting if you could look at the momentum as well from one day to the next. It looks like you have a decent number of days before your investments are gone entirely"
   ]
  },
  {
   "cell_type": "markdown",
   "id": "32d804aa-56e3-4566-b624-2cdffa2bd296",
   "metadata": {},
   "source": [
    "### 6.3 - Competitor Model"
   ]
  },
  {
   "cell_type": "markdown",
   "id": "c368d112-1475-4b0f-bc23-66ee5fbc9fe0",
   "metadata": {},
   "source": [
    "We need to find a reasonable comparison , how much would we have made if we just had our money sit in the stock market from the start ? "
   ]
  },
  {
   "cell_type": "code",
   "execution_count": 40,
   "id": "bae83bc5-05f6-460e-b196-94a67d18003f",
   "metadata": {},
   "outputs": [
    {
     "name": "stdout",
     "output_type": "stream",
     "text": [
      "5229.257121045851\n"
     ]
    }
   ],
   "source": [
    "first_value = df1.iloc[0,2]\n",
    "competitor_holdings = 1000000\n",
    "shares = competitor_holdings / first_value\n",
    "print(shares)"
   ]
  },
  {
   "cell_type": "code",
   "execution_count": 41,
   "id": "30a1756e-8af0-4014-b1cb-96c55bdc896a",
   "metadata": {},
   "outputs": [
    {
     "name": "stdout",
     "output_type": "stream",
     "text": [
      "1078.7653429316358\n"
     ]
    }
   ],
   "source": [
    "final_value = df1[\"price\"].iloc[-1]\n",
    "print(final_value)"
   ]
  },
  {
   "cell_type": "code",
   "execution_count": 42,
   "id": "bb882244-3ceb-4760-a5a5-8318d8c9fcf3",
   "metadata": {},
   "outputs": [
    {
     "name": "stdout",
     "output_type": "stream",
     "text": [
      "5641141.351462726\n"
     ]
    }
   ],
   "source": [
    "grand_total = final_value * shares\n",
    "print(grand_total)"
   ]
  },
  {
   "cell_type": "markdown",
   "id": "66ec1d9d-e85e-4d40-89e7-373ecbe3e2a4",
   "metadata": {},
   "source": [
    "This is what our money would be worth had we just had it sit in the bank. We've got a three mln whole to fill. "
   ]
  },
  {
   "cell_type": "code",
   "execution_count": null,
   "id": "f44f012a-5987-4b08-897f-33c145892cf8",
   "metadata": {},
   "outputs": [],
   "source": []
  },
  {
   "cell_type": "code",
   "execution_count": null,
   "id": "71f9c44f-3047-4721-99e5-3e64324810e7",
   "metadata": {},
   "outputs": [],
   "source": []
  },
  {
   "cell_type": "code",
   "execution_count": null,
   "id": "40de63a1-6e5e-4147-8196-f5e285daf08c",
   "metadata": {},
   "outputs": [],
   "source": []
  },
  {
   "cell_type": "markdown",
   "id": "4d52bc1f-3941-46b2-8488-c858bd57f67c",
   "metadata": {},
   "source": [
    "## X - Utility and Functions"
   ]
  },
  {
   "cell_type": "markdown",
   "id": "705dbc08-c96b-493d-876b-03d79598eec2",
   "metadata": {},
   "source": [
    "### X.1 - Websites\n",
    "- https://www.ibm.com/docs/en/watson-studio-local/1.2.3?topic=notebooks-markdown-jupyter-cheatsheet\n",
    "- https://seaborn.pydata.org/tutorial/color_palettes.html"
   ]
  },
  {
   "cell_type": "code",
   "execution_count": null,
   "id": "159f1332-ad0e-4d9f-859e-ee02d4372634",
   "metadata": {},
   "outputs": [],
   "source": []
  },
  {
   "cell_type": "code",
   "execution_count": null,
   "id": "dc28477e-346a-46f9-8494-dcfa956bfd6b",
   "metadata": {},
   "outputs": [],
   "source": [
    "plt.plot(df['Year'], df['Unemployment_Rate'], color='red', marker='o')\n",
    "plt.title('Unemployment Rate Vs Year', fontsize=14)\n",
    "plt.xlabel('Year', fontsize=14)\n",
    "plt.ylabel('Unemployment Rate', fontsize=14)\n",
    "plt.grid(True)\n",
    "plt.show()"
   ]
  }
 ],
 "metadata": {
  "kernelspec": {
   "display_name": "Python 3 (ipykernel)",
   "language": "python",
   "name": "python3"
  },
  "language_info": {
   "codemirror_mode": {
    "name": "ipython",
    "version": 3
   },
   "file_extension": ".py",
   "mimetype": "text/x-python",
   "name": "python",
   "nbconvert_exporter": "python",
   "pygments_lexer": "ipython3",
   "version": "3.9.7"
  }
 },
 "nbformat": 4,
 "nbformat_minor": 5
}
