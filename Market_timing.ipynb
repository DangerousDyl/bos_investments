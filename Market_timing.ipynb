{
 "cells": [
  {
   "cell_type": "markdown",
   "id": "3a642cff-7ae4-4b67-90e9-23b3ae1e8f2a",
   "metadata": {
    "tags": []
   },
   "source": [
    "# Market Timing Algorithm"
   ]
  },
  {
   "cell_type": "markdown",
   "id": "7455cc6d-e503-4aa6-9ee1-0849c20aaaae",
   "metadata": {
    "tags": []
   },
   "source": [
    "## 1 - Context and Theory"
   ]
  },
  {
   "cell_type": "markdown",
   "id": "dba1f91b-2f6f-45d0-ab72-a56811f04c9a",
   "metadata": {},
   "source": [
    "Key principle: There is long run growth in stock returns, which has predictive power such that: \n",
    "- When price is significantly above the trend line, it is a sell opportunity\n",
    "- When price is significantly below trend, it is a buy opportunity\n",
    "\n",
    "A number of things need to be discovered:\n",
    "- Optimum trend line\n",
    "- Optimimum timing threshold\n",
    "- Optimum sell-off weight\n",
    "\n",
    "Link\n",
    "- https://pandas.pydata.org/pandas-docs/version/1.2.3/getting_started/intro_tutorials/09_timeseries.html\n",
    "- https://pandas.pydata.org/docs/user_guide/indexing.html\n",
    "- http://www.kasimte.com/2020/02/09/linear-regression-from-time-series-data-using-scikit-learn.html\n",
    "- https://scikit-learn.org/stable/auto_examples/linear_model/plot_ols.html\n",
    "- https://www.kaggle.com/code/ryanholbrook/linear-regression-with-time-series/tutorial"
   ]
  },
  {
   "cell_type": "markdown",
   "id": "e61fbc95-c70f-4dd9-80a2-7bac07f91c0a",
   "metadata": {},
   "source": [
    "#### 1.1 - Optimum Trend Line\n",
    "Several options here, from full-on machine learning models, to factor regressions, to straight line rules. We want to first focus on the simplest ideas.\n",
    "\n",
    "For a trendline to be practible, it needs to:\n",
    "- Regularly and meaningfully deviate from price\n",
    "\n",
    "***Ideas***\n",
    "- CAGR\n",
    "- Simple regression"
   ]
  },
  {
   "cell_type": "markdown",
   "id": "c012a63d-d92f-4391-92a8-f7dacbea8112",
   "metadata": {},
   "source": [
    "#### 1.2 - To Dos\n",
    "\n",
    "***Deeper Study of CAGR relation to historical returns***\n",
    "Overlay plot of year-on-year returns  (or longer?) with price charts and see what the periods of greatest longer term return looks like\n",
    "- Idea: Add coloured bands when CAGR is \n",
    "- Use standard error instead of percentiles"
   ]
  },
  {
   "cell_type": "code",
   "execution_count": 1,
   "id": "bd871554-1732-4d87-aa21-0841498cc088",
   "metadata": {},
   "outputs": [],
   "source": [
    "# For reading stock data from yahoo\n",
    "#from pandas_datareader.data import DataReader\n",
    "#import yfinance as yf"
   ]
  },
  {
   "cell_type": "markdown",
   "id": "d6dba20f-85ce-4acf-8ebe-ccad1b265c44",
   "metadata": {
    "tags": []
   },
   "source": [
    "## 2 - Creating Infrastructure and Dataset"
   ]
  },
  {
   "cell_type": "markdown",
   "id": "d8eb5726-596d-4133-90c4-92c276a7d1b0",
   "metadata": {
    "tags": []
   },
   "source": [
    "#### 2.1 - Imports"
   ]
  },
  {
   "cell_type": "code",
   "execution_count": 2,
   "id": "912cb0e6-a18d-48cb-a1ac-41f9a08f4271",
   "metadata": {},
   "outputs": [],
   "source": [
    "import os\n",
    "import pandas as pd \n",
    "import numpy as np \n",
    "import matplotlib as plt \n",
    "import seaborn as sns    #not required until graphing\n",
    "from datetime import datetime\n",
    "import matplotlib.pyplot as plt\n",
    "import statsmodels.api as sm\n",
    "from sklearn import linear_model\n",
    "sns.set_style(\"white\")\n",
    "sns.set_palette(\"deep\")"
   ]
  },
  {
   "cell_type": "markdown",
   "id": "419d5e6d-194f-4f76-a55a-0186278654af",
   "metadata": {},
   "source": [
    "#### 2.2 - Fixing the Directory"
   ]
  },
  {
   "cell_type": "code",
   "execution_count": 3,
   "id": "6457535a-78c1-4c46-8473-27107ba24c78",
   "metadata": {},
   "outputs": [
    {
     "data": {
      "text/plain": [
       "'C:\\\\Users\\\\alexb\\\\OneDrive\\\\Documents\\\\02 - Work\\\\coding\\\\TimeSeries'"
      ]
     },
     "execution_count": 3,
     "metadata": {},
     "output_type": "execute_result"
    }
   ],
   "source": [
    "env = os.chdir(r'C:\\Users\\alexb\\OneDrive\\Documents\\02 - Work\\coding\\TimeSeries')\n",
    "path = os.getcwd()\n",
    "path"
   ]
  },
  {
   "cell_type": "code",
   "execution_count": 4,
   "id": "3b3d53d1-c9dd-4ede-9b4e-951be9733799",
   "metadata": {},
   "outputs": [
    {
     "data": {
      "text/html": [
       "<style>\n",
       "table {float:left}\n",
       "</style>\n"
      ],
      "text/plain": [
       "<IPython.core.display.HTML object>"
      ]
     },
     "metadata": {},
     "output_type": "display_data"
    }
   ],
   "source": [
    "%%html \n",
    "<style>\n",
    "table {float:left}\n",
    "</style>"
   ]
  },
  {
   "cell_type": "markdown",
   "id": "935662e2-0335-46d3-b24f-73e0a02607a6",
   "metadata": {},
   "source": [
    "#### 2.3 - Downloading and Cleaning the data\n",
    "In our case, data comes from: https://www.kaggle.com/datasets/pdquant/sp500-daily-19862018?resource=download\n",
    "- *Frequency*: Daily, excluding weekends\n",
    "- *Start year*: 2-January-1986\n",
    "- *End year*: 29-Jun-18\n",
    "- *Number of periods*: 8192\n",
    "\n",
    "***Descriptive Statistics***\n",
    "\n",
    "| Metric      | Value       |   | Metric      | Value       |\n",
    "| ----------- | ----------- |   |-------------|-------------|\n",
    "| Frequency   | Daily (B)   |   | Count       | 8192        |\n",
    "| Start Year  | 02-Jan-1986 |   | Mean        | 1070        |\n",
    "| End Year    | 29-Jun-2018 |   | Max         | 2872        | \n",
    "| Periods     | 8192        |   | StD         | 616         |"
   ]
  },
  {
   "cell_type": "code",
   "execution_count": 5,
   "id": "f0b09c90-1f6c-4636-baca-48ec3612f628",
   "metadata": {},
   "outputs": [],
   "source": [
    "df1 = pd.read_csv(\"spx.csv\", infer_datetime_format = True)\n",
    "\n",
    "#----------Testing-------------#\n",
    "#print(df1.describe())\n",
    "#df1.head(3)"
   ]
  },
  {
   "cell_type": "code",
   "execution_count": 6,
   "id": "c1f345b6-3f0d-47e9-a620-5041a2df8c81",
   "metadata": {},
   "outputs": [
    {
     "data": {
      "text/html": [
       "<div>\n",
       "<style scoped>\n",
       "    .dataframe tbody tr th:only-of-type {\n",
       "        vertical-align: middle;\n",
       "    }\n",
       "\n",
       "    .dataframe tbody tr th {\n",
       "        vertical-align: top;\n",
       "    }\n",
       "\n",
       "    .dataframe thead th {\n",
       "        text-align: right;\n",
       "    }\n",
       "</style>\n",
       "<table border=\"1\" class=\"dataframe\">\n",
       "  <thead>\n",
       "    <tr style=\"text-align: right;\">\n",
       "      <th></th>\n",
       "      <th>date</th>\n",
       "      <th>close</th>\n",
       "    </tr>\n",
       "  </thead>\n",
       "  <tbody>\n",
       "    <tr>\n",
       "      <th>0</th>\n",
       "      <td>1986-01-02</td>\n",
       "      <td>209.59</td>\n",
       "    </tr>\n",
       "    <tr>\n",
       "      <th>1</th>\n",
       "      <td>1986-01-03</td>\n",
       "      <td>210.88</td>\n",
       "    </tr>\n",
       "    <tr>\n",
       "      <th>2</th>\n",
       "      <td>1986-01-06</td>\n",
       "      <td>210.65</td>\n",
       "    </tr>\n",
       "  </tbody>\n",
       "</table>\n",
       "</div>"
      ],
      "text/plain": [
       "        date   close\n",
       "0 1986-01-02  209.59\n",
       "1 1986-01-03  210.88\n",
       "2 1986-01-06  210.65"
      ]
     },
     "execution_count": 6,
     "metadata": {},
     "output_type": "execute_result"
    }
   ],
   "source": [
    "df1['date'] = pd.to_datetime(df1['date'])    #Uncomment everytime you rerun\n",
    "#df1.set_index('date', inplace=True)\n",
    "\n",
    "#----------Testing-------------#\n",
    "df1.head(3)"
   ]
  },
  {
   "cell_type": "markdown",
   "id": "89517f2f-e0d7-438f-8661-6d9275eb48e0",
   "metadata": {},
   "source": [
    "#### 2.4 - A First Look"
   ]
  },
  {
   "cell_type": "code",
   "execution_count": 7,
   "id": "f436e96b-252e-4f6d-8483-f9677cb108d3",
   "metadata": {
    "tags": []
   },
   "outputs": [
    {
     "data": {
      "image/png": "[encoded data removed]",
      "text/plain": [
       "<Figure size 432x288 with 1 Axes>"
      ]
     },
     "metadata": {},
     "output_type": "display_data"
    }
   ],
   "source": [
    "plt.plot(df1[\"close\"], marker=\"o\", ms=1.5)\n",
    "\n",
    "# Labelling \n",
    "\n",
    "plt.xlabel(\"Date\")\n",
    "plt.ylabel(\"Price\")\n",
    "plt.title(\"S&P 500: Historical price from 1986 to 2018\")\n",
    "\n",
    "#plt.xlim([datetime.date(1886, 1, 1), datetime.date(2018, 1, 1)])\n",
    "#plt.ylim(-20,20)\n",
    "\n",
    "plt.show()"
   ]
  },
  {
   "cell_type": "markdown",
   "id": "62300f46-1be8-409e-9d3d-11219324fddd",
   "metadata": {},
   "source": [
    "Looks good - let's see how it looks when we add the inflation data"
   ]
  },
  {
   "cell_type": "markdown",
   "id": "70f1b453-a353-44ab-ac1c-66947aed4ac3",
   "metadata": {
    "tags": []
   },
   "source": [
    "## 3 - Adjusting for Inflation"
   ]
  },
  {
   "cell_type": "markdown",
   "id": "02dc25ca-d09a-41d5-a608-91f844ed9cbb",
   "metadata": {},
   "source": [
    "Given the length of our timeseries we have to adjust for inflation. To do this we use the CPI to benchmark our price data.\n",
    "\n",
    "Theory: https://people.duke.edu/~rnau/411infla.htm\n",
    "- *Source*: https://data.bls.gov/\n",
    "- *Series Title*: All items in U.S. city average, all urban consumers, not seasonally adjusted\n",
    "- *Area*: U.S. city average\n",
    "- *Base Period*:  1982-84=100\n",
    "\n",
    "Current problem: Monthly data to daily\n",
    "(Note - highlights where returns are supernormal or super abnormal)"
   ]
  },
  {
   "cell_type": "markdown",
   "id": "23390f39-5cf2-4ac8-94ba-abd2fe269add",
   "metadata": {},
   "source": [
    "#### 3.1 - Importing Dataset"
   ]
  },
  {
   "cell_type": "code",
   "execution_count": 8,
   "id": "35eb0cea-925b-4d7b-89e5-d2ae0b71ab34",
   "metadata": {},
   "outputs": [],
   "source": [
    "cpi = pd.read_csv(\"cpi.csv\", infer_datetime_format = True)\n",
    "#cpi.head(4)"
   ]
  },
  {
   "cell_type": "code",
   "execution_count": 9,
   "id": "4be7e0b2-014e-433f-9188-a15bd4e67934",
   "metadata": {},
   "outputs": [
    {
     "data": {
      "text/html": [
       "<div>\n",
       "<style scoped>\n",
       "    .dataframe tbody tr th:only-of-type {\n",
       "        vertical-align: middle;\n",
       "    }\n",
       "\n",
       "    .dataframe tbody tr th {\n",
       "        vertical-align: top;\n",
       "    }\n",
       "\n",
       "    .dataframe thead th {\n",
       "        text-align: right;\n",
       "    }\n",
       "</style>\n",
       "<table border=\"1\" class=\"dataframe\">\n",
       "  <thead>\n",
       "    <tr style=\"text-align: right;\">\n",
       "      <th></th>\n",
       "      <th>Date</th>\n",
       "      <th>Price</th>\n",
       "    </tr>\n",
       "  </thead>\n",
       "  <tbody>\n",
       "    <tr>\n",
       "      <th>0</th>\n",
       "      <td>1986-01-01</td>\n",
       "      <td>109.6</td>\n",
       "    </tr>\n",
       "    <tr>\n",
       "      <th>1</th>\n",
       "      <td>1986-02-01</td>\n",
       "      <td>109.3</td>\n",
       "    </tr>\n",
       "    <tr>\n",
       "      <th>2</th>\n",
       "      <td>1986-03-01</td>\n",
       "      <td>108.8</td>\n",
       "    </tr>\n",
       "  </tbody>\n",
       "</table>\n",
       "</div>"
      ],
      "text/plain": [
       "        Date  Price\n",
       "0 1986-01-01  109.6\n",
       "1 1986-02-01  109.3\n",
       "2 1986-03-01  108.8"
      ]
     },
     "execution_count": 9,
     "metadata": {},
     "output_type": "execute_result"
    }
   ],
   "source": [
    "cpi['Date'] = pd.to_datetime(cpi['Date'], format='%d-%m-%Y')\n",
    "#cpi.set_index('Date', inplace=True)\n",
    "\n",
    "cpi.head(3)\n",
    "\n",
    "#result = cpi.dtypes\n",
    "#result\n"
   ]
  },
  {
   "cell_type": "markdown",
   "id": "2733a002-8c89-4da5-b465-b77a27cf73f9",
   "metadata": {},
   "source": [
    "#### 3.2 - Merging CPI data with price data\n",
    "Strategy:\n",
    "- Create list of month_year combinations in CPI dataframe\n",
    "- Create list of month_year combinations in S&P dataframe\n",
    "- Merge value if they equal each other"
   ]
  },
  {
   "cell_type": "code",
   "execution_count": 10,
   "id": "9677119d-a3dc-4f5d-abc4-4e9da1e3e889",
   "metadata": {},
   "outputs": [
    {
     "data": {
      "text/html": [
       "<div>\n",
       "<style scoped>\n",
       "    .dataframe tbody tr th:only-of-type {\n",
       "        vertical-align: middle;\n",
       "    }\n",
       "\n",
       "    .dataframe tbody tr th {\n",
       "        vertical-align: top;\n",
       "    }\n",
       "\n",
       "    .dataframe thead th {\n",
       "        text-align: right;\n",
       "    }\n",
       "</style>\n",
       "<table border=\"1\" class=\"dataframe\">\n",
       "  <thead>\n",
       "    <tr style=\"text-align: right;\">\n",
       "      <th></th>\n",
       "      <th>Date</th>\n",
       "      <th>Price</th>\n",
       "      <th>month_year</th>\n",
       "    </tr>\n",
       "  </thead>\n",
       "  <tbody>\n",
       "    <tr>\n",
       "      <th>0</th>\n",
       "      <td>1986-01-01</td>\n",
       "      <td>109.6</td>\n",
       "      <td>1986-01</td>\n",
       "    </tr>\n",
       "    <tr>\n",
       "      <th>1</th>\n",
       "      <td>1986-02-01</td>\n",
       "      <td>109.3</td>\n",
       "      <td>1986-02</td>\n",
       "    </tr>\n",
       "    <tr>\n",
       "      <th>2</th>\n",
       "      <td>1986-03-01</td>\n",
       "      <td>108.8</td>\n",
       "      <td>1986-03</td>\n",
       "    </tr>\n",
       "    <tr>\n",
       "      <th>3</th>\n",
       "      <td>1986-04-01</td>\n",
       "      <td>108.6</td>\n",
       "      <td>1986-04</td>\n",
       "    </tr>\n",
       "    <tr>\n",
       "      <th>4</th>\n",
       "      <td>1986-05-01</td>\n",
       "      <td>108.9</td>\n",
       "      <td>1986-05</td>\n",
       "    </tr>\n",
       "  </tbody>\n",
       "</table>\n",
       "</div>"
      ],
      "text/plain": [
       "        Date  Price month_year\n",
       "0 1986-01-01  109.6    1986-01\n",
       "1 1986-02-01  109.3    1986-02\n",
       "2 1986-03-01  108.8    1986-03\n",
       "3 1986-04-01  108.6    1986-04\n",
       "4 1986-05-01  108.9    1986-05"
      ]
     },
     "execution_count": 10,
     "metadata": {},
     "output_type": "execute_result"
    }
   ],
   "source": [
    "cpi['month_year'] = cpi['Date'].dt.to_period('M')\n",
    "cpi.head(5)"
   ]
  },
  {
   "cell_type": "code",
   "execution_count": 11,
   "id": "d3381eab-2e46-43cd-993b-2fb25af92697",
   "metadata": {},
   "outputs": [
    {
     "data": {
      "text/html": [
       "<div>\n",
       "<style scoped>\n",
       "    .dataframe tbody tr th:only-of-type {\n",
       "        vertical-align: middle;\n",
       "    }\n",
       "\n",
       "    .dataframe tbody tr th {\n",
       "        vertical-align: top;\n",
       "    }\n",
       "\n",
       "    .dataframe thead th {\n",
       "        text-align: right;\n",
       "    }\n",
       "</style>\n",
       "<table border=\"1\" class=\"dataframe\">\n",
       "  <thead>\n",
       "    <tr style=\"text-align: right;\">\n",
       "      <th></th>\n",
       "      <th>date</th>\n",
       "      <th>close</th>\n",
       "      <th>month_year</th>\n",
       "    </tr>\n",
       "  </thead>\n",
       "  <tbody>\n",
       "    <tr>\n",
       "      <th>0</th>\n",
       "      <td>1986-01-02</td>\n",
       "      <td>209.59</td>\n",
       "      <td>1986-01</td>\n",
       "    </tr>\n",
       "    <tr>\n",
       "      <th>1</th>\n",
       "      <td>1986-01-03</td>\n",
       "      <td>210.88</td>\n",
       "      <td>1986-01</td>\n",
       "    </tr>\n",
       "    <tr>\n",
       "      <th>2</th>\n",
       "      <td>1986-01-06</td>\n",
       "      <td>210.65</td>\n",
       "      <td>1986-01</td>\n",
       "    </tr>\n",
       "    <tr>\n",
       "      <th>3</th>\n",
       "      <td>1986-01-07</td>\n",
       "      <td>213.80</td>\n",
       "      <td>1986-01</td>\n",
       "    </tr>\n",
       "    <tr>\n",
       "      <th>4</th>\n",
       "      <td>1986-01-08</td>\n",
       "      <td>207.97</td>\n",
       "      <td>1986-01</td>\n",
       "    </tr>\n",
       "  </tbody>\n",
       "</table>\n",
       "</div>"
      ],
      "text/plain": [
       "        date   close month_year\n",
       "0 1986-01-02  209.59    1986-01\n",
       "1 1986-01-03  210.88    1986-01\n",
       "2 1986-01-06  210.65    1986-01\n",
       "3 1986-01-07  213.80    1986-01\n",
       "4 1986-01-08  207.97    1986-01"
      ]
     },
     "execution_count": 11,
     "metadata": {},
     "output_type": "execute_result"
    }
   ],
   "source": [
    "df1['month_year'] = df1['date'].dt.to_period('M')\n",
    "df1.head(5)"
   ]
  },
  {
   "cell_type": "code",
   "execution_count": 115,
   "id": "56e16ab1-c2be-4152-81ec-c4c5b0901262",
   "metadata": {},
   "outputs": [
    {
     "name": "stdout",
     "output_type": "stream",
     "text": [
      "0   1986-01-02\n",
      "1   1986-01-03\n",
      "2   1986-01-06\n",
      "3   1986-01-07\n",
      "4   1986-01-08\n",
      "5   1986-01-09\n",
      "Name: date, dtype: datetime64[ns]\n"
     ]
    },
    {
     "data": {
      "text/plain": [
       "8192"
      ]
     },
     "execution_count": 115,
     "metadata": {},
     "output_type": "execute_result"
    }
   ],
   "source": [
    "date_list = pd.to_datetime(df1['date'])\n",
    "print(date_list.head(6))\n",
    "\n",
    "rows = len(date_list) \n",
    "rows      # to give us the number of times we need to run the loop"
   ]
  },
  {
   "cell_type": "code",
   "execution_count": 116,
   "id": "cd47c510-5235-44db-ac05-6f2e4ba2abe4",
   "metadata": {},
   "outputs": [
    {
     "data": {
      "text/plain": [
       "0   1986-01-02\n",
       "1   1986-01-03\n",
       "2   1986-01-06\n",
       "3   1986-01-07\n",
       "4   1986-01-08\n",
       "5   1986-01-09\n",
       "Name: date, dtype: datetime64[ns]"
      ]
     },
     "execution_count": 116,
     "metadata": {},
     "output_type": "execute_result"
    }
   ],
   "source": []
  },
  {
   "cell_type": "code",
   "execution_count": 13,
   "id": "51d6a49a-0743-4f7c-98e4-8bfa5a57c00e",
   "metadata": {},
   "outputs": [
    {
     "name": "stdout",
     "output_type": "stream",
     "text": [
      "1986-01\n",
      "4\n",
      "108.6\n"
     ]
    }
   ],
   "source": [
    "sp_date = df1.iloc[3,2]\n",
    "print(sp_date)\n",
    "\n",
    "cpi_index = cpi[cpi['month_year']=='1986-05'].index.values\n",
    "cpi_index = cpi_index[0]\n",
    "print(cpi_index)\n",
    "\n",
    "cpi_value = cpi.iloc[3,1]\n",
    "print(cpi_value)"
   ]
  },
  {
   "cell_type": "code",
   "execution_count": 117,
   "id": "2adefd4c-9319-4b75-8ab8-fb41dbda07db",
   "metadata": {},
   "outputs": [
    {
     "ename": "IndexError",
     "evalue": "index 0 is out of bounds for axis 0 with size 0",
     "output_type": "error",
     "traceback": [
      "\u001b[1;31m---------------------------------------------------------------------------\u001b[0m",
      "\u001b[1;31mIndexError\u001b[0m                                Traceback (most recent call last)",
      "\u001b[1;32m~\\AppData\\Local\\Temp/ipykernel_56080/1612530869.py\u001b[0m in \u001b[0;36m<module>\u001b[1;34m\u001b[0m\n\u001b[0;32m      5\u001b[0m     \u001b[0msp_date\u001b[0m \u001b[1;33m=\u001b[0m \u001b[0mdf1\u001b[0m\u001b[1;33m.\u001b[0m\u001b[0miloc\u001b[0m\u001b[1;33m[\u001b[0m\u001b[0mi\u001b[0m\u001b[1;33m,\u001b[0m\u001b[1;36m2\u001b[0m\u001b[1;33m]\u001b[0m\u001b[1;33m\u001b[0m\u001b[1;33m\u001b[0m\u001b[0m\n\u001b[0;32m      6\u001b[0m     \u001b[0mcpi_index\u001b[0m \u001b[1;33m=\u001b[0m \u001b[0mcpi\u001b[0m\u001b[1;33m[\u001b[0m\u001b[0mcpi\u001b[0m\u001b[1;33m[\u001b[0m\u001b[1;34m'month_year'\u001b[0m\u001b[1;33m]\u001b[0m\u001b[1;33m==\u001b[0m\u001b[0msp_date\u001b[0m\u001b[1;33m]\u001b[0m\u001b[1;33m.\u001b[0m\u001b[0mindex\u001b[0m\u001b[1;33m.\u001b[0m\u001b[0mvalues\u001b[0m\u001b[1;33m\u001b[0m\u001b[1;33m\u001b[0m\u001b[0m\n\u001b[1;32m----> 7\u001b[1;33m     \u001b[0mcpi_index\u001b[0m \u001b[1;33m=\u001b[0m \u001b[0mcpi_index\u001b[0m\u001b[1;33m[\u001b[0m\u001b[1;36m0\u001b[0m\u001b[1;33m]\u001b[0m\u001b[1;33m\u001b[0m\u001b[1;33m\u001b[0m\u001b[0m\n\u001b[0m\u001b[0;32m      8\u001b[0m     \u001b[0mcpi_value\u001b[0m \u001b[1;33m=\u001b[0m \u001b[0mcpi\u001b[0m\u001b[1;33m.\u001b[0m\u001b[0miloc\u001b[0m\u001b[1;33m[\u001b[0m\u001b[0mcpi_index\u001b[0m\u001b[1;33m,\u001b[0m\u001b[1;36m1\u001b[0m\u001b[1;33m]\u001b[0m\u001b[1;33m\u001b[0m\u001b[1;33m\u001b[0m\u001b[0m\n\u001b[0;32m      9\u001b[0m     \u001b[0mtemp_list\u001b[0m\u001b[1;33m.\u001b[0m\u001b[0mappend\u001b[0m\u001b[1;33m(\u001b[0m\u001b[0mcpi_value\u001b[0m\u001b[1;33m)\u001b[0m\u001b[1;33m\u001b[0m\u001b[1;33m\u001b[0m\u001b[0m\n",
      "\u001b[1;31mIndexError\u001b[0m: index 0 is out of bounds for axis 0 with size 0"
     ]
    }
   ],
   "source": [
    "temp_list = []\n",
    "i = 0\n",
    "\n",
    "for i in range(rows):\n",
    "    sp_date = df1.iloc[i,2]\n",
    "    cpi_index = cpi[cpi['month_year']==sp_date].index.values\n",
    "    cpi_index = cpi_index[0]\n",
    "    cpi_value = cpi.iloc[cpi_index,1]\n",
    "    temp_list.append(cpi_value)\n",
    "    \n",
    "    i = i + 1\n",
    "\n",
    "df1[\"cpi\"] = temp_list\n",
    "\n",
    "df1.tail(5)\n",
    "    "
   ]
  },
  {
   "cell_type": "code",
   "execution_count": 15,
   "id": "fc26ad49-e20b-4bcb-9171-a7f9f2d4d6ca",
   "metadata": {},
   "outputs": [
    {
     "data": {
      "text/html": [
       "<div>\n",
       "<style scoped>\n",
       "    .dataframe tbody tr th:only-of-type {\n",
       "        vertical-align: middle;\n",
       "    }\n",
       "\n",
       "    .dataframe tbody tr th {\n",
       "        vertical-align: top;\n",
       "    }\n",
       "\n",
       "    .dataframe thead th {\n",
       "        text-align: right;\n",
       "    }\n",
       "</style>\n",
       "<table border=\"1\" class=\"dataframe\">\n",
       "  <thead>\n",
       "    <tr style=\"text-align: right;\">\n",
       "      <th></th>\n",
       "      <th>date</th>\n",
       "      <th>close</th>\n",
       "      <th>month_year</th>\n",
       "      <th>cpi</th>\n",
       "      <th>price</th>\n",
       "    </tr>\n",
       "  </thead>\n",
       "  <tbody>\n",
       "    <tr>\n",
       "      <th>0</th>\n",
       "      <td>1986-01-02</td>\n",
       "      <td>209.59</td>\n",
       "      <td>1986-01</td>\n",
       "      <td>109.6</td>\n",
       "      <td>191.231752</td>\n",
       "    </tr>\n",
       "    <tr>\n",
       "      <th>1</th>\n",
       "      <td>1986-01-03</td>\n",
       "      <td>210.88</td>\n",
       "      <td>1986-01</td>\n",
       "      <td>109.6</td>\n",
       "      <td>192.408759</td>\n",
       "    </tr>\n",
       "    <tr>\n",
       "      <th>2</th>\n",
       "      <td>1986-01-06</td>\n",
       "      <td>210.65</td>\n",
       "      <td>1986-01</td>\n",
       "      <td>109.6</td>\n",
       "      <td>192.198905</td>\n",
       "    </tr>\n",
       "    <tr>\n",
       "      <th>3</th>\n",
       "      <td>1986-01-07</td>\n",
       "      <td>213.80</td>\n",
       "      <td>1986-01</td>\n",
       "      <td>109.6</td>\n",
       "      <td>195.072993</td>\n",
       "    </tr>\n",
       "    <tr>\n",
       "      <th>4</th>\n",
       "      <td>1986-01-08</td>\n",
       "      <td>207.97</td>\n",
       "      <td>1986-01</td>\n",
       "      <td>109.6</td>\n",
       "      <td>189.753650</td>\n",
       "    </tr>\n",
       "  </tbody>\n",
       "</table>\n",
       "</div>"
      ],
      "text/plain": [
       "        date   close month_year    cpi       price\n",
       "0 1986-01-02  209.59    1986-01  109.6  191.231752\n",
       "1 1986-01-03  210.88    1986-01  109.6  192.408759\n",
       "2 1986-01-06  210.65    1986-01  109.6  192.198905\n",
       "3 1986-01-07  213.80    1986-01  109.6  195.072993\n",
       "4 1986-01-08  207.97    1986-01  109.6  189.753650"
      ]
     },
     "execution_count": 15,
     "metadata": {},
     "output_type": "execute_result"
    }
   ],
   "source": [
    "df1['price'] = (df1['close'] / df1['cpi']) * 100\n",
    "df1.head(5)"
   ]
  },
  {
   "cell_type": "code",
   "execution_count": 16,
   "id": "1326974b-7438-4270-849c-0963e7fff0f3",
   "metadata": {},
   "outputs": [
    {
     "data": {
      "text/html": [
       "<div>\n",
       "<style scoped>\n",
       "    .dataframe tbody tr th:only-of-type {\n",
       "        vertical-align: middle;\n",
       "    }\n",
       "\n",
       "    .dataframe tbody tr th {\n",
       "        vertical-align: top;\n",
       "    }\n",
       "\n",
       "    .dataframe thead th {\n",
       "        text-align: right;\n",
       "    }\n",
       "</style>\n",
       "<table border=\"1\" class=\"dataframe\">\n",
       "  <thead>\n",
       "    <tr style=\"text-align: right;\">\n",
       "      <th></th>\n",
       "      <th>date</th>\n",
       "      <th>close</th>\n",
       "      <th>cpi</th>\n",
       "      <th>price</th>\n",
       "    </tr>\n",
       "  </thead>\n",
       "  <tbody>\n",
       "    <tr>\n",
       "      <th>0</th>\n",
       "      <td>1986-01-02</td>\n",
       "      <td>209.59</td>\n",
       "      <td>109.6</td>\n",
       "      <td>191.231752</td>\n",
       "    </tr>\n",
       "    <tr>\n",
       "      <th>1</th>\n",
       "      <td>1986-01-03</td>\n",
       "      <td>210.88</td>\n",
       "      <td>109.6</td>\n",
       "      <td>192.408759</td>\n",
       "    </tr>\n",
       "    <tr>\n",
       "      <th>2</th>\n",
       "      <td>1986-01-06</td>\n",
       "      <td>210.65</td>\n",
       "      <td>109.6</td>\n",
       "      <td>192.198905</td>\n",
       "    </tr>\n",
       "    <tr>\n",
       "      <th>3</th>\n",
       "      <td>1986-01-07</td>\n",
       "      <td>213.80</td>\n",
       "      <td>109.6</td>\n",
       "      <td>195.072993</td>\n",
       "    </tr>\n",
       "    <tr>\n",
       "      <th>4</th>\n",
       "      <td>1986-01-08</td>\n",
       "      <td>207.97</td>\n",
       "      <td>109.6</td>\n",
       "      <td>189.753650</td>\n",
       "    </tr>\n",
       "  </tbody>\n",
       "</table>\n",
       "</div>"
      ],
      "text/plain": [
       "        date   close    cpi       price\n",
       "0 1986-01-02  209.59  109.6  191.231752\n",
       "1 1986-01-03  210.88  109.6  192.408759\n",
       "2 1986-01-06  210.65  109.6  192.198905\n",
       "3 1986-01-07  213.80  109.6  195.072993\n",
       "4 1986-01-08  207.97  109.6  189.753650"
      ]
     },
     "execution_count": 16,
     "metadata": {},
     "output_type": "execute_result"
    }
   ],
   "source": [
    "df1.drop('month_year', inplace=True, axis=1)\n",
    "df1.head(5)"
   ]
  },
  {
   "cell_type": "markdown",
   "id": "ce422d4c-f2d9-45c4-b970-7152f3645c92",
   "metadata": {},
   "source": [
    "***Current Issues***: Slight issues towards end of month as likely deviation from inflation start is greatest. Solutions might be to incrementally move towards end"
   ]
  },
  {
   "cell_type": "markdown",
   "id": "cc3094f6-04d1-433c-ba76-ef961ad74f29",
   "metadata": {},
   "source": [
    "#### 2.4 - Calculating Inflation"
   ]
  },
  {
   "cell_type": "code",
   "execution_count": null,
   "id": "2298e573-3c75-4ea6-b94b-d3be1c3460b4",
   "metadata": {},
   "outputs": [],
   "source": []
  },
  {
   "cell_type": "markdown",
   "id": "f76ef7c8-8dbe-40f8-b175-d313a8fa4bc5",
   "metadata": {
    "tags": []
   },
   "source": [
    "## 4 - Trendline 1: CAGR"
   ]
  },
  {
   "cell_type": "markdown",
   "id": "01d4be85-ee3a-48ca-a367-ad088a51214a",
   "metadata": {},
   "source": [
    "***Goal***: Determine whether CAGR contains any information about future prices\n",
    "\n",
    "Method:\n",
    "- Create a function to predict prices based on CAGR from N periods ago to today\n",
    "- Check data to find first 'reasonable' benchmark and test"
   ]
  },
  {
   "cell_type": "markdown",
   "id": "f8b576b7-6794-46d8-b920-b64237d396ab",
   "metadata": {},
   "source": [
    "#### 4.1 - Assumptions\n",
    "We have daily data (in business days). How will we determine our decision window? A couple of ideas:\n",
    "\n",
    "***CAGR Window*** - 15 years\n",
    "***Decision Interval*** - Weekly\n",
    "\n"
   ]
  },
  {
   "cell_type": "code",
   "execution_count": 17,
   "id": "03083e92-487c-414b-9fec-ce88bd0b7bb2",
   "metadata": {},
   "outputs": [
    {
     "data": {
      "text/plain": [
       "3900"
      ]
     },
     "execution_count": 17,
     "metadata": {},
     "output_type": "execute_result"
    }
   ],
   "source": [
    "days_in_week = 5\n",
    "weeks_in_year = 52\n",
    "years_in_window = 15\n",
    "\n",
    "bin_size = days_in_week*weeks_in_year*years_in_window\n",
    "bin_size"
   ]
  },
  {
   "cell_type": "markdown",
   "id": "5f22d7d8-83b9-4656-bc49-c0dd006d8ef2",
   "metadata": {},
   "source": [
    "#### 4.2 - Creating list of start values\n",
    "To calculate CAGR we want to know, at time t, what the CAGR should have gotten us if we started investing t-25 years ago\n",
    "\n",
    "bin-size = 3900"
   ]
  },
  {
   "cell_type": "code",
   "execution_count": 18,
   "id": "8adb3554-5bce-479c-aca6-6bfb71948387",
   "metadata": {},
   "outputs": [
    {
     "data": {
      "text/html": [
       "<div>\n",
       "<style scoped>\n",
       "    .dataframe tbody tr th:only-of-type {\n",
       "        vertical-align: middle;\n",
       "    }\n",
       "\n",
       "    .dataframe tbody tr th {\n",
       "        vertical-align: top;\n",
       "    }\n",
       "\n",
       "    .dataframe thead th {\n",
       "        text-align: right;\n",
       "    }\n",
       "</style>\n",
       "<table border=\"1\" class=\"dataframe\">\n",
       "  <thead>\n",
       "    <tr style=\"text-align: right;\">\n",
       "      <th></th>\n",
       "      <th>date</th>\n",
       "      <th>close</th>\n",
       "      <th>cpi</th>\n",
       "      <th>price</th>\n",
       "      <th>start price</th>\n",
       "    </tr>\n",
       "  </thead>\n",
       "  <tbody>\n",
       "    <tr>\n",
       "      <th>0</th>\n",
       "      <td>1986-01-02</td>\n",
       "      <td>209.59</td>\n",
       "      <td>109.6</td>\n",
       "      <td>191.231752</td>\n",
       "      <td>NaN</td>\n",
       "    </tr>\n",
       "    <tr>\n",
       "      <th>1</th>\n",
       "      <td>1986-01-03</td>\n",
       "      <td>210.88</td>\n",
       "      <td>109.6</td>\n",
       "      <td>192.408759</td>\n",
       "      <td>NaN</td>\n",
       "    </tr>\n",
       "    <tr>\n",
       "      <th>2</th>\n",
       "      <td>1986-01-06</td>\n",
       "      <td>210.65</td>\n",
       "      <td>109.6</td>\n",
       "      <td>192.198905</td>\n",
       "      <td>NaN</td>\n",
       "    </tr>\n",
       "    <tr>\n",
       "      <th>3</th>\n",
       "      <td>1986-01-07</td>\n",
       "      <td>213.80</td>\n",
       "      <td>109.6</td>\n",
       "      <td>195.072993</td>\n",
       "      <td>NaN</td>\n",
       "    </tr>\n",
       "    <tr>\n",
       "      <th>4</th>\n",
       "      <td>1986-01-08</td>\n",
       "      <td>207.97</td>\n",
       "      <td>109.6</td>\n",
       "      <td>189.753650</td>\n",
       "      <td>NaN</td>\n",
       "    </tr>\n",
       "    <tr>\n",
       "      <th>...</th>\n",
       "      <td>...</td>\n",
       "      <td>...</td>\n",
       "      <td>...</td>\n",
       "      <td>...</td>\n",
       "      <td>...</td>\n",
       "    </tr>\n",
       "    <tr>\n",
       "      <th>3900</th>\n",
       "      <td>2001-06-08</td>\n",
       "      <td>1264.96</td>\n",
       "      <td>178.0</td>\n",
       "      <td>710.651685</td>\n",
       "      <td>191.231752</td>\n",
       "    </tr>\n",
       "    <tr>\n",
       "      <th>3901</th>\n",
       "      <td>2001-06-11</td>\n",
       "      <td>1254.39</td>\n",
       "      <td>178.0</td>\n",
       "      <td>704.713483</td>\n",
       "      <td>192.408759</td>\n",
       "    </tr>\n",
       "    <tr>\n",
       "      <th>3902</th>\n",
       "      <td>2001-06-12</td>\n",
       "      <td>1255.85</td>\n",
       "      <td>178.0</td>\n",
       "      <td>705.533708</td>\n",
       "      <td>192.198905</td>\n",
       "    </tr>\n",
       "    <tr>\n",
       "      <th>3903</th>\n",
       "      <td>2001-06-13</td>\n",
       "      <td>1241.60</td>\n",
       "      <td>178.0</td>\n",
       "      <td>697.528090</td>\n",
       "      <td>195.072993</td>\n",
       "    </tr>\n",
       "    <tr>\n",
       "      <th>3904</th>\n",
       "      <td>2001-06-14</td>\n",
       "      <td>1219.87</td>\n",
       "      <td>178.0</td>\n",
       "      <td>685.320225</td>\n",
       "      <td>189.753650</td>\n",
       "    </tr>\n",
       "  </tbody>\n",
       "</table>\n",
       "<p>3905 rows × 5 columns</p>\n",
       "</div>"
      ],
      "text/plain": [
       "           date    close    cpi       price  start price\n",
       "0    1986-01-02   209.59  109.6  191.231752          NaN\n",
       "1    1986-01-03   210.88  109.6  192.408759          NaN\n",
       "2    1986-01-06   210.65  109.6  192.198905          NaN\n",
       "3    1986-01-07   213.80  109.6  195.072993          NaN\n",
       "4    1986-01-08   207.97  109.6  189.753650          NaN\n",
       "...         ...      ...    ...         ...          ...\n",
       "3900 2001-06-08  1264.96  178.0  710.651685   191.231752\n",
       "3901 2001-06-11  1254.39  178.0  704.713483   192.408759\n",
       "3902 2001-06-12  1255.85  178.0  705.533708   192.198905\n",
       "3903 2001-06-13  1241.60  178.0  697.528090   195.072993\n",
       "3904 2001-06-14  1219.87  178.0  685.320225   189.753650\n",
       "\n",
       "[3905 rows x 5 columns]"
      ]
     },
     "execution_count": 18,
     "metadata": {},
     "output_type": "execute_result"
    }
   ],
   "source": [
    "start_values = []\n",
    "\n",
    "i = 0\n",
    "\n",
    "for i in range(rows):\n",
    "    start_index = i - bin_size\n",
    "    if start_index >= 0:\n",
    "        dummy = df1.iloc[start_index,3]\n",
    "        start_values.append(dummy)\n",
    "        i = i + 1\n",
    "    else:\n",
    "        start_values.append(np.nan)\n",
    "        i = i + 1\n",
    "\n",
    "df1[\"start price\"] = start_values\n",
    "df1.head(3905)"
   ]
  },
  {
   "cell_type": "markdown",
   "id": "a874753f-5880-48fa-a4fa-82b2677c2328",
   "metadata": {},
   "source": [
    "#### 4.3 - Calculating CAGR"
   ]
  },
  {
   "attachments": {
    "10c8bb9b-f273-4361-aec7-05068097656f.png": {
     "image/png": "[encoded data removed]"
    },
    "1d175627-0565-4e5c-b2d7-0c4b33f8b5cc.png": {
     "image/png": "[encoded data removed]"
    }
   },
   "cell_type": "markdown",
   "id": "ec2d9cee-71b3-417e-9234-7cb6477e5633",
   "metadata": {},
   "source": [
    "![image.png](attachment:10c8bb9b-f273-4361-aec7-05068097656f.png)![image.png](attachment:1d175627-0565-4e5c-b2d7-0c4b33f8b5cc.png)"
   ]
  },
  {
   "cell_type": "code",
   "execution_count": 19,
   "id": "bdaea85c-3fca-4deb-b4f0-eba2b1c89a45",
   "metadata": {},
   "outputs": [
    {
     "data": {
      "text/html": [
       "<div>\n",
       "<style scoped>\n",
       "    .dataframe tbody tr th:only-of-type {\n",
       "        vertical-align: middle;\n",
       "    }\n",
       "\n",
       "    .dataframe tbody tr th {\n",
       "        vertical-align: top;\n",
       "    }\n",
       "\n",
       "    .dataframe thead th {\n",
       "        text-align: right;\n",
       "    }\n",
       "</style>\n",
       "<table border=\"1\" class=\"dataframe\">\n",
       "  <thead>\n",
       "    <tr style=\"text-align: right;\">\n",
       "      <th></th>\n",
       "      <th>date</th>\n",
       "      <th>close</th>\n",
       "      <th>cpi</th>\n",
       "      <th>price</th>\n",
       "      <th>start price</th>\n",
       "      <th>cagr</th>\n",
       "    </tr>\n",
       "  </thead>\n",
       "  <tbody>\n",
       "    <tr>\n",
       "      <th>0</th>\n",
       "      <td>1986-01-02</td>\n",
       "      <td>209.59</td>\n",
       "      <td>109.6</td>\n",
       "      <td>191.231752</td>\n",
       "      <td>NaN</td>\n",
       "      <td>NaN</td>\n",
       "    </tr>\n",
       "    <tr>\n",
       "      <th>1</th>\n",
       "      <td>1986-01-03</td>\n",
       "      <td>210.88</td>\n",
       "      <td>109.6</td>\n",
       "      <td>192.408759</td>\n",
       "      <td>NaN</td>\n",
       "      <td>NaN</td>\n",
       "    </tr>\n",
       "    <tr>\n",
       "      <th>2</th>\n",
       "      <td>1986-01-06</td>\n",
       "      <td>210.65</td>\n",
       "      <td>109.6</td>\n",
       "      <td>192.198905</td>\n",
       "      <td>NaN</td>\n",
       "      <td>NaN</td>\n",
       "    </tr>\n",
       "    <tr>\n",
       "      <th>3</th>\n",
       "      <td>1986-01-07</td>\n",
       "      <td>213.80</td>\n",
       "      <td>109.6</td>\n",
       "      <td>195.072993</td>\n",
       "      <td>NaN</td>\n",
       "      <td>NaN</td>\n",
       "    </tr>\n",
       "    <tr>\n",
       "      <th>4</th>\n",
       "      <td>1986-01-08</td>\n",
       "      <td>207.97</td>\n",
       "      <td>109.6</td>\n",
       "      <td>189.753650</td>\n",
       "      <td>NaN</td>\n",
       "      <td>NaN</td>\n",
       "    </tr>\n",
       "    <tr>\n",
       "      <th>...</th>\n",
       "      <td>...</td>\n",
       "      <td>...</td>\n",
       "      <td>...</td>\n",
       "      <td>...</td>\n",
       "      <td>...</td>\n",
       "      <td>...</td>\n",
       "    </tr>\n",
       "    <tr>\n",
       "      <th>3900</th>\n",
       "      <td>2001-06-08</td>\n",
       "      <td>1264.96</td>\n",
       "      <td>178.0</td>\n",
       "      <td>710.651685</td>\n",
       "      <td>191.231752</td>\n",
       "      <td>9.145655</td>\n",
       "    </tr>\n",
       "    <tr>\n",
       "      <th>3901</th>\n",
       "      <td>2001-06-11</td>\n",
       "      <td>1254.39</td>\n",
       "      <td>178.0</td>\n",
       "      <td>704.713483</td>\n",
       "      <td>192.408759</td>\n",
       "      <td>9.040002</td>\n",
       "    </tr>\n",
       "    <tr>\n",
       "      <th>3902</th>\n",
       "      <td>2001-06-12</td>\n",
       "      <td>1255.85</td>\n",
       "      <td>178.0</td>\n",
       "      <td>705.533708</td>\n",
       "      <td>192.198905</td>\n",
       "      <td>9.056392</td>\n",
       "    </tr>\n",
       "    <tr>\n",
       "      <th>3903</th>\n",
       "      <td>2001-06-13</td>\n",
       "      <td>1241.60</td>\n",
       "      <td>178.0</td>\n",
       "      <td>697.528090</td>\n",
       "      <td>195.072993</td>\n",
       "      <td>8.865675</td>\n",
       "    </tr>\n",
       "    <tr>\n",
       "      <th>3904</th>\n",
       "      <td>2001-06-14</td>\n",
       "      <td>1219.87</td>\n",
       "      <td>178.0</td>\n",
       "      <td>685.320225</td>\n",
       "      <td>189.753650</td>\n",
       "      <td>8.938208</td>\n",
       "    </tr>\n",
       "  </tbody>\n",
       "</table>\n",
       "<p>3905 rows × 6 columns</p>\n",
       "</div>"
      ],
      "text/plain": [
       "           date    close    cpi       price  start price      cagr\n",
       "0    1986-01-02   209.59  109.6  191.231752          NaN       NaN\n",
       "1    1986-01-03   210.88  109.6  192.408759          NaN       NaN\n",
       "2    1986-01-06   210.65  109.6  192.198905          NaN       NaN\n",
       "3    1986-01-07   213.80  109.6  195.072993          NaN       NaN\n",
       "4    1986-01-08   207.97  109.6  189.753650          NaN       NaN\n",
       "...         ...      ...    ...         ...          ...       ...\n",
       "3900 2001-06-08  1264.96  178.0  710.651685   191.231752  9.145655\n",
       "3901 2001-06-11  1254.39  178.0  704.713483   192.408759  9.040002\n",
       "3902 2001-06-12  1255.85  178.0  705.533708   192.198905  9.056392\n",
       "3903 2001-06-13  1241.60  178.0  697.528090   195.072993  8.865675\n",
       "3904 2001-06-14  1219.87  178.0  685.320225   189.753650  8.938208\n",
       "\n",
       "[3905 rows x 6 columns]"
      ]
     },
     "execution_count": 19,
     "metadata": {},
     "output_type": "execute_result"
    }
   ],
   "source": [
    "df1[\"cagr\"] = (((df1[\"price\"]/df1[\"start price\"])**(1/years_in_window))-1)*100\n",
    "#df1.set_index(\"date\", inplace=True)\n",
    "\n",
    "df1.head(3905)"
   ]
  },
  {
   "cell_type": "code",
   "execution_count": 20,
   "id": "b3cbe50c-f4fb-4787-9971-2678a0a9e4f2",
   "metadata": {},
   "outputs": [
    {
     "data": {
      "image/png": "[encoded data removed]",
      "text/plain": [
       "<Figure size 432x288 with 1 Axes>"
      ]
     },
     "metadata": {},
     "output_type": "display_data"
    }
   ],
   "source": [
    "plt.plot(df1[\"cagr\"], marker=\"o\", ms=1.5)\n",
    "\n",
    "# Labelling \n",
    "\n",
    "plt.xlabel(\"Date\")\n",
    "plt.ylabel(\"CAGR\")\n",
    "plt.title(\"CAGR: Historical 15-year S&P returns from 1986 to 2018\")\n",
    "\n",
    "#plt.xlim([datetime.date(1886, 1, 1), datetime.date(2018, 1, 1)])\n",
    "#plt.ylim(-20,20)\n",
    "\n",
    "plt.show()"
   ]
  },
  {
   "cell_type": "markdown",
   "id": "ef626f53-35de-44c2-b31c-48cdc4f31227",
   "metadata": {},
   "source": [
    "#### 4.4 - Computing Predicted Value"
   ]
  },
  {
   "cell_type": "code",
   "execution_count": 21,
   "id": "9c0fb565-7e12-4a6f-a117-b4979ba3f6c9",
   "metadata": {},
   "outputs": [
    {
     "name": "stdout",
     "output_type": "stream",
     "text": [
      "710.6862790725751\n"
     ]
    }
   ],
   "source": [
    "def predict_value(cagr,start):\n",
    "    cagr = cagr / 100\n",
    "    predicted_value = start * ((1 + cagr)**years_in_window)\n",
    "    \n",
    "    return predicted_value\n",
    "\n",
    "\n",
    "value = predict_value(9.146,191.232)\n",
    "print(value)"
   ]
  },
  {
   "cell_type": "code",
   "execution_count": 22,
   "id": "b6d20e49-3b23-45b0-a61d-bec743632bc7",
   "metadata": {},
   "outputs": [
    {
     "data": {
      "text/html": [
       "<div>\n",
       "<style scoped>\n",
       "    .dataframe tbody tr th:only-of-type {\n",
       "        vertical-align: middle;\n",
       "    }\n",
       "\n",
       "    .dataframe tbody tr th {\n",
       "        vertical-align: top;\n",
       "    }\n",
       "\n",
       "    .dataframe thead th {\n",
       "        text-align: right;\n",
       "    }\n",
       "</style>\n",
       "<table border=\"1\" class=\"dataframe\">\n",
       "  <thead>\n",
       "    <tr style=\"text-align: right;\">\n",
       "      <th></th>\n",
       "      <th>date</th>\n",
       "      <th>close</th>\n",
       "      <th>cpi</th>\n",
       "      <th>price</th>\n",
       "      <th>start price</th>\n",
       "      <th>cagr</th>\n",
       "      <th>15-year predictions</th>\n",
       "    </tr>\n",
       "  </thead>\n",
       "  <tbody>\n",
       "    <tr>\n",
       "      <th>0</th>\n",
       "      <td>1986-01-02</td>\n",
       "      <td>209.59</td>\n",
       "      <td>109.6</td>\n",
       "      <td>191.231752</td>\n",
       "      <td>NaN</td>\n",
       "      <td>NaN</td>\n",
       "      <td>NaN</td>\n",
       "    </tr>\n",
       "    <tr>\n",
       "      <th>1</th>\n",
       "      <td>1986-01-03</td>\n",
       "      <td>210.88</td>\n",
       "      <td>109.6</td>\n",
       "      <td>192.408759</td>\n",
       "      <td>NaN</td>\n",
       "      <td>NaN</td>\n",
       "      <td>NaN</td>\n",
       "    </tr>\n",
       "    <tr>\n",
       "      <th>2</th>\n",
       "      <td>1986-01-06</td>\n",
       "      <td>210.65</td>\n",
       "      <td>109.6</td>\n",
       "      <td>192.198905</td>\n",
       "      <td>NaN</td>\n",
       "      <td>NaN</td>\n",
       "      <td>NaN</td>\n",
       "    </tr>\n",
       "    <tr>\n",
       "      <th>3</th>\n",
       "      <td>1986-01-07</td>\n",
       "      <td>213.80</td>\n",
       "      <td>109.6</td>\n",
       "      <td>195.072993</td>\n",
       "      <td>NaN</td>\n",
       "      <td>NaN</td>\n",
       "      <td>NaN</td>\n",
       "    </tr>\n",
       "    <tr>\n",
       "      <th>4</th>\n",
       "      <td>1986-01-08</td>\n",
       "      <td>207.97</td>\n",
       "      <td>109.6</td>\n",
       "      <td>189.753650</td>\n",
       "      <td>NaN</td>\n",
       "      <td>NaN</td>\n",
       "      <td>NaN</td>\n",
       "    </tr>\n",
       "    <tr>\n",
       "      <th>...</th>\n",
       "      <td>...</td>\n",
       "      <td>...</td>\n",
       "      <td>...</td>\n",
       "      <td>...</td>\n",
       "      <td>...</td>\n",
       "      <td>...</td>\n",
       "      <td>...</td>\n",
       "    </tr>\n",
       "    <tr>\n",
       "      <th>3900</th>\n",
       "      <td>2001-06-08</td>\n",
       "      <td>1264.96</td>\n",
       "      <td>178.0</td>\n",
       "      <td>710.651685</td>\n",
       "      <td>191.231752</td>\n",
       "      <td>9.145655</td>\n",
       "      <td>710.651685</td>\n",
       "    </tr>\n",
       "    <tr>\n",
       "      <th>3901</th>\n",
       "      <td>2001-06-11</td>\n",
       "      <td>1254.39</td>\n",
       "      <td>178.0</td>\n",
       "      <td>704.713483</td>\n",
       "      <td>192.408759</td>\n",
       "      <td>9.040002</td>\n",
       "      <td>704.713483</td>\n",
       "    </tr>\n",
       "    <tr>\n",
       "      <th>3902</th>\n",
       "      <td>2001-06-12</td>\n",
       "      <td>1255.85</td>\n",
       "      <td>178.0</td>\n",
       "      <td>705.533708</td>\n",
       "      <td>192.198905</td>\n",
       "      <td>9.056392</td>\n",
       "      <td>705.533708</td>\n",
       "    </tr>\n",
       "    <tr>\n",
       "      <th>3903</th>\n",
       "      <td>2001-06-13</td>\n",
       "      <td>1241.60</td>\n",
       "      <td>178.0</td>\n",
       "      <td>697.528090</td>\n",
       "      <td>195.072993</td>\n",
       "      <td>8.865675</td>\n",
       "      <td>697.528090</td>\n",
       "    </tr>\n",
       "    <tr>\n",
       "      <th>3904</th>\n",
       "      <td>2001-06-14</td>\n",
       "      <td>1219.87</td>\n",
       "      <td>178.0</td>\n",
       "      <td>685.320225</td>\n",
       "      <td>189.753650</td>\n",
       "      <td>8.938208</td>\n",
       "      <td>685.320225</td>\n",
       "    </tr>\n",
       "  </tbody>\n",
       "</table>\n",
       "<p>3905 rows × 7 columns</p>\n",
       "</div>"
      ],
      "text/plain": [
       "           date    close    cpi       price  start price      cagr  \\\n",
       "0    1986-01-02   209.59  109.6  191.231752          NaN       NaN   \n",
       "1    1986-01-03   210.88  109.6  192.408759          NaN       NaN   \n",
       "2    1986-01-06   210.65  109.6  192.198905          NaN       NaN   \n",
       "3    1986-01-07   213.80  109.6  195.072993          NaN       NaN   \n",
       "4    1986-01-08   207.97  109.6  189.753650          NaN       NaN   \n",
       "...         ...      ...    ...         ...          ...       ...   \n",
       "3900 2001-06-08  1264.96  178.0  710.651685   191.231752  9.145655   \n",
       "3901 2001-06-11  1254.39  178.0  704.713483   192.408759  9.040002   \n",
       "3902 2001-06-12  1255.85  178.0  705.533708   192.198905  9.056392   \n",
       "3903 2001-06-13  1241.60  178.0  697.528090   195.072993  8.865675   \n",
       "3904 2001-06-14  1219.87  178.0  685.320225   189.753650  8.938208   \n",
       "\n",
       "      15-year predictions  \n",
       "0                     NaN  \n",
       "1                     NaN  \n",
       "2                     NaN  \n",
       "3                     NaN  \n",
       "4                     NaN  \n",
       "...                   ...  \n",
       "3900           710.651685  \n",
       "3901           704.713483  \n",
       "3902           705.533708  \n",
       "3903           697.528090  \n",
       "3904           685.320225  \n",
       "\n",
       "[3905 rows x 7 columns]"
      ]
     },
     "execution_count": 22,
     "metadata": {},
     "output_type": "execute_result"
    }
   ],
   "source": [
    "predictions = []\n",
    "\n",
    "i = 0\n",
    "\n",
    "for i in range(rows):\n",
    "    start = df1.iloc[i,4]\n",
    "    cagr = df1.iloc[i,5]\n",
    "    value = predict_value(cagr,start)\n",
    "    predictions.append(value)\n",
    "    i = i + 1\n",
    "    \n",
    "#print(predictions)\n",
    "df1[\"15-year predictions\"] = predictions\n",
    "df1.head(3905)\n"
   ]
  },
  {
   "cell_type": "code",
   "execution_count": 23,
   "id": "0d17922c-5b86-4ef4-b468-c80c7905ab28",
   "metadata": {},
   "outputs": [
    {
     "data": {
      "text/plain": [
       "8.938208103185952"
      ]
     },
     "execution_count": 23,
     "metadata": {},
     "output_type": "execute_result"
    }
   ],
   "source": [
    "df1.iloc[3904,5]"
   ]
  },
  {
   "cell_type": "code",
   "execution_count": 24,
   "id": "58f2b308-68de-4657-aa85-f9c2848f044e",
   "metadata": {},
   "outputs": [
    {
     "data": {
      "image/png": "[encoded data removed]",
      "text/plain": [
       "<Figure size 432x288 with 2 Axes>"
      ]
     },
     "metadata": {},
     "output_type": "display_data"
    }
   ],
   "source": [
    "sns.lineplot(data=df1[\"price\"])\n",
    "ax2 = plt.twinx()\n",
    "sns.lineplot(data=df1[\"15-year predictions\"], color=\"r\", ax=ax2)\n",
    "\n",
    "plt.show()"
   ]
  },
  {
   "cell_type": "markdown",
   "id": "b0b8880a-2a62-4eb3-803d-dd79f4559132",
   "metadata": {},
   "source": [
    "Conclusion - Not a good signal for market timing. Idea: try fix CAGR somehow (for example by using the CAGR from 10 periods ago) to show how far you are deviating from that\n",
    "\n",
    "Another idea: Theoretical perfect is selling everything high and rebuying everything low with perfect hindsight. This can be the comparer"
   ]
  },
  {
   "cell_type": "markdown",
   "id": "1742c3b0-d22c-4cc5-9cbd-fd4455ecf55c",
   "metadata": {
    "tags": []
   },
   "source": [
    "## 5 - Trendline 2: Simple regression"
   ]
  },
  {
   "cell_type": "markdown",
   "id": "e4cfd276-1632-4ea6-81ee-8aa4809555f8",
   "metadata": {
    "tags": []
   },
   "source": [
    "#### 5.1 - Generating Days_from_Start variable\n",
    "Will help us define number of years better."
   ]
  },
  {
   "cell_type": "code",
   "execution_count": 25,
   "id": "53ba90a3-cc91-4d57-a1ad-45a7f7266da9",
   "metadata": {},
   "outputs": [],
   "source": [
    "#df1['days_from_start'] = (df1['date'] - df1.[\"date\"][0]).days; df1\n",
    "\n",
    "#df1.head()"
   ]
  },
  {
   "cell_type": "code",
   "execution_count": 26,
   "id": "2f2c3c65-5133-4769-b13d-734c2c064e07",
   "metadata": {},
   "outputs": [
    {
     "data": {
      "text/html": [
       "<div>\n",
       "<style scoped>\n",
       "    .dataframe tbody tr th:only-of-type {\n",
       "        vertical-align: middle;\n",
       "    }\n",
       "\n",
       "    .dataframe tbody tr th {\n",
       "        vertical-align: top;\n",
       "    }\n",
       "\n",
       "    .dataframe thead th {\n",
       "        text-align: right;\n",
       "    }\n",
       "</style>\n",
       "<table border=\"1\" class=\"dataframe\">\n",
       "  <thead>\n",
       "    <tr style=\"text-align: right;\">\n",
       "      <th></th>\n",
       "      <th>date</th>\n",
       "      <th>price</th>\n",
       "      <th>start price</th>\n",
       "      <th>cagr</th>\n",
       "    </tr>\n",
       "  </thead>\n",
       "  <tbody>\n",
       "    <tr>\n",
       "      <th>8186</th>\n",
       "      <td>2018-06-22</td>\n",
       "      <td>1093.254071</td>\n",
       "      <td>493.349917</td>\n",
       "      <td>5.447852</td>\n",
       "    </tr>\n",
       "    <tr>\n",
       "      <th>8187</th>\n",
       "      <td>2018-06-25</td>\n",
       "      <td>1078.249447</td>\n",
       "      <td>491.796573</td>\n",
       "      <td>5.372896</td>\n",
       "    </tr>\n",
       "    <tr>\n",
       "      <th>8188</th>\n",
       "      <td>2018-06-26</td>\n",
       "      <td>1080.626535</td>\n",
       "      <td>483.913765</td>\n",
       "      <td>5.501956</td>\n",
       "    </tr>\n",
       "    <tr>\n",
       "      <th>8189</th>\n",
       "      <td>2018-06-27</td>\n",
       "      <td>1071.328510</td>\n",
       "      <td>486.119403</td>\n",
       "      <td>5.409232</td>\n",
       "    </tr>\n",
       "    <tr>\n",
       "      <th>8190</th>\n",
       "      <td>2018-06-28</td>\n",
       "      <td>1077.947847</td>\n",
       "      <td>486.357103</td>\n",
       "      <td>5.449089</td>\n",
       "    </tr>\n",
       "    <tr>\n",
       "      <th>8191</th>\n",
       "      <td>2018-06-29</td>\n",
       "      <td>1078.765343</td>\n",
       "      <td>500.291690</td>\n",
       "      <td>5.256012</td>\n",
       "    </tr>\n",
       "  </tbody>\n",
       "</table>\n",
       "</div>"
      ],
      "text/plain": [
       "           date        price  start price      cagr\n",
       "8186 2018-06-22  1093.254071   493.349917  5.447852\n",
       "8187 2018-06-25  1078.249447   491.796573  5.372896\n",
       "8188 2018-06-26  1080.626535   483.913765  5.501956\n",
       "8189 2018-06-27  1071.328510   486.119403  5.409232\n",
       "8190 2018-06-28  1077.947847   486.357103  5.449089\n",
       "8191 2018-06-29  1078.765343   500.291690  5.256012"
      ]
     },
     "execution_count": 26,
     "metadata": {},
     "output_type": "execute_result"
    }
   ],
   "source": [
    "exclusions = [\"close\",\"cpi\",\"15-year predictions\"]\n",
    "i = 0\n",
    "while i < len(exclusions):\n",
    "    df1.drop(exclusions[i], inplace=True, axis=1)\n",
    "    i = i + 1\n",
    "\n",
    "df1.tail(6)"
   ]
  },
  {
   "cell_type": "markdown",
   "id": "af8a0d7c-b624-4491-b3a5-88e81d4461fc",
   "metadata": {},
   "source": [
    "#### 5.2 - Creating function to isolate relevant cross-section"
   ]
  },
  {
   "cell_type": "code",
   "execution_count": 27,
   "id": "6d48be26-7bf2-40b5-bf55-0477d3d79a1e",
   "metadata": {},
   "outputs": [
    {
     "data": {
      "text/html": [
       "<div>\n",
       "<style scoped>\n",
       "    .dataframe tbody tr th:only-of-type {\n",
       "        vertical-align: middle;\n",
       "    }\n",
       "\n",
       "    .dataframe tbody tr th {\n",
       "        vertical-align: top;\n",
       "    }\n",
       "\n",
       "    .dataframe thead th {\n",
       "        text-align: right;\n",
       "    }\n",
       "</style>\n",
       "<table border=\"1\" class=\"dataframe\">\n",
       "  <thead>\n",
       "    <tr style=\"text-align: right;\">\n",
       "      <th></th>\n",
       "      <th>date</th>\n",
       "      <th>price</th>\n",
       "      <th>start price</th>\n",
       "      <th>cagr</th>\n",
       "    </tr>\n",
       "  </thead>\n",
       "  <tbody>\n",
       "    <tr>\n",
       "      <th>100</th>\n",
       "      <td>1986-05-27</td>\n",
       "      <td>224.747475</td>\n",
       "      <td>NaN</td>\n",
       "      <td>NaN</td>\n",
       "    </tr>\n",
       "    <tr>\n",
       "      <th>101</th>\n",
       "      <td>1986-05-28</td>\n",
       "      <td>226.473829</td>\n",
       "      <td>NaN</td>\n",
       "      <td>NaN</td>\n",
       "    </tr>\n",
       "    <tr>\n",
       "      <th>102</th>\n",
       "      <td>1986-05-29</td>\n",
       "      <td>227.713499</td>\n",
       "      <td>NaN</td>\n",
       "      <td>NaN</td>\n",
       "    </tr>\n",
       "    <tr>\n",
       "      <th>103</th>\n",
       "      <td>1986-05-30</td>\n",
       "      <td>227.134986</td>\n",
       "      <td>NaN</td>\n",
       "      <td>NaN</td>\n",
       "    </tr>\n",
       "    <tr>\n",
       "      <th>104</th>\n",
       "      <td>1986-06-02</td>\n",
       "      <td>223.780822</td>\n",
       "      <td>NaN</td>\n",
       "      <td>NaN</td>\n",
       "    </tr>\n",
       "    <tr>\n",
       "      <th>...</th>\n",
       "      <td>...</td>\n",
       "      <td>...</td>\n",
       "      <td>...</td>\n",
       "      <td>...</td>\n",
       "    </tr>\n",
       "    <tr>\n",
       "      <th>3995</th>\n",
       "      <td>2001-10-29</td>\n",
       "      <td>606.809229</td>\n",
       "      <td>214.141414</td>\n",
       "      <td>7.190616</td>\n",
       "    </tr>\n",
       "    <tr>\n",
       "      <th>3996</th>\n",
       "      <td>2001-10-30</td>\n",
       "      <td>596.392797</td>\n",
       "      <td>216.813590</td>\n",
       "      <td>6.978473</td>\n",
       "    </tr>\n",
       "    <tr>\n",
       "      <th>3997</th>\n",
       "      <td>2001-10-31</td>\n",
       "      <td>596.387169</td>\n",
       "      <td>216.207530</td>\n",
       "      <td>6.998371</td>\n",
       "    </tr>\n",
       "    <tr>\n",
       "      <th>3998</th>\n",
       "      <td>2001-11-01</td>\n",
       "      <td>611.104848</td>\n",
       "      <td>220.495868</td>\n",
       "      <td>7.032175</td>\n",
       "    </tr>\n",
       "    <tr>\n",
       "      <th>3999</th>\n",
       "      <td>2001-11-02</td>\n",
       "      <td>612.852311</td>\n",
       "      <td>221.625344</td>\n",
       "      <td>7.016094</td>\n",
       "    </tr>\n",
       "  </tbody>\n",
       "</table>\n",
       "<p>3900 rows × 4 columns</p>\n",
       "</div>"
      ],
      "text/plain": [
       "           date       price  start price      cagr\n",
       "100  1986-05-27  224.747475          NaN       NaN\n",
       "101  1986-05-28  226.473829          NaN       NaN\n",
       "102  1986-05-29  227.713499          NaN       NaN\n",
       "103  1986-05-30  227.134986          NaN       NaN\n",
       "104  1986-06-02  223.780822          NaN       NaN\n",
       "...         ...         ...          ...       ...\n",
       "3995 2001-10-29  606.809229   214.141414  7.190616\n",
       "3996 2001-10-30  596.392797   216.813590  6.978473\n",
       "3997 2001-10-31  596.387169   216.207530  6.998371\n",
       "3998 2001-11-01  611.104848   220.495868  7.032175\n",
       "3999 2001-11-02  612.852311   221.625344  7.016094\n",
       "\n",
       "[3900 rows x 4 columns]"
      ]
     },
     "execution_count": 27,
     "metadata": {},
     "output_type": "execute_result"
    }
   ],
   "source": [
    "def temp_dataframe(i):\n",
    "    start = i - bin_size\n",
    "    end = i \n",
    "    temp_df = df1.iloc[start:end, 0:4]\n",
    "    temp_df = pd.DataFrame(data=temp_df)\n",
    "    return temp_df\n",
    "\n",
    "\n",
    "a = temp_dataframe(4000)\n",
    "a"
   ]
  },
  {
   "cell_type": "markdown",
   "id": "166f8dde-89f2-442c-b391-1d2245df7a2e",
   "metadata": {},
   "source": [
    "#### 5.4 - Function to find i for a given datetime"
   ]
  },
  {
   "cell_type": "code",
   "execution_count": 28,
   "id": "e3ca886a-d0bb-457c-b929-70463d44b0f7",
   "metadata": {},
   "outputs": [
    {
     "data": {
      "text/plain": [
       "3544"
      ]
     },
     "execution_count": 28,
     "metadata": {},
     "output_type": "execute_result"
    }
   ],
   "source": [
    "analysis_year = \"2000-01-10\"\n",
    "i = df1.index[df1[\"date\"]==analysis_year]\n",
    "i[0]"
   ]
  },
  {
   "cell_type": "markdown",
   "id": "6b7c22b5-116e-4996-8540-9adfc2bf2c5c",
   "metadata": {},
   "source": [
    "#### 5.5 - First Regressions"
   ]
  },
  {
   "cell_type": "code",
   "execution_count": 29,
   "id": "9a248506-77a1-42cc-b601-000b18a06b04",
   "metadata": {},
   "outputs": [
    {
     "data": {
      "text/html": [
       "<div>\n",
       "<style scoped>\n",
       "    .dataframe tbody tr th:only-of-type {\n",
       "        vertical-align: middle;\n",
       "    }\n",
       "\n",
       "    .dataframe tbody tr th {\n",
       "        vertical-align: top;\n",
       "    }\n",
       "\n",
       "    .dataframe thead th {\n",
       "        text-align: right;\n",
       "    }\n",
       "</style>\n",
       "<table border=\"1\" class=\"dataframe\">\n",
       "  <thead>\n",
       "    <tr style=\"text-align: right;\">\n",
       "      <th></th>\n",
       "      <th>date</th>\n",
       "      <th>price</th>\n",
       "      <th>start price</th>\n",
       "      <th>cagr</th>\n",
       "    </tr>\n",
       "  </thead>\n",
       "  <tbody>\n",
       "    <tr>\n",
       "      <th>3994</th>\n",
       "      <td>2001-10-26</td>\n",
       "      <td>621.615082</td>\n",
       "      <td>213.737374</td>\n",
       "      <td>7.376540</td>\n",
       "    </tr>\n",
       "    <tr>\n",
       "      <th>3995</th>\n",
       "      <td>2001-10-29</td>\n",
       "      <td>606.809229</td>\n",
       "      <td>214.141414</td>\n",
       "      <td>7.190616</td>\n",
       "    </tr>\n",
       "    <tr>\n",
       "      <th>3996</th>\n",
       "      <td>2001-10-30</td>\n",
       "      <td>596.392797</td>\n",
       "      <td>216.813590</td>\n",
       "      <td>6.978473</td>\n",
       "    </tr>\n",
       "    <tr>\n",
       "      <th>3997</th>\n",
       "      <td>2001-10-31</td>\n",
       "      <td>596.387169</td>\n",
       "      <td>216.207530</td>\n",
       "      <td>6.998371</td>\n",
       "    </tr>\n",
       "    <tr>\n",
       "      <th>3998</th>\n",
       "      <td>2001-11-01</td>\n",
       "      <td>611.104848</td>\n",
       "      <td>220.495868</td>\n",
       "      <td>7.032175</td>\n",
       "    </tr>\n",
       "    <tr>\n",
       "      <th>3999</th>\n",
       "      <td>2001-11-02</td>\n",
       "      <td>612.852311</td>\n",
       "      <td>221.625344</td>\n",
       "      <td>7.016094</td>\n",
       "    </tr>\n",
       "  </tbody>\n",
       "</table>\n",
       "</div>"
      ],
      "text/plain": [
       "           date       price  start price      cagr\n",
       "3994 2001-10-26  621.615082   213.737374  7.376540\n",
       "3995 2001-10-29  606.809229   214.141414  7.190616\n",
       "3996 2001-10-30  596.392797   216.813590  6.978473\n",
       "3997 2001-10-31  596.387169   216.207530  6.998371\n",
       "3998 2001-11-01  611.104848   220.495868  7.032175\n",
       "3999 2001-11-02  612.852311   221.625344  7.016094"
      ]
     },
     "execution_count": 29,
     "metadata": {},
     "output_type": "execute_result"
    }
   ],
   "source": [
    "# Calling the data\n",
    "sample1 = temp_dataframe(4000)\n",
    "sample1.tail(6)"
   ]
  },
  {
   "cell_type": "code",
   "execution_count": 30,
   "id": "3c6519b5-6f7d-4579-97c6-c57adc02ec69",
   "metadata": {},
   "outputs": [
    {
     "data": {
      "text/html": [
       "<div>\n",
       "<style scoped>\n",
       "    .dataframe tbody tr th:only-of-type {\n",
       "        vertical-align: middle;\n",
       "    }\n",
       "\n",
       "    .dataframe tbody tr th {\n",
       "        vertical-align: top;\n",
       "    }\n",
       "\n",
       "    .dataframe thead th {\n",
       "        text-align: right;\n",
       "    }\n",
       "</style>\n",
       "<table border=\"1\" class=\"dataframe\">\n",
       "  <thead>\n",
       "    <tr style=\"text-align: right;\">\n",
       "      <th></th>\n",
       "      <th>date</th>\n",
       "      <th>price</th>\n",
       "      <th>start price</th>\n",
       "      <th>cagr</th>\n",
       "      <th>time</th>\n",
       "    </tr>\n",
       "  </thead>\n",
       "  <tbody>\n",
       "    <tr>\n",
       "      <th>100</th>\n",
       "      <td>1986-05-27</td>\n",
       "      <td>224.747475</td>\n",
       "      <td>NaN</td>\n",
       "      <td>NaN</td>\n",
       "      <td>0</td>\n",
       "    </tr>\n",
       "    <tr>\n",
       "      <th>101</th>\n",
       "      <td>1986-05-28</td>\n",
       "      <td>226.473829</td>\n",
       "      <td>NaN</td>\n",
       "      <td>NaN</td>\n",
       "      <td>1</td>\n",
       "    </tr>\n",
       "    <tr>\n",
       "      <th>102</th>\n",
       "      <td>1986-05-29</td>\n",
       "      <td>227.713499</td>\n",
       "      <td>NaN</td>\n",
       "      <td>NaN</td>\n",
       "      <td>2</td>\n",
       "    </tr>\n",
       "    <tr>\n",
       "      <th>103</th>\n",
       "      <td>1986-05-30</td>\n",
       "      <td>227.134986</td>\n",
       "      <td>NaN</td>\n",
       "      <td>NaN</td>\n",
       "      <td>3</td>\n",
       "    </tr>\n",
       "    <tr>\n",
       "      <th>104</th>\n",
       "      <td>1986-06-02</td>\n",
       "      <td>223.780822</td>\n",
       "      <td>NaN</td>\n",
       "      <td>NaN</td>\n",
       "      <td>4</td>\n",
       "    </tr>\n",
       "  </tbody>\n",
       "</table>\n",
       "</div>"
      ],
      "text/plain": [
       "          date       price  start price  cagr  time\n",
       "100 1986-05-27  224.747475          NaN   NaN     0\n",
       "101 1986-05-28  226.473829          NaN   NaN     1\n",
       "102 1986-05-29  227.713499          NaN   NaN     2\n",
       "103 1986-05-30  227.134986          NaN   NaN     3\n",
       "104 1986-06-02  223.780822          NaN   NaN     4"
      ]
     },
     "execution_count": 30,
     "metadata": {},
     "output_type": "execute_result"
    }
   ],
   "source": [
    "#sample1['days_from_start'] = (sample1['date'] - sample1.[\"date\"][0]).days\n",
    "#sample1.tail(6)\n",
    "\n",
    "sample1['time'] = np.arange(len(sample1.index))\n",
    "\n",
    "sample1.head()"
   ]
  },
  {
   "cell_type": "code",
   "execution_count": 31,
   "id": "d14d59f6-3e18-4afe-ac50-e22fc82e7b9d",
   "metadata": {},
   "outputs": [],
   "source": [
    "x = sample1['time'].values.reshape(-1, 1)\n",
    "y = sample1['price'].values\n",
    "#print(x)\n",
    "#print(y)"
   ]
  },
  {
   "cell_type": "code",
   "execution_count": 32,
   "id": "cc550f68-77d2-4eef-9b8a-c5fc1f39d9c0",
   "metadata": {},
   "outputs": [
    {
     "name": "stdout",
     "output_type": "stream",
     "text": [
      "[0.16374778]\n",
      "101.99499025098112\n"
     ]
    }
   ],
   "source": [
    "regr = linear_model.LinearRegression()\n",
    "regr.fit(x,y)\n",
    "\n",
    "print(regr.coef_)\n",
    "print(regr.intercept_)\n",
    "\n",
    "m = regr.coef_\n",
    "a = regr.intercept_\n",
    " "
   ]
  },
  {
   "cell_type": "code",
   "execution_count": 33,
   "id": "3cc02186-a6c5-40fa-a33c-1a8138ef8071",
   "metadata": {},
   "outputs": [
    {
     "data": {
      "text/plain": [
       "[<matplotlib.lines.Line2D at 0x22c37fe9cd0>]"
      ]
     },
     "execution_count": 33,
     "metadata": {},
     "output_type": "execute_result"
    },
    {
     "data": {
      "image/png": "[encoded data removed]",
      "text/plain": [
       "<Figure size 432x288 with 1 Axes>"
      ]
     },
     "metadata": {},
     "output_type": "display_data"
    }
   ],
   "source": [
    "plt.plot(sample1['date'], regr.predict(x),color='black')\n",
    "plt.plot(sample1['date'], y)"
   ]
  },
  {
   "cell_type": "markdown",
   "id": "5dfdbea9-16a8-41a2-8289-178f2474a369",
   "metadata": {},
   "source": [
    "Looks good , but this would indidicate very few buy and sell decisions. It will be interesting to see how much this line changes through each step through window. \n",
    "\n",
    "Experiment: Loop through each bin, conduct the regression and return the slope . Or maybe even a tuple of intercept slope\n",
    "\n",
    "Idea: Add interest rate and inflation \n",
    "\n",
    "Can we add CAGR somehow? Can we use CAGR to study when periods of high returns are? "
   ]
  },
  {
   "cell_type": "markdown",
   "id": "82d9575f-11a5-40dc-8096-66b3e928de1f",
   "metadata": {
    "tags": []
   },
   "source": [
    "## 6 - Optimimum Threshold 1: Standard Error"
   ]
  },
  {
   "cell_type": "markdown",
   "id": "59912ecd-e2aa-46fd-a848-372d261a4ead",
   "metadata": {},
   "source": [
    "We have the regression line, now we want to find a way to step through each bin, and have a buy or sell decision, alongside how much we sell at that point\n",
    "\n",
    "Steps:\n",
    "1. Create a function that steps to t+1, and runs a regression from [t-bin_size:t] and returns the predicted value for t+1\n",
    "2. Create a tiered system where you set percentages to sell for each threshold\n",
    "3. Create a function that has a wallet that buys and sells based on those tiers\n",
    "4. Compare return to market return\n",
    "\n",
    "Note, use function to:\n",
    "1. Generate sample for index i\n",
    "2. Treat sample\n",
    "3. Run regression and predict t+1\n",
    "4. Append  that to some list\n",
    "Might have to make a dictionary to also draw standard error (as first theory for the threshold)\n",
    "\n",
    "Give points to bands (0.5 if in 0.5 standard error range), points are cleared when reclrossing the line.\n",
    "\n",
    "Need to reach a certain  number of points to reach a sell decision. Counter restarts when sell, but percentage bought or sold is increased if it happens consecutively"
   ]
  },
  {
   "cell_type": "markdown",
   "id": "bd7cc5fb-1a21-4024-a536-fdad5f057bd1",
   "metadata": {
    "tags": []
   },
   "source": [
    "#### 6.1 - Analysing CAGR and historic returns"
   ]
  },
  {
   "cell_type": "code",
   "execution_count": 34,
   "id": "8669c1fa-ac66-4bde-aeb7-de3745e45d24",
   "metadata": {},
   "outputs": [
    {
     "data": {
      "text/html": [
       "<div>\n",
       "<style scoped>\n",
       "    .dataframe tbody tr th:only-of-type {\n",
       "        vertical-align: middle;\n",
       "    }\n",
       "\n",
       "    .dataframe tbody tr th {\n",
       "        vertical-align: top;\n",
       "    }\n",
       "\n",
       "    .dataframe thead th {\n",
       "        text-align: right;\n",
       "    }\n",
       "</style>\n",
       "<table border=\"1\" class=\"dataframe\">\n",
       "  <thead>\n",
       "    <tr style=\"text-align: right;\">\n",
       "      <th></th>\n",
       "      <th>date</th>\n",
       "      <th>price</th>\n",
       "      <th>start price</th>\n",
       "      <th>cagr</th>\n",
       "    </tr>\n",
       "  </thead>\n",
       "  <tbody>\n",
       "    <tr>\n",
       "      <th>0</th>\n",
       "      <td>1986-01-02</td>\n",
       "      <td>191.231752</td>\n",
       "      <td>NaN</td>\n",
       "      <td>NaN</td>\n",
       "    </tr>\n",
       "    <tr>\n",
       "      <th>1</th>\n",
       "      <td>1986-01-03</td>\n",
       "      <td>192.408759</td>\n",
       "      <td>NaN</td>\n",
       "      <td>NaN</td>\n",
       "    </tr>\n",
       "    <tr>\n",
       "      <th>2</th>\n",
       "      <td>1986-01-06</td>\n",
       "      <td>192.198905</td>\n",
       "      <td>NaN</td>\n",
       "      <td>NaN</td>\n",
       "    </tr>\n",
       "  </tbody>\n",
       "</table>\n",
       "</div>"
      ],
      "text/plain": [
       "        date       price  start price  cagr\n",
       "0 1986-01-02  191.231752          NaN   NaN\n",
       "1 1986-01-03  192.408759          NaN   NaN\n",
       "2 1986-01-06  192.198905          NaN   NaN"
      ]
     },
     "execution_count": 34,
     "metadata": {},
     "output_type": "execute_result"
    }
   ],
   "source": [
    "df1.head(3)"
   ]
  },
  {
   "cell_type": "code",
   "execution_count": 35,
   "id": "3a0caca9-336d-48ab-acda-23f160396af5",
   "metadata": {},
   "outputs": [
    {
     "data": {
      "text/html": [
       "<div>\n",
       "<style scoped>\n",
       "    .dataframe tbody tr th:only-of-type {\n",
       "        vertical-align: middle;\n",
       "    }\n",
       "\n",
       "    .dataframe tbody tr th {\n",
       "        vertical-align: top;\n",
       "    }\n",
       "\n",
       "    .dataframe thead th {\n",
       "        text-align: right;\n",
       "    }\n",
       "</style>\n",
       "<table border=\"1\" class=\"dataframe\">\n",
       "  <thead>\n",
       "    <tr style=\"text-align: right;\">\n",
       "      <th></th>\n",
       "      <th>date</th>\n",
       "      <th>price</th>\n",
       "      <th>start price</th>\n",
       "      <th>cagr</th>\n",
       "    </tr>\n",
       "  </thead>\n",
       "  <tbody>\n",
       "    <tr>\n",
       "      <th>8189</th>\n",
       "      <td>2018-06-27</td>\n",
       "      <td>1071.328510</td>\n",
       "      <td>486.119403</td>\n",
       "      <td>5.409232</td>\n",
       "    </tr>\n",
       "    <tr>\n",
       "      <th>8190</th>\n",
       "      <td>2018-06-28</td>\n",
       "      <td>1077.947847</td>\n",
       "      <td>486.357103</td>\n",
       "      <td>5.449089</td>\n",
       "    </tr>\n",
       "    <tr>\n",
       "      <th>8191</th>\n",
       "      <td>2018-06-29</td>\n",
       "      <td>1078.765343</td>\n",
       "      <td>500.291690</td>\n",
       "      <td>5.256012</td>\n",
       "    </tr>\n",
       "  </tbody>\n",
       "</table>\n",
       "</div>"
      ],
      "text/plain": [
       "           date        price  start price      cagr\n",
       "8189 2018-06-27  1071.328510   486.119403  5.409232\n",
       "8190 2018-06-28  1077.947847   486.357103  5.449089\n",
       "8191 2018-06-29  1078.765343   500.291690  5.256012"
      ]
     },
     "execution_count": 35,
     "metadata": {},
     "output_type": "execute_result"
    }
   ],
   "source": [
    "df1.tail(3)"
   ]
  },
  {
   "cell_type": "code",
   "execution_count": 36,
   "id": "840ae8a3-5d14-4a7f-8fa5-b8f94d129cee",
   "metadata": {},
   "outputs": [
    {
     "data": {
      "text/plain": [
       "(1988, 2020)"
      ]
     },
     "execution_count": 36,
     "metadata": {},
     "output_type": "execute_result"
    },
    {
     "data": {
      "image/png": "[encoded data removed]",
      "text/plain": [
       "<Figure size 432x288 with 2 Axes>"
      ]
     },
     "metadata": {},
     "output_type": "display_data"
    }
   ],
   "source": [
    "fig, axs = plt.subplots(2)\n",
    "fig.suptitle('Vertically stacked subplots')\n",
    "axs[0].plot(df1['date'], df1['price'])\n",
    "axs[1].plot(df1['date'], df1['cagr'])\n",
    "axs[1].set_xlim(1988,2020)"
   ]
  },
  {
   "cell_type": "code",
   "execution_count": 37,
   "id": "ed8b09af-a2ca-4408-be13-230eac711c7b",
   "metadata": {},
   "outputs": [
    {
     "data": {
      "text/plain": [
       "(0.0, 8000.0)"
      ]
     },
     "execution_count": 37,
     "metadata": {},
     "output_type": "execute_result"
    },
    {
     "data": {
      "image/png": "[encoded data removed]",
      "text/plain": [
       "<Figure size 432x288 with 2 Axes>"
      ]
     },
     "metadata": {},
     "output_type": "display_data"
    }
   ],
   "source": [
    "fig, axs = plt.subplots(2)\n",
    "fig.suptitle('Vertically stacked subplots')\n",
    "axs[0].plot(df1.index.values, df1['price'])\n",
    "axs[1].plot(df1.index.values, df1['cagr'])\n",
    "axs[1].set_xlim(0,8000)"
   ]
  },
  {
   "cell_type": "markdown",
   "id": "6402e5cb-9337-490d-9dd1-d1fb9dfbdde2",
   "metadata": {},
   "source": [
    "Note, you want 1-year return here"
   ]
  },
  {
   "cell_type": "code",
   "execution_count": 38,
   "id": "2efc781e-184b-40b9-a14c-ddcf118b8be0",
   "metadata": {},
   "outputs": [
    {
     "data": {
      "text/plain": [
       "260"
      ]
     },
     "execution_count": 38,
     "metadata": {},
     "output_type": "execute_result"
    }
   ],
   "source": [
    "days_in_week = 5\n",
    "weeks_in_year = 52\n",
    "years_in_window = 1\n",
    "\n",
    "bin_size = days_in_week*weeks_in_year*years_in_window\n",
    "bin_size"
   ]
  },
  {
   "cell_type": "code",
   "execution_count": 39,
   "id": "cdb0b145-c751-43d8-af53-32fb3fd95e7e",
   "metadata": {},
   "outputs": [
    {
     "data": {
      "text/html": [
       "<div>\n",
       "<style scoped>\n",
       "    .dataframe tbody tr th:only-of-type {\n",
       "        vertical-align: middle;\n",
       "    }\n",
       "\n",
       "    .dataframe tbody tr th {\n",
       "        vertical-align: top;\n",
       "    }\n",
       "\n",
       "    .dataframe thead th {\n",
       "        text-align: right;\n",
       "    }\n",
       "</style>\n",
       "<table border=\"1\" class=\"dataframe\">\n",
       "  <thead>\n",
       "    <tr style=\"text-align: right;\">\n",
       "      <th></th>\n",
       "      <th>date</th>\n",
       "      <th>price</th>\n",
       "      <th>start price</th>\n",
       "      <th>cagr</th>\n",
       "      <th>price t-1yr</th>\n",
       "    </tr>\n",
       "  </thead>\n",
       "  <tbody>\n",
       "    <tr>\n",
       "      <th>0</th>\n",
       "      <td>1986-01-02</td>\n",
       "      <td>191.231752</td>\n",
       "      <td>NaN</td>\n",
       "      <td>NaN</td>\n",
       "      <td>NaN</td>\n",
       "    </tr>\n",
       "    <tr>\n",
       "      <th>1</th>\n",
       "      <td>1986-01-03</td>\n",
       "      <td>192.408759</td>\n",
       "      <td>NaN</td>\n",
       "      <td>NaN</td>\n",
       "      <td>NaN</td>\n",
       "    </tr>\n",
       "    <tr>\n",
       "      <th>2</th>\n",
       "      <td>1986-01-06</td>\n",
       "      <td>192.198905</td>\n",
       "      <td>NaN</td>\n",
       "      <td>NaN</td>\n",
       "      <td>NaN</td>\n",
       "    </tr>\n",
       "    <tr>\n",
       "      <th>3</th>\n",
       "      <td>1986-01-07</td>\n",
       "      <td>195.072993</td>\n",
       "      <td>NaN</td>\n",
       "      <td>NaN</td>\n",
       "      <td>NaN</td>\n",
       "    </tr>\n",
       "    <tr>\n",
       "      <th>4</th>\n",
       "      <td>1986-01-08</td>\n",
       "      <td>189.753650</td>\n",
       "      <td>NaN</td>\n",
       "      <td>NaN</td>\n",
       "      <td>NaN</td>\n",
       "    </tr>\n",
       "    <tr>\n",
       "      <th>...</th>\n",
       "      <td>...</td>\n",
       "      <td>...</td>\n",
       "      <td>...</td>\n",
       "      <td>...</td>\n",
       "      <td>...</td>\n",
       "    </tr>\n",
       "    <tr>\n",
       "      <th>260</th>\n",
       "      <td>1987-01-13</td>\n",
       "      <td>233.767986</td>\n",
       "      <td>NaN</td>\n",
       "      <td>NaN</td>\n",
       "      <td>191.231752</td>\n",
       "    </tr>\n",
       "    <tr>\n",
       "      <th>261</th>\n",
       "      <td>1987-01-14</td>\n",
       "      <td>236.187050</td>\n",
       "      <td>NaN</td>\n",
       "      <td>NaN</td>\n",
       "      <td>192.408759</td>\n",
       "    </tr>\n",
       "    <tr>\n",
       "      <th>262</th>\n",
       "      <td>1987-01-15</td>\n",
       "      <td>238.750000</td>\n",
       "      <td>NaN</td>\n",
       "      <td>NaN</td>\n",
       "      <td>192.198905</td>\n",
       "    </tr>\n",
       "    <tr>\n",
       "      <th>263</th>\n",
       "      <td>1987-01-16</td>\n",
       "      <td>239.460432</td>\n",
       "      <td>NaN</td>\n",
       "      <td>NaN</td>\n",
       "      <td>195.072993</td>\n",
       "    </tr>\n",
       "    <tr>\n",
       "      <th>264</th>\n",
       "      <td>1987-01-19</td>\n",
       "      <td>242.212230</td>\n",
       "      <td>NaN</td>\n",
       "      <td>NaN</td>\n",
       "      <td>189.753650</td>\n",
       "    </tr>\n",
       "  </tbody>\n",
       "</table>\n",
       "<p>265 rows × 5 columns</p>\n",
       "</div>"
      ],
      "text/plain": [
       "          date       price  start price  cagr  price t-1yr\n",
       "0   1986-01-02  191.231752          NaN   NaN          NaN\n",
       "1   1986-01-03  192.408759          NaN   NaN          NaN\n",
       "2   1986-01-06  192.198905          NaN   NaN          NaN\n",
       "3   1986-01-07  195.072993          NaN   NaN          NaN\n",
       "4   1986-01-08  189.753650          NaN   NaN          NaN\n",
       "..         ...         ...          ...   ...          ...\n",
       "260 1987-01-13  233.767986          NaN   NaN   191.231752\n",
       "261 1987-01-14  236.187050          NaN   NaN   192.408759\n",
       "262 1987-01-15  238.750000          NaN   NaN   192.198905\n",
       "263 1987-01-16  239.460432          NaN   NaN   195.072993\n",
       "264 1987-01-19  242.212230          NaN   NaN   189.753650\n",
       "\n",
       "[265 rows x 5 columns]"
      ]
     },
     "execution_count": 39,
     "metadata": {},
     "output_type": "execute_result"
    }
   ],
   "source": [
    "start_values = []\n",
    "\n",
    "i = 0\n",
    "\n",
    "for i in range(rows):\n",
    "    start_index = i - bin_size\n",
    "    if start_index >= 0:\n",
    "        dummy = df1.iloc[start_index,1]\n",
    "        start_values.append(dummy)\n",
    "        i = i + 1\n",
    "    else:\n",
    "        start_values.append(np.nan)\n",
    "        i = i + 1\n",
    "\n",
    "df1[\"price t-1yr\"] = start_values\n",
    "df1.head(265)"
   ]
  },
  {
   "cell_type": "code",
   "execution_count": 40,
   "id": "3475bfff-1269-45b3-8c19-7becb71aae40",
   "metadata": {},
   "outputs": [
    {
     "data": {
      "text/html": [
       "<div>\n",
       "<style scoped>\n",
       "    .dataframe tbody tr th:only-of-type {\n",
       "        vertical-align: middle;\n",
       "    }\n",
       "\n",
       "    .dataframe tbody tr th {\n",
       "        vertical-align: top;\n",
       "    }\n",
       "\n",
       "    .dataframe thead th {\n",
       "        text-align: right;\n",
       "    }\n",
       "</style>\n",
       "<table border=\"1\" class=\"dataframe\">\n",
       "  <thead>\n",
       "    <tr style=\"text-align: right;\">\n",
       "      <th></th>\n",
       "      <th>date</th>\n",
       "      <th>price</th>\n",
       "      <th>start price</th>\n",
       "      <th>cagr</th>\n",
       "      <th>price t-1yr</th>\n",
       "      <th>1-yr_cagr</th>\n",
       "    </tr>\n",
       "  </thead>\n",
       "  <tbody>\n",
       "    <tr>\n",
       "      <th>0</th>\n",
       "      <td>1986-01-02</td>\n",
       "      <td>191.231752</td>\n",
       "      <td>NaN</td>\n",
       "      <td>NaN</td>\n",
       "      <td>NaN</td>\n",
       "      <td>NaN</td>\n",
       "    </tr>\n",
       "    <tr>\n",
       "      <th>1</th>\n",
       "      <td>1986-01-03</td>\n",
       "      <td>192.408759</td>\n",
       "      <td>NaN</td>\n",
       "      <td>NaN</td>\n",
       "      <td>NaN</td>\n",
       "      <td>NaN</td>\n",
       "    </tr>\n",
       "    <tr>\n",
       "      <th>2</th>\n",
       "      <td>1986-01-06</td>\n",
       "      <td>192.198905</td>\n",
       "      <td>NaN</td>\n",
       "      <td>NaN</td>\n",
       "      <td>NaN</td>\n",
       "      <td>NaN</td>\n",
       "    </tr>\n",
       "    <tr>\n",
       "      <th>3</th>\n",
       "      <td>1986-01-07</td>\n",
       "      <td>195.072993</td>\n",
       "      <td>NaN</td>\n",
       "      <td>NaN</td>\n",
       "      <td>NaN</td>\n",
       "      <td>NaN</td>\n",
       "    </tr>\n",
       "    <tr>\n",
       "      <th>4</th>\n",
       "      <td>1986-01-08</td>\n",
       "      <td>189.753650</td>\n",
       "      <td>NaN</td>\n",
       "      <td>NaN</td>\n",
       "      <td>NaN</td>\n",
       "      <td>NaN</td>\n",
       "    </tr>\n",
       "    <tr>\n",
       "      <th>...</th>\n",
       "      <td>...</td>\n",
       "      <td>...</td>\n",
       "      <td>...</td>\n",
       "      <td>...</td>\n",
       "      <td>...</td>\n",
       "      <td>...</td>\n",
       "    </tr>\n",
       "    <tr>\n",
       "      <th>260</th>\n",
       "      <td>1987-01-13</td>\n",
       "      <td>233.767986</td>\n",
       "      <td>NaN</td>\n",
       "      <td>NaN</td>\n",
       "      <td>191.231752</td>\n",
       "      <td>22.243290</td>\n",
       "    </tr>\n",
       "    <tr>\n",
       "      <th>261</th>\n",
       "      <td>1987-01-14</td>\n",
       "      <td>236.187050</td>\n",
       "      <td>NaN</td>\n",
       "      <td>NaN</td>\n",
       "      <td>192.408759</td>\n",
       "      <td>22.752754</td>\n",
       "    </tr>\n",
       "    <tr>\n",
       "      <th>262</th>\n",
       "      <td>1987-01-15</td>\n",
       "      <td>238.750000</td>\n",
       "      <td>NaN</td>\n",
       "      <td>NaN</td>\n",
       "      <td>192.198905</td>\n",
       "      <td>24.220271</td>\n",
       "    </tr>\n",
       "    <tr>\n",
       "      <th>263</th>\n",
       "      <td>1987-01-16</td>\n",
       "      <td>239.460432</td>\n",
       "      <td>NaN</td>\n",
       "      <td>NaN</td>\n",
       "      <td>195.072993</td>\n",
       "      <td>22.754272</td>\n",
       "    </tr>\n",
       "    <tr>\n",
       "      <th>264</th>\n",
       "      <td>1987-01-19</td>\n",
       "      <td>242.212230</td>\n",
       "      <td>NaN</td>\n",
       "      <td>NaN</td>\n",
       "      <td>189.753650</td>\n",
       "      <td>27.645624</td>\n",
       "    </tr>\n",
       "  </tbody>\n",
       "</table>\n",
       "<p>265 rows × 6 columns</p>\n",
       "</div>"
      ],
      "text/plain": [
       "          date       price  start price  cagr  price t-1yr  1-yr_cagr\n",
       "0   1986-01-02  191.231752          NaN   NaN          NaN        NaN\n",
       "1   1986-01-03  192.408759          NaN   NaN          NaN        NaN\n",
       "2   1986-01-06  192.198905          NaN   NaN          NaN        NaN\n",
       "3   1986-01-07  195.072993          NaN   NaN          NaN        NaN\n",
       "4   1986-01-08  189.753650          NaN   NaN          NaN        NaN\n",
       "..         ...         ...          ...   ...          ...        ...\n",
       "260 1987-01-13  233.767986          NaN   NaN   191.231752  22.243290\n",
       "261 1987-01-14  236.187050          NaN   NaN   192.408759  22.752754\n",
       "262 1987-01-15  238.750000          NaN   NaN   192.198905  24.220271\n",
       "263 1987-01-16  239.460432          NaN   NaN   195.072993  22.754272\n",
       "264 1987-01-19  242.212230          NaN   NaN   189.753650  27.645624\n",
       "\n",
       "[265 rows x 6 columns]"
      ]
     },
     "execution_count": 40,
     "metadata": {},
     "output_type": "execute_result"
    }
   ],
   "source": [
    "df1[\"1-yr_cagr\"] = ((df1[\"price\"]/df1[\"price t-1yr\"])-1)*100\n",
    "\n",
    "df1.head(265)"
   ]
  },
  {
   "cell_type": "code",
   "execution_count": 41,
   "id": "7303f933-7268-44ae-bb91-d19d1f4d1384",
   "metadata": {},
   "outputs": [
    {
     "data": {
      "text/plain": [
       "[<matplotlib.lines.Line2D at 0x22c38134760>]"
      ]
     },
     "execution_count": 41,
     "metadata": {},
     "output_type": "execute_result"
    },
    {
     "data": {
      "image/png": "[encoded data removed]",
      "text/plain": [
       "<Figure size 432x288 with 2 Axes>"
      ]
     },
     "metadata": {},
     "output_type": "display_data"
    }
   ],
   "source": [
    "fig, axs = plt.subplots(2)\n",
    "fig.suptitle('Vertically stacked subplots')\n",
    "axs[0].plot(df1['date'], df1['price'])\n",
    "axs[1].plot(df1['date'], df1['1-yr_cagr'])\n",
    "#axs[1].set_xlim(0,8000)"
   ]
  },
  {
   "cell_type": "markdown",
   "id": "6358e24a-7055-4c31-889b-1f064ee14316",
   "metadata": {},
   "source": [
    "#### 6.2 - Linear regression using statsmodels (to get standard error)"
   ]
  },
  {
   "cell_type": "markdown",
   "id": "059c86e3-198d-4a83-8d5f-7149c77152d2",
   "metadata": {},
   "source": [
    "We'll be using a 10-year regression window in this case"
   ]
  },
  {
   "cell_type": "code",
   "execution_count": 73,
   "id": "083811c7-c939-4fbb-adca-f0b8af4cc6a5",
   "metadata": {},
   "outputs": [
    {
     "data": {
      "text/plain": [
       "2600"
      ]
     },
     "execution_count": 73,
     "metadata": {},
     "output_type": "execute_result"
    }
   ],
   "source": [
    "days_in_week = 5\n",
    "weeks_in_year = 52\n",
    "years_in_window = 10\n",
    "\n",
    "bin_size = days_in_week*weeks_in_year*years_in_window\n",
    "bin_size"
   ]
  },
  {
   "cell_type": "code",
   "execution_count": 80,
   "id": "072eba58-b923-4fcb-983e-ffad060876b4",
   "metadata": {},
   "outputs": [
    {
     "data": {
      "text/html": [
       "<div>\n",
       "<style scoped>\n",
       "    .dataframe tbody tr th:only-of-type {\n",
       "        vertical-align: middle;\n",
       "    }\n",
       "\n",
       "    .dataframe tbody tr th {\n",
       "        vertical-align: top;\n",
       "    }\n",
       "\n",
       "    .dataframe thead th {\n",
       "        text-align: right;\n",
       "    }\n",
       "</style>\n",
       "<table border=\"1\" class=\"dataframe\">\n",
       "  <thead>\n",
       "    <tr style=\"text-align: right;\">\n",
       "      <th></th>\n",
       "      <th>date</th>\n",
       "      <th>price</th>\n",
       "      <th>start price</th>\n",
       "      <th>cagr</th>\n",
       "      <th>time</th>\n",
       "    </tr>\n",
       "  </thead>\n",
       "  <tbody>\n",
       "    <tr>\n",
       "      <th>7994</th>\n",
       "      <td>2017-09-18</td>\n",
       "      <td>1014.455937</td>\n",
       "      <td>642.449664</td>\n",
       "      <td>3.092310</td>\n",
       "      <td>2594</td>\n",
       "    </tr>\n",
       "    <tr>\n",
       "      <th>7995</th>\n",
       "      <td>2017-09-19</td>\n",
       "      <td>1015.582269</td>\n",
       "      <td>633.036913</td>\n",
       "      <td>3.201436</td>\n",
       "      <td>2595</td>\n",
       "    </tr>\n",
       "    <tr>\n",
       "      <th>7996</th>\n",
       "      <td>2017-09-20</td>\n",
       "      <td>1016.226466</td>\n",
       "      <td>636.739374</td>\n",
       "      <td>3.165682</td>\n",
       "      <td>2596</td>\n",
       "    </tr>\n",
       "    <tr>\n",
       "      <th>7997</th>\n",
       "      <td>2017-09-21</td>\n",
       "      <td>1013.131080</td>\n",
       "      <td>640.145414</td>\n",
       "      <td>3.108025</td>\n",
       "      <td>2597</td>\n",
       "    </tr>\n",
       "    <tr>\n",
       "      <th>7998</th>\n",
       "      <td>2017-09-22</td>\n",
       "      <td>1013.787431</td>\n",
       "      <td>641.717002</td>\n",
       "      <td>3.095622</td>\n",
       "      <td>2598</td>\n",
       "    </tr>\n",
       "    <tr>\n",
       "      <th>7999</th>\n",
       "      <td>2017-09-25</td>\n",
       "      <td>1011.534768</td>\n",
       "      <td>637.675195</td>\n",
       "      <td>3.123763</td>\n",
       "      <td>2599</td>\n",
       "    </tr>\n",
       "  </tbody>\n",
       "</table>\n",
       "</div>"
      ],
      "text/plain": [
       "           date        price  start price      cagr  time\n",
       "7994 2017-09-18  1014.455937   642.449664  3.092310  2594\n",
       "7995 2017-09-19  1015.582269   633.036913  3.201436  2595\n",
       "7996 2017-09-20  1016.226466   636.739374  3.165682  2596\n",
       "7997 2017-09-21  1013.131080   640.145414  3.108025  2597\n",
       "7998 2017-09-22  1013.787431   641.717002  3.095622  2598\n",
       "7999 2017-09-25  1011.534768   637.675195  3.123763  2599"
      ]
     },
     "execution_count": 80,
     "metadata": {},
     "output_type": "execute_result"
    }
   ],
   "source": [
    "sample2 = temp_dataframe(8000)\n",
    "sample2['time'] = np.arange(len(sample2.index))\n",
    "sample2.tail(6)"
   ]
  },
  {
   "cell_type": "code",
   "execution_count": 75,
   "id": "e43efc44-65c7-469c-bc6e-859b7b026918",
   "metadata": {},
   "outputs": [],
   "source": [
    "x = sample2['time'].values.reshape(-1, 1)\n",
    "y = sample2['price'].values"
   ]
  },
  {
   "cell_type": "code",
   "execution_count": 76,
   "id": "9ce5aa34-7001-4937-9a97-3d08494c2558",
   "metadata": {},
   "outputs": [
    {
     "data": {
      "text/html": [
       "<table class=\"simpletable\">\n",
       "<caption>OLS Regression Results</caption>\n",
       "<tr>\n",
       "  <th>Dep. Variable:</th>            <td>y</td>        <th>  R-squared (uncentered):</th>      <td>   0.550</td> \n",
       "</tr>\n",
       "<tr>\n",
       "  <th>Model:</th>                   <td>OLS</td>       <th>  Adj. R-squared (uncentered):</th> <td>   0.550</td> \n",
       "</tr>\n",
       "<tr>\n",
       "  <th>Method:</th>             <td>Least Squares</td>  <th>  F-statistic:       </th>          <td>   3174.</td> \n",
       "</tr>\n",
       "<tr>\n",
       "  <th>Date:</th>             <td>Sat, 18 Jun 2022</td> <th>  Prob (F-statistic):</th>           <td>  0.00</td>  \n",
       "</tr>\n",
       "<tr>\n",
       "  <th>Time:</th>                 <td>15:59:35</td>     <th>  Log-Likelihood:    </th>          <td> -19948.</td> \n",
       "</tr>\n",
       "<tr>\n",
       "  <th>No. Observations:</th>      <td>  2600</td>      <th>  AIC:               </th>          <td>3.990e+04</td>\n",
       "</tr>\n",
       "<tr>\n",
       "  <th>Df Residuals:</th>          <td>  2599</td>      <th>  BIC:               </th>          <td>3.990e+04</td>\n",
       "</tr>\n",
       "<tr>\n",
       "  <th>Df Model:</th>              <td>     1</td>      <th>                     </th>              <td> </td>    \n",
       "</tr>\n",
       "<tr>\n",
       "  <th>Covariance Type:</th>      <td>nonrobust</td>    <th>                     </th>              <td> </td>    \n",
       "</tr>\n",
       "</table>\n",
       "<table class=\"simpletable\">\n",
       "<tr>\n",
       "   <td></td>     <th>coef</th>     <th>std err</th>      <th>t</th>      <th>P>|t|</th>  <th>[0.025</th>    <th>0.975]</th>  \n",
       "</tr>\n",
       "<tr>\n",
       "  <th>x1</th> <td>    1.9894</td> <td>    0.014</td> <td>  138.071</td> <td> 0.000</td> <td>    1.961</td> <td>    2.018</td>\n",
       "</tr>\n",
       "</table>\n",
       "<table class=\"simpletable\">\n",
       "<tr>\n",
       "  <th>Omnibus:</th>       <td>317.697</td> <th>  Durbin-Watson:     </th> <td>   0.001</td>\n",
       "</tr>\n",
       "<tr>\n",
       "  <th>Prob(Omnibus):</th> <td> 0.000</td>  <th>  Jarque-Bera (JB):  </th> <td> 440.937</td>\n",
       "</tr>\n",
       "<tr>\n",
       "  <th>Skew:</th>          <td>-0.983</td>  <th>  Prob(JB):          </th> <td>1.79e-96</td>\n",
       "</tr>\n",
       "<tr>\n",
       "  <th>Kurtosis:</th>      <td> 3.452</td>  <th>  Cond. No.          </th> <td>    1.00</td>\n",
       "</tr>\n",
       "</table><br/><br/>Notes:<br/>[1] R² is computed without centering (uncentered) since the model does not contain a constant.<br/>[2] Standard Errors assume that the covariance matrix of the errors is correctly specified."
      ],
      "text/plain": [
       "<class 'statsmodels.iolib.summary.Summary'>\n",
       "\"\"\"\n",
       "                                 OLS Regression Results                                \n",
       "=======================================================================================\n",
       "Dep. Variable:                      y   R-squared (uncentered):                   0.550\n",
       "Model:                            OLS   Adj. R-squared (uncentered):              0.550\n",
       "Method:                 Least Squares   F-statistic:                              3174.\n",
       "Date:                Sat, 18 Jun 2022   Prob (F-statistic):                        0.00\n",
       "Time:                        15:59:35   Log-Likelihood:                         -19948.\n",
       "No. Observations:                2600   AIC:                                  3.990e+04\n",
       "Df Residuals:                    2599   BIC:                                  3.990e+04\n",
       "Df Model:                           1                                                  \n",
       "Covariance Type:            nonrobust                                                  \n",
       "==============================================================================\n",
       "                 coef    std err          t      P>|t|      [0.025      0.975]\n",
       "------------------------------------------------------------------------------\n",
       "x1             1.9894      0.014    138.071      0.000       1.961       2.018\n",
       "==============================================================================\n",
       "Omnibus:                      317.697   Durbin-Watson:                   0.001\n",
       "Prob(Omnibus):                  0.000   Jarque-Bera (JB):              440.937\n",
       "Skew:                          -0.983   Prob(JB):                     1.79e-96\n",
       "Kurtosis:                       3.452   Cond. No.                         1.00\n",
       "==============================================================================\n",
       "\n",
       "Notes:\n",
       "[1] R² is computed without centering (uncentered) since the model does not contain a constant.\n",
       "[2] Standard Errors assume that the covariance matrix of the errors is correctly specified.\n",
       "\"\"\""
      ]
     },
     "execution_count": 76,
     "metadata": {},
     "output_type": "execute_result"
    }
   ],
   "source": [
    "mod = sm.OLS(x,y)\n",
    "res = mod.fit()\n",
    "res.summary()"
   ]
  },
  {
   "cell_type": "markdown",
   "id": "2bcdc5eb-2161-45bb-864b-48cb23e7e487",
   "metadata": {},
   "source": [
    "NOt really sure how to use standard error. I think it means the coefficient can go up. I will use average residual sum of squares instead.  "
   ]
  },
  {
   "cell_type": "code",
   "execution_count": 46,
   "id": "84afb3dc-ad85-4707-b04f-98b60044492d",
   "metadata": {},
   "outputs": [
    {
     "name": "stdout",
     "output_type": "stream",
     "text": [
      "[0.18238901]\n",
      "450.5337579209182\n"
     ]
    }
   ],
   "source": [
    "regr = linear_model.LinearRegression()\n",
    "regr.fit(x,y)\n",
    "\n",
    "print(regr.coef_)\n",
    "print(regr.intercept_)\n",
    "\n",
    "m = regr.coef_\n",
    "a = regr.intercept_"
   ]
  },
  {
   "cell_type": "code",
   "execution_count": 47,
   "id": "9f4b024c-ea17-4f6e-a662-b074cc5cd6a4",
   "metadata": {},
   "outputs": [
    {
     "data": {
      "text/plain": [
       "[<matplotlib.lines.Line2D at 0x22c38201070>]"
      ]
     },
     "execution_count": 47,
     "metadata": {},
     "output_type": "execute_result"
    },
    {
     "data": {
      "image/png": "[encoded data removed]",
      "text/plain": [
       "<Figure size 432x288 with 1 Axes>"
      ]
     },
     "metadata": {},
     "output_type": "display_data"
    }
   ],
   "source": [
    "plt.plot(sample2['date'], regr.predict(x),color='black')\n",
    "plt.plot(sample2['date'], y)"
   ]
  },
  {
   "cell_type": "code",
   "execution_count": 49,
   "id": "bac722c6-c2ee-4670-93fa-5643995a0d43",
   "metadata": {},
   "outputs": [
    {
     "name": "stdout",
     "output_type": "stream",
     "text": [
      "3195605054147.9707\n",
      "1.0211891662096055e+25\n"
     ]
    },
    {
     "data": {
      "text/plain": [
       "1229078866.9799888"
      ]
     },
     "execution_count": 49,
     "metadata": {},
     "output_type": "execute_result"
    }
   ],
   "source": [
    "predicted = regr.predict(x)\n",
    "actual = sample2['price']\n",
    "rss = predicted - actual\n",
    "rss = sum(predicted)\n",
    "rss = rss **2\n",
    "print(rss)\n",
    "\n",
    "rss1 = np.sum(np.square(regr.predict(x) - y))\n",
    "rss1 = rss**2\n",
    "print(rss1)\n",
    "\n",
    "average_rss = rss / bin_size\n",
    "average_rss"
   ]
  },
  {
   "cell_type": "code",
   "execution_count": 54,
   "id": "8484ea85-3c35-497e-95be-5d42cf95eb13",
   "metadata": {},
   "outputs": [
    {
     "name": "stdout",
     "output_type": "stream",
     "text": [
      "[450.53375792 450.71614694 450.89853595 ... 924.1980296  924.38041861\n",
      " 924.56280763]\n",
      "<class 'numpy.ndarray'>\n",
      "5400     736.055475\n",
      "5401     737.377131\n",
      "5402     738.740209\n",
      "5403     734.790163\n",
      "5404     728.277146\n",
      "           ...     \n",
      "7995    1015.582269\n",
      "7996    1016.226466\n",
      "7997    1013.131080\n",
      "7998    1013.787431\n",
      "7999    1011.534768\n",
      "Name: price, Length: 2600, dtype: float64\n",
      "<class 'pandas.core.series.Series'>\n"
     ]
    }
   ],
   "source": [
    "print(predicted)\n",
    "print(type(predicted))\n",
    "print(actual)\n",
    "print(type(actual))\n"
   ]
  },
  {
   "cell_type": "code",
   "execution_count": 57,
   "id": "e45dc84a-6a06-4c85-bd39-c8c96247bd03",
   "metadata": {},
   "outputs": [
    {
     "name": "stdout",
     "output_type": "stream",
     "text": [
      "[ 736.05547514  737.37713101  738.74020888 ... 1013.13107986 1013.78743128\n",
      " 1011.53476839]\n",
      "2600\n",
      "2600\n"
     ]
    }
   ],
   "source": [
    "actual1 = np.array(actual)\n",
    "print(actual1)\n",
    "\n",
    "print(len(actual1))\n",
    "print(len(predicted))"
   ]
  },
  {
   "attachments": {
    "b1646d10-54c1-4ac3-bfd4-77ce14c23548.png": {
     "image/png": "[encoded data removed]"
    }
   },
   "cell_type": "markdown",
   "id": "5d12aea2-cc48-423d-aa8c-a85e3dc2d9a4",
   "metadata": {},
   "source": [
    "<div>\n",
    "<img src=\"attachment:b1646d10-54c1-4ac3-bfd4-77ce14c23548.png\" width=\"400\"/>\n",
    "</div>"
   ]
  },
  {
   "cell_type": "code",
   "execution_count": 90,
   "id": "d7075bce-835f-4990-accc-2a364a4c9789",
   "metadata": {},
   "outputs": [
    {
     "name": "stdout",
     "output_type": "stream",
     "text": [
      "             price\n",
      "count  2600.000000\n",
      "mean     76.628680\n",
      "std      58.614462\n",
      "min       0.003113\n",
      "25%      37.001535\n",
      "50%      66.637383\n",
      "75%      94.855008\n",
      "max     289.317401\n"
     ]
    },
    {
     "data": {
      "text/html": [
       "<div>\n",
       "<style scoped>\n",
       "    .dataframe tbody tr th:only-of-type {\n",
       "        vertical-align: middle;\n",
       "    }\n",
       "\n",
       "    .dataframe tbody tr th {\n",
       "        vertical-align: top;\n",
       "    }\n",
       "\n",
       "    .dataframe thead th {\n",
       "        text-align: right;\n",
       "    }\n",
       "</style>\n",
       "<table border=\"1\" class=\"dataframe\">\n",
       "  <thead>\n",
       "    <tr style=\"text-align: right;\">\n",
       "      <th></th>\n",
       "      <th>price</th>\n",
       "      <th>date</th>\n",
       "    </tr>\n",
       "  </thead>\n",
       "  <tbody>\n",
       "    <tr>\n",
       "      <th>0</th>\n",
       "      <td>285.521717</td>\n",
       "      <td>2007-05-31</td>\n",
       "    </tr>\n",
       "    <tr>\n",
       "      <th>1</th>\n",
       "      <td>286.660984</td>\n",
       "      <td>2007-06-01</td>\n",
       "    </tr>\n",
       "    <tr>\n",
       "      <th>2</th>\n",
       "      <td>287.841673</td>\n",
       "      <td>2007-06-04</td>\n",
       "    </tr>\n",
       "    <tr>\n",
       "      <th>3</th>\n",
       "      <td>283.709238</td>\n",
       "      <td>2007-06-05</td>\n",
       "    </tr>\n",
       "    <tr>\n",
       "      <th>4</th>\n",
       "      <td>277.013832</td>\n",
       "      <td>2007-06-06</td>\n",
       "    </tr>\n",
       "  </tbody>\n",
       "</table>\n",
       "</div>"
      ],
      "text/plain": [
       "        price       date\n",
       "0  285.521717 2007-05-31\n",
       "1  286.660984 2007-06-01\n",
       "2  287.841673 2007-06-04\n",
       "3  283.709238 2007-06-05\n",
       "4  277.013832 2007-06-06"
      ]
     },
     "execution_count": 90,
     "metadata": {},
     "output_type": "execute_result"
    }
   ],
   "source": [
    "i = 0\n",
    "diff_list = []\n",
    "\n",
    "for i in range(len(actual1)):\n",
    "    diff = actual1[i] - predicted[i]\n",
    "    diff_list.append(diff)\n",
    "\n",
    "diff_list =  [abs(i) for i in diff_list]\n",
    "\n",
    "diff_list = pd.DataFrame(diff_list)\n",
    "\n",
    "diff_list['date'] = sample2['date'].values\n",
    "diff_list.columns = ['price', 'date']\n",
    "\n",
    "#print(type(diff_list))\n",
    "print(diff_list.describe())\n",
    "diff_list.head(5)"
   ]
  },
  {
   "cell_type": "markdown",
   "id": "3cbcd431-d6d3-443e-a968-7b0bd4e54f17",
   "metadata": {},
   "source": [
    "Standard deviation is 58 points, that seems usable from a range perspective. Maybe brackets could be in increments of 0.5 standard deviations. This showsthe data is very skewed towards the high values (see high mean) \n",
    "\n",
    "Idea: SnP Chart that changes colour as it goees through the different brackets"
   ]
  },
  {
   "cell_type": "code",
   "execution_count": null,
   "id": "bc1edde1-4339-4e4b-850e-e617af8f6370",
   "metadata": {},
   "outputs": [],
   "source": []
  },
  {
   "cell_type": "code",
   "execution_count": 86,
   "id": "dbe05cbd-5df3-4450-a26c-0aef55a182c4",
   "metadata": {},
   "outputs": [
    {
     "data": {
      "text/plain": [
       "[<matplotlib.lines.Line2D at 0x22c385241c0>]"
      ]
     },
     "execution_count": 86,
     "metadata": {},
     "output_type": "execute_result"
    },
    {
     "data": {
      "image/png": "[encoded data removed]",
      "text/plain": [
       "<Figure size 432x288 with 2 Axes>"
      ]
     },
     "metadata": {},
     "output_type": "display_data"
    }
   ],
   "source": [
    "fig, axs = plt.subplots(2)\n",
    "fig.suptitle('Historical SnP 500 with linear time series. Standard errors in subplot')\n",
    "axs[0].plot(sample2['date'], regr.predict(x),color='black')\n",
    "axs[0].plot(sample2['date'], y)\n",
    "axs[1].plot(diff_list['date'], diff_list['price'])\n",
    "#axs[1].set_xlim(0,8000)"
   ]
  },
  {
   "cell_type": "markdown",
   "id": "dbf70cfc-b329-48ed-9418-d5a8d7d7f8b7",
   "metadata": {},
   "source": [
    "From this, we see the biggest difference is frontloaded. We'll need to see if that distorts the analysis. In any case we onlty care about the difference at time t\n",
    "\n",
    "Also - shows our intuition of 0.5 x standard deviation might give us a good granularity on the thresholds (in this case it would be in s"
   ]
  },
  {
   "cell_type": "markdown",
   "id": "e54d0934-3aac-4756-aa6f-53c65a8ce4bd",
   "metadata": {},
   "source": [
    "## 7 - Investing Mechanism"
   ]
  },
  {
   "cell_type": "markdown",
   "id": "18d14ed6-d93a-470a-bfb1-db044a16552d",
   "metadata": {},
   "source": [
    "To do: \n",
    "- colour bands on standard deviation for visual info"
   ]
  },
  {
   "cell_type": "markdown",
   "id": "6cec5708-ba7a-4530-8c18-661c9434f200",
   "metadata": {},
   "source": [
    "Idea here is to have a script that attaches weight to buy or sell decisions such that:\n",
    "- Being in the lower band of difference from the prediction adds fewer points to the \"decision value\"\n",
    "- Points are added more quickly if you move between the bands faster\n",
    "- Buy/sell weight is smaller for lower bands\n",
    "- orefernce to buy over sell\n"
   ]
  },
  {
   "cell_type": "markdown",
   "id": "1f6862b8-3bf4-47c2-a9ae-56cd03d24044",
   "metadata": {
    "tags": []
   },
   "source": [
    "#### 7.1 - Defining bands, band rules and function to check if value is in band"
   ]
  },
  {
   "cell_type": "code",
   "execution_count": 89,
   "id": "92a6ab69-129c-4cf9-84f6-ba0edaaa6391",
   "metadata": {},
   "outputs": [
    {
     "data": {
      "text/plain": [
       "86.97196076497187"
      ]
     },
     "execution_count": 89,
     "metadata": {},
     "output_type": "execute_result"
    }
   ],
   "source": [
    "last_value = diff_list[\"price\"].iloc[-1]\n",
    "last_value"
   ]
  },
  {
   "cell_type": "code",
   "execution_count": 92,
   "id": "628c6173-ad68-45d5-bfee-474a867d2e2d",
   "metadata": {},
   "outputs": [
    {
     "data": {
      "text/plain": [
       "58.61446219082128"
      ]
     },
     "execution_count": 92,
     "metadata": {},
     "output_type": "execute_result"
    }
   ],
   "source": [
    "stdev = diff_list['price'].std() \n",
    "stdev"
   ]
  },
  {
   "cell_type": "code",
   "execution_count": 96,
   "id": "e45f962d-e3b6-44ea-b811-3fe9662d07ce",
   "metadata": {},
   "outputs": [
    {
     "name": "stdout",
     "output_type": "stream",
     "text": [
      "0\n",
      "29.30723109541064\n",
      "29.30723209541064\n",
      "58.61446219082128\n",
      "58.614463190821276\n",
      "87.92169328623191\n",
      "87.92169428623191\n",
      "117.22892438164256\n",
      "117.22892538164255\n",
      "146.5361554770532\n",
      "146.5361564770532\n",
      "175.84338657246383\n"
     ]
    }
   ],
   "source": [
    "band1_bottom = 0\n",
    "band1_top = 0.5 * stdev\n",
    "band2_bottom = 0.5 * stdev + 0.000001\n",
    "band2_top = stdev \n",
    "band3_bottom = stdev + 0.000001\n",
    "band3_top = 1.5 * stdev\n",
    "band4_bottom = 1.5 * stdev + 0.000001\n",
    "band4_top = 2 * stdev\n",
    "band5_bottom = 2 * stdev + 0.000001\n",
    "band5_top = 2.5 * stdev\n",
    "band6_bottom = 2.5 * stdev + 0.000001\n",
    "band6_top = 3 * stdev\n",
    "\n",
    "\n",
    "print(band1_bottom)\n",
    "print(band1_top)\n",
    "print(band2_bottom)\n",
    "print(band2_top)\n",
    "print(band3_bottom)\n",
    "print(band3_top)\n",
    "print(band4_bottom)\n",
    "print(band4_top)\n",
    "print(band5_bottom)\n",
    "print(band5_top)\n",
    "print(band6_bottom)\n",
    "print(band6_top)"
   ]
  },
  {
   "attachments": {
    "9148e2ba-4a3e-4287-a4e5-f990b97c97cb.png": {
     "image/png": "[encoded data removed]"
    }
   },
   "cell_type": "markdown",
   "id": "d147a74d-e686-4d19-a945-03b47f122af9",
   "metadata": {},
   "source": [
    "<div>\n",
    "<img src=\"attachment:9148e2ba-4a3e-4287-a4e5-f990b97c97cb.png\" width=\"400\"/>\n",
    "</div>"
   ]
  },
  {
   "cell_type": "code",
   "execution_count": 107,
   "id": "67871457-9162-40bb-8596-4c149bdee573",
   "metadata": {},
   "outputs": [
    {
     "data": {
      "text/plain": [
       "range(0, 2600)"
      ]
     },
     "execution_count": 107,
     "metadata": {},
     "output_type": "execute_result"
    }
   ],
   "source": [
    "range(len(sample2))"
   ]
  },
  {
   "cell_type": "markdown",
   "id": "5ba78e40-2ce5-4de0-aaba-5417f96f3b02",
   "metadata": {},
   "source": [
    "#### 7.2 - Defining function to check if it is in range"
   ]
  },
  {
   "cell_type": "code",
   "execution_count": 104,
   "id": "2216289c-95e6-4ca5-90ce-ba1ebb4dbb58",
   "metadata": {},
   "outputs": [
    {
     "data": {
      "text/plain": [
       "2"
      ]
     },
     "execution_count": 104,
     "metadata": {},
     "output_type": "execute_result"
    }
   ],
   "source": [
    "def check_value(price):\n",
    "    if band1_bottom < price < band1_top:\n",
    "        return 1\n",
    "    if band2_bottom < price < band2_top:\n",
    "        return 2\n",
    "    if band3_bottom < price < band3_top:\n",
    "        return 3\n",
    "    if band4_bottom < price < band4_top:\n",
    "        return 4\n",
    "    if band5_bottom < price < band5_top:\n",
    "        return 5\n",
    "    if band6_bottom < price < band6_top:\n",
    "        return 6\n",
    "    if price > band6_bottom:\n",
    "        return 7\n",
    "    \n",
    "#test = check_value(50)\n",
    "#test"
   ]
  },
  {
   "cell_type": "code",
   "execution_count": 111,
   "id": "3c1c3b50-88c2-415b-98f6-bea082607f2f",
   "metadata": {},
   "outputs": [
    {
     "data": {
      "text/html": [
       "<div>\n",
       "<style scoped>\n",
       "    .dataframe tbody tr th:only-of-type {\n",
       "        vertical-align: middle;\n",
       "    }\n",
       "\n",
       "    .dataframe tbody tr th {\n",
       "        vertical-align: top;\n",
       "    }\n",
       "\n",
       "    .dataframe thead th {\n",
       "        text-align: right;\n",
       "    }\n",
       "</style>\n",
       "<table border=\"1\" class=\"dataframe\">\n",
       "  <thead>\n",
       "    <tr style=\"text-align: right;\">\n",
       "      <th></th>\n",
       "      <th>date</th>\n",
       "      <th>price</th>\n",
       "      <th>start price</th>\n",
       "      <th>cagr</th>\n",
       "      <th>time</th>\n",
       "      <th>range_cat</th>\n",
       "    </tr>\n",
       "  </thead>\n",
       "  <tbody>\n",
       "    <tr>\n",
       "      <th>5400</th>\n",
       "      <td>2007-05-31</td>\n",
       "      <td>736.055475</td>\n",
       "      <td>274.909355</td>\n",
       "      <td>6.786102</td>\n",
       "      <td>0</td>\n",
       "      <td>7</td>\n",
       "    </tr>\n",
       "    <tr>\n",
       "      <th>5401</th>\n",
       "      <td>2007-06-01</td>\n",
       "      <td>737.377131</td>\n",
       "      <td>274.300218</td>\n",
       "      <td>6.814669</td>\n",
       "      <td>1</td>\n",
       "      <td>7</td>\n",
       "    </tr>\n",
       "    <tr>\n",
       "      <th>5402</th>\n",
       "      <td>2007-06-04</td>\n",
       "      <td>738.740209</td>\n",
       "      <td>274.039159</td>\n",
       "      <td>6.834603</td>\n",
       "      <td>2</td>\n",
       "      <td>7</td>\n",
       "    </tr>\n",
       "    <tr>\n",
       "      <th>5403</th>\n",
       "      <td>2007-06-05</td>\n",
       "      <td>734.790163</td>\n",
       "      <td>273.894126</td>\n",
       "      <td>6.800194</td>\n",
       "      <td>3</td>\n",
       "      <td>7</td>\n",
       "    </tr>\n",
       "    <tr>\n",
       "      <th>5404</th>\n",
       "      <td>2007-06-06</td>\n",
       "      <td>728.277146</td>\n",
       "      <td>276.686004</td>\n",
       "      <td>6.664679</td>\n",
       "      <td>4</td>\n",
       "      <td>7</td>\n",
       "    </tr>\n",
       "  </tbody>\n",
       "</table>\n",
       "</div>"
      ],
      "text/plain": [
       "           date       price  start price      cagr  time  range_cat\n",
       "5400 2007-05-31  736.055475   274.909355  6.786102     0          7\n",
       "5401 2007-06-01  737.377131   274.300218  6.814669     1          7\n",
       "5402 2007-06-04  738.740209   274.039159  6.834603     2          7\n",
       "5403 2007-06-05  734.790163   273.894126  6.800194     3          7\n",
       "5404 2007-06-06  728.277146   276.686004  6.664679     4          7"
      ]
     },
     "execution_count": 111,
     "metadata": {},
     "output_type": "execute_result"
    }
   ],
   "source": [
    "range_cat = []\n",
    "\n",
    "for i in range(len(sample2)):\n",
    "    price = diff_list[\"price\"].iloc[i]\n",
    "    band = check_value(price)\n",
    "    range_cat.append(band)\n",
    "\n",
    "#range_cat\n",
    "\n",
    "sample2['range_cat'] = range_cat\n",
    "\n",
    "sample2.head(5)"
   ]
  },
  {
   "cell_type": "markdown",
   "id": "f4fe4c68-db75-43a7-975e-3538a6378fed",
   "metadata": {},
   "source": [
    "#### Defining buy/sell rules"
   ]
  },
  {
   "cell_type": "markdown",
   "id": "b3414165-7f48-48b8-b31a-4f0ee73226ad",
   "metadata": {},
   "source": [
    "What we want to do here is try to time the buy or sale as well as possible.\n",
    "\n",
    "***Buy Counter***\n",
    "- Anything above band 4 adds to the bucket\n",
    "- \n",
    "\n",
    "***Weight Counter***\n",
    "- Distribution and order of the values matter, with more extreme moveemnts giving us more confidence it is a goood time to buy\n",
    "\n",
    "\n",
    "What is the simple version: buy everytime it hits 7 and sell everytime it hits 7"
   ]
  },
  {
   "cell_type": "code",
   "execution_count": 113,
   "id": "3ff38500-0de0-4c93-a90a-6136effa849a",
   "metadata": {},
   "outputs": [
    {
     "data": {
      "text/plain": [
       "86.97196076497187"
      ]
     },
     "execution_count": 113,
     "metadata": {},
     "output_type": "execute_result"
    }
   ],
   "source": [
    "last_pred = diff_list[\"price\"].iloc[-1]\n",
    "last_pred"
   ]
  },
  {
   "cell_type": "code",
   "execution_count": 112,
   "id": "6b85b304-f6df-4344-9da4-22a5926df24e",
   "metadata": {},
   "outputs": [
    {
     "data": {
      "text/plain": [
       "1011.5347683930329"
      ]
     },
     "execution_count": 112,
     "metadata": {},
     "output_type": "execute_result"
    }
   ],
   "source": [
    "last_value = sample2['price'].iloc[-1]\n",
    "last_value"
   ]
  },
  {
   "cell_type": "code",
   "execution_count": null,
   "id": "5070fd75-e385-432b-a07a-d9ea3172d02a",
   "metadata": {},
   "outputs": [],
   "source": [
    "wallet = 1000000\n",
    "\n",
    "for i in range(len(df1)):\n",
    "    temp_sample = "
   ]
  },
  {
   "cell_type": "code",
   "execution_count": 114,
   "id": "7f4d5b81-212d-4b3e-96e5-34f243fa0738",
   "metadata": {},
   "outputs": [
    {
     "data": {
      "text/plain": [
       "range(0, 8192)"
      ]
     },
     "execution_count": 114,
     "metadata": {},
     "output_type": "execute_result"
    }
   ],
   "source": [
    "range(len(df1))"
   ]
  },
  {
   "cell_type": "markdown",
   "id": "f11cd52e-202a-459a-861a-0fce89482d2d",
   "metadata": {
    "jp-MarkdownHeadingCollapsed": true,
    "tags": []
   },
   "source": [
    "## Charts"
   ]
  },
  {
   "cell_type": "code",
   "execution_count": 68,
   "id": "39eecf66-2ab3-4d0c-90e8-9ad9bcccb36d",
   "metadata": {},
   "outputs": [
    {
     "data": {
      "text/plain": [
       "[<matplotlib.lines.Line2D at 0x1d439ab8640>]"
      ]
     },
     "execution_count": 68,
     "metadata": {},
     "output_type": "execute_result"
    },
    {
     "data": {
      "image/png": "[encoded data removed]",
      "text/plain": [
       "<Figure size 432x288 with 1 Axes>"
      ]
     },
     "metadata": {},
     "output_type": "display_data"
    }
   ],
   "source": [
    "plt.plot(x, regr.predict(x),color='black')\n",
    "plt.plot(x, y)"
   ]
  },
  {
   "cell_type": "code",
   "execution_count": 34,
   "id": "4785784b-6268-424c-a3e3-3915ce028079",
   "metadata": {},
   "outputs": [
    {
     "data": {
      "image/png": "[encoded data removed]",
      "text/plain": [
       "<Figure size 432x288 with 1 Axes>"
      ]
     },
     "metadata": {},
     "output_type": "display_data"
    }
   ],
   "source": [
    "plt.plot(df1[\"close\"], marker=\"o\", ms=1.5)\n",
    "\n",
    "# Labelling \n",
    "\n",
    "plt.xlabel(\"Date\")\n",
    "plt.ylabel(\"Price\")\n",
    "plt.title(\"S&P 500: Historical price from 1986 to 2018\")\n",
    "\n",
    "#plt.xlim([datetime.date(1886, 1, 1), datetime.date(2018, 1, 1)])\n",
    "#plt.ylim(-20,20)\n",
    "\n",
    "plt.show()"
   ]
  },
  {
   "cell_type": "code",
   "execution_count": 38,
   "id": "f000cbb9-703a-4bb0-9531-a619a003afc6",
   "metadata": {},
   "outputs": [
    {
     "data": {
      "image/png": "[encoded data removed]",
      "text/plain": [
       "<Figure size 432x288 with 1 Axes>"
      ]
     },
     "metadata": {},
     "output_type": "display_data"
    }
   ],
   "source": [
    "plt.plot(df1[\"cagr\"], marker=\"o\", ms=1.5)\n",
    "\n",
    "# Labelling \n",
    "\n",
    "plt.xlabel(\"Date\")\n",
    "plt.ylabel(\"CAGR\")\n",
    "plt.title(\"CAGR: Historical 15-year S&P returns from 1986 to 2018\")\n",
    "\n",
    "#plt.xlim([datetime.date(1886, 1, 1), datetime.date(2018, 1, 1)])\n",
    "#plt.ylim(-20,20)\n",
    "\n",
    "plt.show()"
   ]
  },
  {
   "cell_type": "markdown",
   "id": "9194ec9e-dcaa-47db-a689-b5542e738bc0",
   "metadata": {
    "jp-MarkdownHeadingCollapsed": true,
    "tags": []
   },
   "source": [
    "## Notes"
   ]
  },
  {
   "cell_type": "code",
   "execution_count": null,
   "id": "0399c46d-afbd-4c29-bead-2ed0071e6135",
   "metadata": {},
   "outputs": [],
   "source": [
    "#------------- creating a time series list ------------------#\n",
    "#start = datetime.datetime(2020, 1, 1)\n",
    "#end = datetime.datetime(2020, 12, 31)\n",
    "#index = pd.date_range(start, end)\n",
    "#index, len(index)"
   ]
  },
  {
   "cell_type": "code",
   "execution_count": null,
   "id": "1da9acd5-8646-4482-bf7a-46a702dcfdda",
   "metadata": {},
   "outputs": [],
   "source": []
  }
 ],
 "metadata": {
  "kernelspec": {
   "display_name": "Python 3 (ipykernel)",
   "language": "python",
   "name": "python3"
  },
  "language_info": {
   "codemirror_mode": {
    "name": "ipython",
    "version": 3
   },
   "file_extension": ".py",
   "mimetype": "text/x-python",
   "name": "python",
   "nbconvert_exporter": "python",
   "pygments_lexer": "ipython3",
   "version": "3.9.7"
  }
 },
 "nbformat": 4,
 "nbformat_minor": 5
}
