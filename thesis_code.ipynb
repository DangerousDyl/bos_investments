{
 "cells": [
  {
   "cell_type": "markdown",
   "id": "6dfd0950-0273-4d1a-96ea-502b29c1e173",
   "metadata": {
    "tags": []
   },
   "source": [
    "## 1: Setting Up DF1\n",
    "\n",
    "#### 1.1: Importing Modules"
   ]
  },
  {
   "cell_type": "code",
   "execution_count": 1,
   "id": "26da21da-62e2-42fa-a72d-c4f06b8f76b9",
   "metadata": {},
   "outputs": [],
   "source": [
    "import os\n",
    "import pandas as pd \n",
    "import numpy as np \n",
    "import matplotlib as plt \n",
    "import seaborn as sns    #not required until graphing\n",
    "from datetime import datetime\n",
    "import matplotlib.pyplot as plt\n",
    "sns.set\n",
    "sns.set_palette(\"deep\")"
   ]
  },
  {
   "cell_type": "markdown",
   "id": "6d785347-ae43-4173-8ef8-23149937eb1a",
   "metadata": {},
   "source": [
    "#### 1.2: Adjusting Directory"
   ]
  },
  {
   "cell_type": "code",
   "execution_count": 2,
   "id": "b226501a-1c78-406c-a7b2-24ba9f4ec6c6",
   "metadata": {},
   "outputs": [
    {
     "data": {
      "text/plain": [
       "'C:\\\\Users\\\\alexb\\\\OneDrive\\\\Documents\\\\02 - Work\\\\coding\\\\TimeSeries'"
      ]
     },
     "execution_count": 2,
     "metadata": {},
     "output_type": "execute_result"
    }
   ],
   "source": [
    "env = os.chdir(r'C:\\Users\\alexb\\OneDrive\\Documents\\02 - Work\\coding\\TimeSeries')\n",
    "path = os.getcwd()\n",
    "path"
   ]
  },
  {
   "cell_type": "markdown",
   "id": "a40b8ed2-abe2-412b-9ef4-227f8e49ae92",
   "metadata": {},
   "source": [
    "#### 1.3: Importing Data"
   ]
  },
  {
   "cell_type": "code",
   "execution_count": 3,
   "id": "7b4ae953-8a76-4219-bb94-3f8ae6527472",
   "metadata": {},
   "outputs": [
    {
     "data": {
      "text/html": [
       "<div>\n",
       "<style scoped>\n",
       "    .dataframe tbody tr th:only-of-type {\n",
       "        vertical-align: middle;\n",
       "    }\n",
       "\n",
       "    .dataframe tbody tr th {\n",
       "        vertical-align: top;\n",
       "    }\n",
       "\n",
       "    .dataframe thead th {\n",
       "        text-align: right;\n",
       "    }\n",
       "</style>\n",
       "<table border=\"1\" class=\"dataframe\">\n",
       "  <thead>\n",
       "    <tr style=\"text-align: right;\">\n",
       "      <th></th>\n",
       "      <th>Date</th>\n",
       "      <th>SP500</th>\n",
       "      <th>Dividend</th>\n",
       "      <th>Earnings</th>\n",
       "      <th>Consumer Price Index</th>\n",
       "      <th>Long Interest Rate</th>\n",
       "      <th>Real Price</th>\n",
       "      <th>Real Dividend</th>\n",
       "      <th>Real Earnings</th>\n",
       "      <th>PE10</th>\n",
       "    </tr>\n",
       "  </thead>\n",
       "  <tbody>\n",
       "    <tr>\n",
       "      <th>0</th>\n",
       "      <td>1871-01-01</td>\n",
       "      <td>4.44</td>\n",
       "      <td>0.26</td>\n",
       "      <td>0.4</td>\n",
       "      <td>12.46</td>\n",
       "      <td>5.32</td>\n",
       "      <td>89.00</td>\n",
       "      <td>5.21</td>\n",
       "      <td>8.02</td>\n",
       "      <td>NaN</td>\n",
       "    </tr>\n",
       "    <tr>\n",
       "      <th>1</th>\n",
       "      <td>1871-02-01</td>\n",
       "      <td>4.50</td>\n",
       "      <td>0.26</td>\n",
       "      <td>0.4</td>\n",
       "      <td>12.84</td>\n",
       "      <td>5.32</td>\n",
       "      <td>87.53</td>\n",
       "      <td>5.06</td>\n",
       "      <td>7.78</td>\n",
       "      <td>NaN</td>\n",
       "    </tr>\n",
       "    <tr>\n",
       "      <th>2</th>\n",
       "      <td>1871-03-01</td>\n",
       "      <td>4.61</td>\n",
       "      <td>0.26</td>\n",
       "      <td>0.4</td>\n",
       "      <td>13.03</td>\n",
       "      <td>5.33</td>\n",
       "      <td>88.36</td>\n",
       "      <td>4.98</td>\n",
       "      <td>7.67</td>\n",
       "      <td>NaN</td>\n",
       "    </tr>\n",
       "    <tr>\n",
       "      <th>3</th>\n",
       "      <td>1871-04-01</td>\n",
       "      <td>4.74</td>\n",
       "      <td>0.26</td>\n",
       "      <td>0.4</td>\n",
       "      <td>12.56</td>\n",
       "      <td>5.33</td>\n",
       "      <td>94.29</td>\n",
       "      <td>5.17</td>\n",
       "      <td>7.96</td>\n",
       "      <td>NaN</td>\n",
       "    </tr>\n",
       "    <tr>\n",
       "      <th>4</th>\n",
       "      <td>1871-05-01</td>\n",
       "      <td>4.86</td>\n",
       "      <td>0.26</td>\n",
       "      <td>0.4</td>\n",
       "      <td>12.27</td>\n",
       "      <td>5.33</td>\n",
       "      <td>98.93</td>\n",
       "      <td>5.29</td>\n",
       "      <td>8.14</td>\n",
       "      <td>NaN</td>\n",
       "    </tr>\n",
       "    <tr>\n",
       "      <th>5</th>\n",
       "      <td>1871-06-01</td>\n",
       "      <td>4.82</td>\n",
       "      <td>0.26</td>\n",
       "      <td>0.4</td>\n",
       "      <td>12.08</td>\n",
       "      <td>5.34</td>\n",
       "      <td>99.66</td>\n",
       "      <td>5.38</td>\n",
       "      <td>8.27</td>\n",
       "      <td>NaN</td>\n",
       "    </tr>\n",
       "  </tbody>\n",
       "</table>\n",
       "</div>"
      ],
      "text/plain": [
       "         Date  SP500  Dividend  Earnings  Consumer Price Index  \\\n",
       "0  1871-01-01   4.44      0.26       0.4                 12.46   \n",
       "1  1871-02-01   4.50      0.26       0.4                 12.84   \n",
       "2  1871-03-01   4.61      0.26       0.4                 13.03   \n",
       "3  1871-04-01   4.74      0.26       0.4                 12.56   \n",
       "4  1871-05-01   4.86      0.26       0.4                 12.27   \n",
       "5  1871-06-01   4.82      0.26       0.4                 12.08   \n",
       "\n",
       "   Long Interest Rate  Real Price  Real Dividend  Real Earnings  PE10  \n",
       "0                5.32       89.00           5.21           8.02   NaN  \n",
       "1                5.32       87.53           5.06           7.78   NaN  \n",
       "2                5.33       88.36           4.98           7.67   NaN  \n",
       "3                5.33       94.29           5.17           7.96   NaN  \n",
       "4                5.33       98.93           5.29           8.14   NaN  \n",
       "5                5.34       99.66           5.38           8.27   NaN  "
      ]
     },
     "execution_count": 3,
     "metadata": {},
     "output_type": "execute_result"
    }
   ],
   "source": [
    "df1 = pd.read_csv(\"s&p500_data.csv\", infer_datetime_format = True)\n",
    "df1.head(6)"
   ]
  },
  {
   "cell_type": "markdown",
   "id": "8c668a79-0628-4690-a41e-69049b13e99e",
   "metadata": {},
   "source": [
    "#### 1.4- Adjusting for inflation\n",
    "\n",
    "https://timeseriesreasoning.com/contents/inflation-adjustment/#:~:text=The%20formula%20for%20inflation%20adjustment,multiplying%20the%20result%20by%20100.\n",
    "\n",
    "https://pandas.pydata.org/docs/getting_started/intro_tutorials/03_subset_data.html"
   ]
  },
  {
   "cell_type": "code",
   "execution_count": 4,
   "id": "0bcd05b2-cffa-448a-ab71-6ee3c2093c1a",
   "metadata": {},
   "outputs": [
    {
     "data": {
      "text/html": [
       "<div>\n",
       "<style scoped>\n",
       "    .dataframe tbody tr th:only-of-type {\n",
       "        vertical-align: middle;\n",
       "    }\n",
       "\n",
       "    .dataframe tbody tr th {\n",
       "        vertical-align: top;\n",
       "    }\n",
       "\n",
       "    .dataframe thead th {\n",
       "        text-align: right;\n",
       "    }\n",
       "</style>\n",
       "<table border=\"1\" class=\"dataframe\">\n",
       "  <thead>\n",
       "    <tr style=\"text-align: right;\">\n",
       "      <th></th>\n",
       "      <th>Date</th>\n",
       "      <th>SP500</th>\n",
       "      <th>Dividend</th>\n",
       "      <th>Earnings</th>\n",
       "      <th>Consumer Price Index</th>\n",
       "      <th>Long Interest Rate</th>\n",
       "      <th>Real Price</th>\n",
       "      <th>Real Dividend</th>\n",
       "      <th>Real Earnings</th>\n",
       "      <th>PE10</th>\n",
       "      <th>price</th>\n",
       "    </tr>\n",
       "  </thead>\n",
       "  <tbody>\n",
       "    <tr>\n",
       "      <th>0</th>\n",
       "      <td>1871-01-01</td>\n",
       "      <td>4.44</td>\n",
       "      <td>0.26</td>\n",
       "      <td>0.4</td>\n",
       "      <td>12.46</td>\n",
       "      <td>5.32</td>\n",
       "      <td>89.00</td>\n",
       "      <td>5.21</td>\n",
       "      <td>8.02</td>\n",
       "      <td>NaN</td>\n",
       "      <td>35.634029</td>\n",
       "    </tr>\n",
       "    <tr>\n",
       "      <th>1</th>\n",
       "      <td>1871-02-01</td>\n",
       "      <td>4.50</td>\n",
       "      <td>0.26</td>\n",
       "      <td>0.4</td>\n",
       "      <td>12.84</td>\n",
       "      <td>5.32</td>\n",
       "      <td>87.53</td>\n",
       "      <td>5.06</td>\n",
       "      <td>7.78</td>\n",
       "      <td>NaN</td>\n",
       "      <td>35.046729</td>\n",
       "    </tr>\n",
       "    <tr>\n",
       "      <th>2</th>\n",
       "      <td>1871-03-01</td>\n",
       "      <td>4.61</td>\n",
       "      <td>0.26</td>\n",
       "      <td>0.4</td>\n",
       "      <td>13.03</td>\n",
       "      <td>5.33</td>\n",
       "      <td>88.36</td>\n",
       "      <td>4.98</td>\n",
       "      <td>7.67</td>\n",
       "      <td>NaN</td>\n",
       "      <td>35.379893</td>\n",
       "    </tr>\n",
       "    <tr>\n",
       "      <th>3</th>\n",
       "      <td>1871-04-01</td>\n",
       "      <td>4.74</td>\n",
       "      <td>0.26</td>\n",
       "      <td>0.4</td>\n",
       "      <td>12.56</td>\n",
       "      <td>5.33</td>\n",
       "      <td>94.29</td>\n",
       "      <td>5.17</td>\n",
       "      <td>7.96</td>\n",
       "      <td>NaN</td>\n",
       "      <td>37.738854</td>\n",
       "    </tr>\n",
       "    <tr>\n",
       "      <th>4</th>\n",
       "      <td>1871-05-01</td>\n",
       "      <td>4.86</td>\n",
       "      <td>0.26</td>\n",
       "      <td>0.4</td>\n",
       "      <td>12.27</td>\n",
       "      <td>5.33</td>\n",
       "      <td>98.93</td>\n",
       "      <td>5.29</td>\n",
       "      <td>8.14</td>\n",
       "      <td>NaN</td>\n",
       "      <td>39.608802</td>\n",
       "    </tr>\n",
       "    <tr>\n",
       "      <th>5</th>\n",
       "      <td>1871-06-01</td>\n",
       "      <td>4.82</td>\n",
       "      <td>0.26</td>\n",
       "      <td>0.4</td>\n",
       "      <td>12.08</td>\n",
       "      <td>5.34</td>\n",
       "      <td>99.66</td>\n",
       "      <td>5.38</td>\n",
       "      <td>8.27</td>\n",
       "      <td>NaN</td>\n",
       "      <td>39.900662</td>\n",
       "    </tr>\n",
       "  </tbody>\n",
       "</table>\n",
       "</div>"
      ],
      "text/plain": [
       "         Date  SP500  Dividend  Earnings  Consumer Price Index  \\\n",
       "0  1871-01-01   4.44      0.26       0.4                 12.46   \n",
       "1  1871-02-01   4.50      0.26       0.4                 12.84   \n",
       "2  1871-03-01   4.61      0.26       0.4                 13.03   \n",
       "3  1871-04-01   4.74      0.26       0.4                 12.56   \n",
       "4  1871-05-01   4.86      0.26       0.4                 12.27   \n",
       "5  1871-06-01   4.82      0.26       0.4                 12.08   \n",
       "\n",
       "   Long Interest Rate  Real Price  Real Dividend  Real Earnings  PE10  \\\n",
       "0                5.32       89.00           5.21           8.02   NaN   \n",
       "1                5.32       87.53           5.06           7.78   NaN   \n",
       "2                5.33       88.36           4.98           7.67   NaN   \n",
       "3                5.33       94.29           5.17           7.96   NaN   \n",
       "4                5.33       98.93           5.29           8.14   NaN   \n",
       "5                5.34       99.66           5.38           8.27   NaN   \n",
       "\n",
       "       price  \n",
       "0  35.634029  \n",
       "1  35.046729  \n",
       "2  35.379893  \n",
       "3  37.738854  \n",
       "4  39.608802  \n",
       "5  39.900662  "
      ]
     },
     "execution_count": 4,
     "metadata": {},
     "output_type": "execute_result"
    }
   ],
   "source": [
    "df1[\"price\"] = df1[\"SP500\"]/df1[\"Consumer Price Index\"]*100\n",
    "df1.head(6)"
   ]
  },
  {
   "cell_type": "markdown",
   "id": "260a92de-7fd0-4883-848a-c751bcaee63b",
   "metadata": {},
   "source": [
    "#### 1.5: Isolating relevant variables"
   ]
  },
  {
   "cell_type": "code",
   "execution_count": 5,
   "id": "666ef8ef-37c4-489c-91b7-8a3a8862a084",
   "metadata": {},
   "outputs": [
    {
     "data": {
      "text/html": [
       "<div>\n",
       "<style scoped>\n",
       "    .dataframe tbody tr th:only-of-type {\n",
       "        vertical-align: middle;\n",
       "    }\n",
       "\n",
       "    .dataframe tbody tr th {\n",
       "        vertical-align: top;\n",
       "    }\n",
       "\n",
       "    .dataframe thead th {\n",
       "        text-align: right;\n",
       "    }\n",
       "</style>\n",
       "<table border=\"1\" class=\"dataframe\">\n",
       "  <thead>\n",
       "    <tr style=\"text-align: right;\">\n",
       "      <th></th>\n",
       "      <th>Date</th>\n",
       "      <th>price</th>\n",
       "    </tr>\n",
       "  </thead>\n",
       "  <tbody>\n",
       "    <tr>\n",
       "      <th>0</th>\n",
       "      <td>1871-01-01</td>\n",
       "      <td>35.634029</td>\n",
       "    </tr>\n",
       "    <tr>\n",
       "      <th>1</th>\n",
       "      <td>1871-02-01</td>\n",
       "      <td>35.046729</td>\n",
       "    </tr>\n",
       "    <tr>\n",
       "      <th>2</th>\n",
       "      <td>1871-03-01</td>\n",
       "      <td>35.379893</td>\n",
       "    </tr>\n",
       "    <tr>\n",
       "      <th>3</th>\n",
       "      <td>1871-04-01</td>\n",
       "      <td>37.738854</td>\n",
       "    </tr>\n",
       "    <tr>\n",
       "      <th>4</th>\n",
       "      <td>1871-05-01</td>\n",
       "      <td>39.608802</td>\n",
       "    </tr>\n",
       "    <tr>\n",
       "      <th>5</th>\n",
       "      <td>1871-06-01</td>\n",
       "      <td>39.900662</td>\n",
       "    </tr>\n",
       "  </tbody>\n",
       "</table>\n",
       "</div>"
      ],
      "text/plain": [
       "         Date      price\n",
       "0  1871-01-01  35.634029\n",
       "1  1871-02-01  35.046729\n",
       "2  1871-03-01  35.379893\n",
       "3  1871-04-01  37.738854\n",
       "4  1871-05-01  39.608802\n",
       "5  1871-06-01  39.900662"
      ]
     },
     "execution_count": 5,
     "metadata": {},
     "output_type": "execute_result"
    }
   ],
   "source": [
    "exclusions = [\"Dividend\",\"Earnings\",\"Real Dividend\",\"Real Earnings\",\"Real Price\",\"Long Interest Rate\",\"PE10\",\"Consumer Price Index\",\"SP500\"]\n",
    "i = 0\n",
    "while i < len(exclusions):\n",
    "    df1.drop(exclusions[i], inplace=True, axis=1)\n",
    "    i = i + 1\n",
    "\n",
    "df1.head(6)"
   ]
  },
  {
   "cell_type": "markdown",
   "id": "518c2dd5-d402-41ef-a002-4d12828b3594",
   "metadata": {
    "tags": []
   },
   "source": [
    "## 2: Setting up DF2"
   ]
  },
  {
   "cell_type": "markdown",
   "id": "11a58ef8-acc8-41a6-ab0d-5e9b64ef275b",
   "metadata": {},
   "source": [
    "#### 2.1 : Create list to iterate over"
   ]
  },
  {
   "cell_type": "code",
   "execution_count": 9,
   "id": "f307cd16-8b44-4379-9316-fd38f941a58e",
   "metadata": {},
   "outputs": [],
   "source": [
    "date_list = pd.to_datetime(df1['Date'])\n",
    "#print(date_list.head(6))\n",
    "\n",
    "rows = len(date_list) \n",
    "#rows      # to give us the number of times we need to run the loop"
   ]
  },
  {
   "cell_type": "markdown",
   "id": "e5a07cec-c5cd-431d-9395-7c80db3cbf5f",
   "metadata": {},
   "source": [
    "#### 2.2: Define bins"
   ]
  },
  {
   "cell_type": "code",
   "execution_count": 10,
   "id": "4edb8934-a6ac-4518-b1db-f84c9bcc46ca",
   "metadata": {},
   "outputs": [
    {
     "data": {
      "text/plain": [
       "180"
      ]
     },
     "execution_count": 10,
     "metadata": {},
     "output_type": "execute_result"
    }
   ],
   "source": [
    "months_in_year = 12\n",
    "years_in_window = 15\n",
    "bin_size = months_in_year * years_in_window\n",
    "bin_size"
   ]
  },
  {
   "cell_type": "markdown",
   "id": "1a2bc76b-6409-49c1-9111-20c7848fb10c",
   "metadata": {
    "tags": []
   },
   "source": [
    "#### 2.3 : Define bin-creation function"
   ]
  },
  {
   "cell_type": "code",
   "execution_count": 11,
   "id": "0bc6ece2-c851-43e8-a21b-ce8567e11a66",
   "metadata": {},
   "outputs": [],
   "source": [
    "def make_list(start):\n",
    "    list1 = []\n",
    "    end = start + bin_size\n",
    "    i = 0\n",
    "    for i in range(rows):\n",
    "        if i < start or i > end:\n",
    "            list1.append(np.nan)\n",
    "            i = i + 1\n",
    "        else:\n",
    "            dummy = df1.iloc[i,1]\n",
    "            list1.append(dummy)\n",
    "            i = i + 1\n",
    "    return list1\n"
   ]
  },
  {
   "cell_type": "markdown",
   "id": "86a8e612-8c7e-4971-9ac9-633b63c6422e",
   "metadata": {},
   "source": [
    "#### 2.4 - Testing the function (works)"
   ]
  },
  {
   "cell_type": "code",
   "execution_count": 12,
   "id": "8d244116-7aa9-4d6a-8a9b-c2be3aa42b0e",
   "metadata": {},
   "outputs": [],
   "source": [
    "#list1 = make_list(10)\n",
    "#print(list1) "
   ]
  },
  {
   "cell_type": "markdown",
   "id": "acd1d586-3679-42f9-a15f-d5760aa13eb9",
   "metadata": {},
   "source": [
    "#### 2.5 - Create DF2"
   ]
  },
  {
   "cell_type": "code",
   "execution_count": 13,
   "id": "7ea26b33-3ede-46d9-bde7-1870be792a8a",
   "metadata": {},
   "outputs": [],
   "source": [
    "#df2 = pd.DataFrame()\n",
    "#df2.insert(0,1,list1)\n",
    "\n",
    "#df2.head(20) # Works\n"
   ]
  },
  {
   "cell_type": "code",
   "execution_count": 14,
   "id": "487856d3-3f56-4bcc-b847-ebc2e0b6fc26",
   "metadata": {},
   "outputs": [
    {
     "name": "stderr",
     "output_type": "stream",
     "text": [
      "C:\\Users\\alexb\\anaconda3\\lib\\site-packages\\IPython\\core\\interactiveshell.py:3364: PerformanceWarning: DataFrame is highly fragmented.  This is usually the result of calling `frame.insert` many times, which has poor performance.  Consider joining all columns at once using pd.concat(axis=1) instead.  To get a de-fragmented frame, use `newframe = frame.copy()`\n",
      "  if (await self.run_code(code, result,  async_=asy)):\n"
     ]
    },
    {
     "data": {
      "text/html": [
       "<div>\n",
       "<style scoped>\n",
       "    .dataframe tbody tr th:only-of-type {\n",
       "        vertical-align: middle;\n",
       "    }\n",
       "\n",
       "    .dataframe tbody tr th {\n",
       "        vertical-align: top;\n",
       "    }\n",
       "\n",
       "    .dataframe thead th {\n",
       "        text-align: right;\n",
       "    }\n",
       "</style>\n",
       "<table border=\"1\" class=\"dataframe\">\n",
       "  <thead>\n",
       "    <tr style=\"text-align: right;\">\n",
       "      <th></th>\n",
       "      <th>0</th>\n",
       "      <th>1</th>\n",
       "      <th>2</th>\n",
       "      <th>3</th>\n",
       "      <th>4</th>\n",
       "      <th>5</th>\n",
       "      <th>6</th>\n",
       "      <th>7</th>\n",
       "      <th>8</th>\n",
       "      <th>9</th>\n",
       "      <th>...</th>\n",
       "      <th>1758</th>\n",
       "      <th>1759</th>\n",
       "      <th>1760</th>\n",
       "      <th>1761</th>\n",
       "      <th>1762</th>\n",
       "      <th>1763</th>\n",
       "      <th>1764</th>\n",
       "      <th>1765</th>\n",
       "      <th>1766</th>\n",
       "      <th>1767</th>\n",
       "    </tr>\n",
       "  </thead>\n",
       "  <tbody>\n",
       "    <tr>\n",
       "      <th>0</th>\n",
       "      <td>35.634029</td>\n",
       "      <td>NaN</td>\n",
       "      <td>NaN</td>\n",
       "      <td>NaN</td>\n",
       "      <td>NaN</td>\n",
       "      <td>NaN</td>\n",
       "      <td>NaN</td>\n",
       "      <td>NaN</td>\n",
       "      <td>NaN</td>\n",
       "      <td>NaN</td>\n",
       "      <td>...</td>\n",
       "      <td>NaN</td>\n",
       "      <td>NaN</td>\n",
       "      <td>NaN</td>\n",
       "      <td>NaN</td>\n",
       "      <td>NaN</td>\n",
       "      <td>NaN</td>\n",
       "      <td>NaN</td>\n",
       "      <td>NaN</td>\n",
       "      <td>NaN</td>\n",
       "      <td>NaN</td>\n",
       "    </tr>\n",
       "    <tr>\n",
       "      <th>1</th>\n",
       "      <td>35.046729</td>\n",
       "      <td>35.046729</td>\n",
       "      <td>NaN</td>\n",
       "      <td>NaN</td>\n",
       "      <td>NaN</td>\n",
       "      <td>NaN</td>\n",
       "      <td>NaN</td>\n",
       "      <td>NaN</td>\n",
       "      <td>NaN</td>\n",
       "      <td>NaN</td>\n",
       "      <td>...</td>\n",
       "      <td>NaN</td>\n",
       "      <td>NaN</td>\n",
       "      <td>NaN</td>\n",
       "      <td>NaN</td>\n",
       "      <td>NaN</td>\n",
       "      <td>NaN</td>\n",
       "      <td>NaN</td>\n",
       "      <td>NaN</td>\n",
       "      <td>NaN</td>\n",
       "      <td>NaN</td>\n",
       "    </tr>\n",
       "    <tr>\n",
       "      <th>2</th>\n",
       "      <td>35.379893</td>\n",
       "      <td>35.379893</td>\n",
       "      <td>35.379893</td>\n",
       "      <td>NaN</td>\n",
       "      <td>NaN</td>\n",
       "      <td>NaN</td>\n",
       "      <td>NaN</td>\n",
       "      <td>NaN</td>\n",
       "      <td>NaN</td>\n",
       "      <td>NaN</td>\n",
       "      <td>...</td>\n",
       "      <td>NaN</td>\n",
       "      <td>NaN</td>\n",
       "      <td>NaN</td>\n",
       "      <td>NaN</td>\n",
       "      <td>NaN</td>\n",
       "      <td>NaN</td>\n",
       "      <td>NaN</td>\n",
       "      <td>NaN</td>\n",
       "      <td>NaN</td>\n",
       "      <td>NaN</td>\n",
       "    </tr>\n",
       "    <tr>\n",
       "      <th>3</th>\n",
       "      <td>37.738854</td>\n",
       "      <td>37.738854</td>\n",
       "      <td>37.738854</td>\n",
       "      <td>37.738854</td>\n",
       "      <td>NaN</td>\n",
       "      <td>NaN</td>\n",
       "      <td>NaN</td>\n",
       "      <td>NaN</td>\n",
       "      <td>NaN</td>\n",
       "      <td>NaN</td>\n",
       "      <td>...</td>\n",
       "      <td>NaN</td>\n",
       "      <td>NaN</td>\n",
       "      <td>NaN</td>\n",
       "      <td>NaN</td>\n",
       "      <td>NaN</td>\n",
       "      <td>NaN</td>\n",
       "      <td>NaN</td>\n",
       "      <td>NaN</td>\n",
       "      <td>NaN</td>\n",
       "      <td>NaN</td>\n",
       "    </tr>\n",
       "    <tr>\n",
       "      <th>4</th>\n",
       "      <td>39.608802</td>\n",
       "      <td>39.608802</td>\n",
       "      <td>39.608802</td>\n",
       "      <td>39.608802</td>\n",
       "      <td>39.608802</td>\n",
       "      <td>NaN</td>\n",
       "      <td>NaN</td>\n",
       "      <td>NaN</td>\n",
       "      <td>NaN</td>\n",
       "      <td>NaN</td>\n",
       "      <td>...</td>\n",
       "      <td>NaN</td>\n",
       "      <td>NaN</td>\n",
       "      <td>NaN</td>\n",
       "      <td>NaN</td>\n",
       "      <td>NaN</td>\n",
       "      <td>NaN</td>\n",
       "      <td>NaN</td>\n",
       "      <td>NaN</td>\n",
       "      <td>NaN</td>\n",
       "      <td>NaN</td>\n",
       "    </tr>\n",
       "  </tbody>\n",
       "</table>\n",
       "<p>5 rows × 1768 columns</p>\n",
       "</div>"
      ],
      "text/plain": [
       "        0          1          2          3          4     5     6     7     \\\n",
       "0  35.634029        NaN        NaN        NaN        NaN   NaN   NaN   NaN   \n",
       "1  35.046729  35.046729        NaN        NaN        NaN   NaN   NaN   NaN   \n",
       "2  35.379893  35.379893  35.379893        NaN        NaN   NaN   NaN   NaN   \n",
       "3  37.738854  37.738854  37.738854  37.738854        NaN   NaN   NaN   NaN   \n",
       "4  39.608802  39.608802  39.608802  39.608802  39.608802   NaN   NaN   NaN   \n",
       "\n",
       "   8     9     ...  1758  1759  1760  1761  1762  1763  1764  1765  1766  1767  \n",
       "0   NaN   NaN  ...   NaN   NaN   NaN   NaN   NaN   NaN   NaN   NaN   NaN   NaN  \n",
       "1   NaN   NaN  ...   NaN   NaN   NaN   NaN   NaN   NaN   NaN   NaN   NaN   NaN  \n",
       "2   NaN   NaN  ...   NaN   NaN   NaN   NaN   NaN   NaN   NaN   NaN   NaN   NaN  \n",
       "3   NaN   NaN  ...   NaN   NaN   NaN   NaN   NaN   NaN   NaN   NaN   NaN   NaN  \n",
       "4   NaN   NaN  ...   NaN   NaN   NaN   NaN   NaN   NaN   NaN   NaN   NaN   NaN  \n",
       "\n",
       "[5 rows x 1768 columns]"
      ]
     },
     "execution_count": 14,
     "metadata": {},
     "output_type": "execute_result"
    }
   ],
   "source": [
    "df2 = pd.DataFrame()\n",
    "\n",
    "for i in range(rows):\n",
    "    list1 = make_list(i)\n",
    "    df2.insert(i,i,list1)\n",
    "\n",
    "df2.head(5)"
   ]
  },
  {
   "cell_type": "markdown",
   "id": "8852ed51-da5a-469a-9301-f69051d7e89f",
   "metadata": {},
   "source": [
    "## 3 - Analysing the data"
   ]
  },
  {
   "cell_type": "markdown",
   "id": "59b456a9-5aea-4ccb-a29e-8dbd041fc1c9",
   "metadata": {},
   "source": [
    "#### 2.1. Generating list of end values\n",
    "We have a list with all of the starting values (df1). We want to find the final value to be able to find compound growth, so we shift each index forward 180 to get the ending value"
   ]
  },
  {
   "cell_type": "code",
   "execution_count": 15,
   "id": "85939e46-d7c4-4b0c-afec-9f6711d7f8e9",
   "metadata": {},
   "outputs": [],
   "source": [
    "start_values = []\n",
    "\n",
    "i = 0\n",
    "\n",
    "for i in range(rows):\n",
    "    start_index = i - bin_size\n",
    "    if start_index >= 0:\n",
    "        dummy = df1.iloc[start_index,1]\n",
    "        start_values.append(dummy)\n",
    "        i = i + 1\n",
    "    else:\n",
    "        start_values.append(np.nan)\n",
    "        i = i + 1\n",
    "\n",
    "#print(start_values) #Works. This will be appended to dataframe\n"
   ]
  },
  {
   "cell_type": "code",
   "execution_count": 16,
   "id": "e6a765e0-9bed-4a7f-8462-f311431cfa63",
   "metadata": {},
   "outputs": [
    {
     "data": {
      "text/html": [
       "<div>\n",
       "<style scoped>\n",
       "    .dataframe tbody tr th:only-of-type {\n",
       "        vertical-align: middle;\n",
       "    }\n",
       "\n",
       "    .dataframe tbody tr th {\n",
       "        vertical-align: top;\n",
       "    }\n",
       "\n",
       "    .dataframe thead th {\n",
       "        text-align: right;\n",
       "    }\n",
       "</style>\n",
       "<table border=\"1\" class=\"dataframe\">\n",
       "  <thead>\n",
       "    <tr style=\"text-align: right;\">\n",
       "      <th></th>\n",
       "      <th>Date</th>\n",
       "      <th>price</th>\n",
       "      <th>start price</th>\n",
       "    </tr>\n",
       "  </thead>\n",
       "  <tbody>\n",
       "    <tr>\n",
       "      <th>0</th>\n",
       "      <td>1871-01-01</td>\n",
       "      <td>35.634029</td>\n",
       "      <td>NaN</td>\n",
       "    </tr>\n",
       "    <tr>\n",
       "      <th>1</th>\n",
       "      <td>1871-02-01</td>\n",
       "      <td>35.046729</td>\n",
       "      <td>NaN</td>\n",
       "    </tr>\n",
       "    <tr>\n",
       "      <th>2</th>\n",
       "      <td>1871-03-01</td>\n",
       "      <td>35.379893</td>\n",
       "      <td>NaN</td>\n",
       "    </tr>\n",
       "    <tr>\n",
       "      <th>3</th>\n",
       "      <td>1871-04-01</td>\n",
       "      <td>37.738854</td>\n",
       "      <td>NaN</td>\n",
       "    </tr>\n",
       "    <tr>\n",
       "      <th>4</th>\n",
       "      <td>1871-05-01</td>\n",
       "      <td>39.608802</td>\n",
       "      <td>NaN</td>\n",
       "    </tr>\n",
       "    <tr>\n",
       "      <th>...</th>\n",
       "      <td>...</td>\n",
       "      <td>...</td>\n",
       "      <td>...</td>\n",
       "    </tr>\n",
       "    <tr>\n",
       "      <th>180</th>\n",
       "      <td>1886-01-01</td>\n",
       "      <td>65.081352</td>\n",
       "      <td>35.634029</td>\n",
       "    </tr>\n",
       "    <tr>\n",
       "      <th>181</th>\n",
       "      <td>1886-02-01</td>\n",
       "      <td>66.332916</td>\n",
       "      <td>35.046729</td>\n",
       "    </tr>\n",
       "    <tr>\n",
       "      <th>182</th>\n",
       "      <td>1886-03-01</td>\n",
       "      <td>65.696203</td>\n",
       "      <td>35.379893</td>\n",
       "    </tr>\n",
       "    <tr>\n",
       "      <th>183</th>\n",
       "      <td>1886-04-01</td>\n",
       "      <td>65.641026</td>\n",
       "      <td>37.738854</td>\n",
       "    </tr>\n",
       "    <tr>\n",
       "      <th>184</th>\n",
       "      <td>1886-05-01</td>\n",
       "      <td>65.965834</td>\n",
       "      <td>39.608802</td>\n",
       "    </tr>\n",
       "  </tbody>\n",
       "</table>\n",
       "<p>185 rows × 3 columns</p>\n",
       "</div>"
      ],
      "text/plain": [
       "           Date      price  start price\n",
       "0    1871-01-01  35.634029          NaN\n",
       "1    1871-02-01  35.046729          NaN\n",
       "2    1871-03-01  35.379893          NaN\n",
       "3    1871-04-01  37.738854          NaN\n",
       "4    1871-05-01  39.608802          NaN\n",
       "..          ...        ...          ...\n",
       "180  1886-01-01  65.081352    35.634029\n",
       "181  1886-02-01  66.332916    35.046729\n",
       "182  1886-03-01  65.696203    35.379893\n",
       "183  1886-04-01  65.641026    37.738854\n",
       "184  1886-05-01  65.965834    39.608802\n",
       "\n",
       "[185 rows x 3 columns]"
      ]
     },
     "execution_count": 16,
     "metadata": {},
     "output_type": "execute_result"
    }
   ],
   "source": [
    "df1[\"start price\"] = start_values\n",
    "df1.head(185)"
   ]
  },
  {
   "attachments": {
    "4a671684-f317-4096-bca6-97b94b7b400b.png": {
     "image/png": "[encoded data removed]"
    }
   },
   "cell_type": "markdown",
   "id": "afeca1b1-eeee-4c93-bc17-7570efa44177",
   "metadata": {},
   "source": [
    "#### CAGR\n",
    "![image.png](attachment:4a671684-f317-4096-bca6-97b94b7b400b.png)\n"
   ]
  },
  {
   "cell_type": "code",
   "execution_count": 17,
   "id": "d382a3a3-82b9-46b6-940d-d94ffb81926a",
   "metadata": {},
   "outputs": [
    {
     "data": {
      "text/html": [
       "<div>\n",
       "<style scoped>\n",
       "    .dataframe tbody tr th:only-of-type {\n",
       "        vertical-align: middle;\n",
       "    }\n",
       "\n",
       "    .dataframe tbody tr th {\n",
       "        vertical-align: top;\n",
       "    }\n",
       "\n",
       "    .dataframe thead th {\n",
       "        text-align: right;\n",
       "    }\n",
       "</style>\n",
       "<table border=\"1\" class=\"dataframe\">\n",
       "  <thead>\n",
       "    <tr style=\"text-align: right;\">\n",
       "      <th></th>\n",
       "      <th>price</th>\n",
       "      <th>start price</th>\n",
       "      <th>cagr</th>\n",
       "    </tr>\n",
       "    <tr>\n",
       "      <th>Date</th>\n",
       "      <th></th>\n",
       "      <th></th>\n",
       "      <th></th>\n",
       "    </tr>\n",
       "  </thead>\n",
       "  <tbody>\n",
       "    <tr>\n",
       "      <th>1871-01-01</th>\n",
       "      <td>35.634029</td>\n",
       "      <td>NaN</td>\n",
       "      <td>NaN</td>\n",
       "    </tr>\n",
       "    <tr>\n",
       "      <th>1871-02-01</th>\n",
       "      <td>35.046729</td>\n",
       "      <td>NaN</td>\n",
       "      <td>NaN</td>\n",
       "    </tr>\n",
       "    <tr>\n",
       "      <th>1871-03-01</th>\n",
       "      <td>35.379893</td>\n",
       "      <td>NaN</td>\n",
       "      <td>NaN</td>\n",
       "    </tr>\n",
       "    <tr>\n",
       "      <th>1871-04-01</th>\n",
       "      <td>37.738854</td>\n",
       "      <td>NaN</td>\n",
       "      <td>NaN</td>\n",
       "    </tr>\n",
       "    <tr>\n",
       "      <th>1871-05-01</th>\n",
       "      <td>39.608802</td>\n",
       "      <td>NaN</td>\n",
       "      <td>NaN</td>\n",
       "    </tr>\n",
       "    <tr>\n",
       "      <th>...</th>\n",
       "      <td>...</td>\n",
       "      <td>...</td>\n",
       "      <td>...</td>\n",
       "    </tr>\n",
       "    <tr>\n",
       "      <th>1886-01-01</th>\n",
       "      <td>65.081352</td>\n",
       "      <td>35.634029</td>\n",
       "      <td>4.097295</td>\n",
       "    </tr>\n",
       "    <tr>\n",
       "      <th>1886-02-01</th>\n",
       "      <td>66.332916</td>\n",
       "      <td>35.046729</td>\n",
       "      <td>4.345111</td>\n",
       "    </tr>\n",
       "    <tr>\n",
       "      <th>1886-03-01</th>\n",
       "      <td>65.696203</td>\n",
       "      <td>35.379893</td>\n",
       "      <td>4.212285</td>\n",
       "    </tr>\n",
       "    <tr>\n",
       "      <th>1886-04-01</th>\n",
       "      <td>65.641026</td>\n",
       "      <td>37.738854</td>\n",
       "      <td>3.759000</td>\n",
       "    </tr>\n",
       "    <tr>\n",
       "      <th>1886-05-01</th>\n",
       "      <td>65.965834</td>\n",
       "      <td>39.608802</td>\n",
       "      <td>3.459051</td>\n",
       "    </tr>\n",
       "  </tbody>\n",
       "</table>\n",
       "<p>185 rows × 3 columns</p>\n",
       "</div>"
      ],
      "text/plain": [
       "                price  start price      cagr\n",
       "Date                                        \n",
       "1871-01-01  35.634029          NaN       NaN\n",
       "1871-02-01  35.046729          NaN       NaN\n",
       "1871-03-01  35.379893          NaN       NaN\n",
       "1871-04-01  37.738854          NaN       NaN\n",
       "1871-05-01  39.608802          NaN       NaN\n",
       "...               ...          ...       ...\n",
       "1886-01-01  65.081352    35.634029  4.097295\n",
       "1886-02-01  66.332916    35.046729  4.345111\n",
       "1886-03-01  65.696203    35.379893  4.212285\n",
       "1886-04-01  65.641026    37.738854  3.759000\n",
       "1886-05-01  65.965834    39.608802  3.459051\n",
       "\n",
       "[185 rows x 3 columns]"
      ]
     },
     "execution_count": 17,
     "metadata": {},
     "output_type": "execute_result"
    }
   ],
   "source": [
    "df1[\"cagr\"] = (((df1[\"price\"]/df1[\"start price\"])**(1/years_in_window))-1)*100\n",
    "df1[\"Date\"] = pd.to_datetime(df1[\"Date\"])\n",
    "df1.set_index('Date', inplace=True)\n",
    "\n",
    "df1.head(185)\n"
   ]
  },
  {
   "cell_type": "code",
   "execution_count": 18,
   "id": "8732cbe3-086f-4e90-8c39-2005e5a59799",
   "metadata": {},
   "outputs": [
    {
     "data": {
      "image/png": "[encoded data removed]",
      "text/plain": [
       "<Figure size 432x288 with 1 Axes>"
      ]
     },
     "metadata": {
      "needs_background": "light"
     },
     "output_type": "display_data"
    }
   ],
   "source": [
    "plt.plot(df1[\"cagr\"], marker=\"o\", ms=1.5)\n",
    "\n",
    "# Labelling \n",
    "\n",
    "plt.xlabel(\"Date\")\n",
    "plt.ylabel(\"CAGR\")\n",
    "plt.title(\"Historical CAGR\")\n",
    "\n",
    "#plt.xlim([datetime.date(1886, 1, 1), datetime.date(2018, 1, 1)])\n",
    "plt.ylim(-20,20)\n",
    "\n",
    "# Display\n",
    "\n",
    "plt.show()"
   ]
  },
  {
   "cell_type": "markdown",
   "id": "92911155-45fe-46fa-80de-c3858b4244e3",
   "metadata": {},
   "source": [
    "Key question, is this significantly different from zero? \n",
    "\n",
    "https://www.codecademy.com/article/seaborn-design-ii"
   ]
  },
  {
   "cell_type": "code",
   "execution_count": 19,
   "id": "85798f25-65a5-4239-b5d0-31cf5ecaa888",
   "metadata": {},
   "outputs": [
    {
     "data": {
      "image/png": "[encoded data removed]",
      "text/plain": [
       "<Figure size 432x288 with 2 Axes>"
      ]
     },
     "metadata": {
      "needs_background": "light"
     },
     "output_type": "display_data"
    }
   ],
   "source": [
    "sns.lineplot(data=df1[\"cagr\"])\n",
    "ax2 = plt.twinx()\n",
    "sns.lineplot(data=df1[\"price\"], color=\"b\", ax=ax2)\n",
    "\n",
    "plt.show()"
   ]
  },
  {
   "cell_type": "markdown",
   "id": "825e25d2-7b0c-4872-9fc4-08bc2c56d046",
   "metadata": {},
   "source": [
    "Zeros are affecting the chart (because of the last 180 values"
   ]
  },
  {
   "cell_type": "markdown",
   "id": "3cce19ec-4e52-47bb-abbd-30d4fe5de4c9",
   "metadata": {},
   "source": [
    "#### Standard Deviation"
   ]
  },
  {
   "cell_type": "code",
   "execution_count": 20,
   "id": "36d73452-b5d5-4cee-8189-864d958f9713",
   "metadata": {},
   "outputs": [
    {
     "name": "stdout",
     "output_type": "stream",
     "text": [
      "10.35143530344215\n"
     ]
    }
   ],
   "source": [
    "#df2[4].std()\n",
    "#print(df2[4].head(6))\n",
    "\n",
    "#print(df2[0])\n",
    "print(df2[0].std())\n"
   ]
  },
  {
   "cell_type": "code",
   "execution_count": 21,
   "id": "e2a503ec-5055-49f3-b1e9-8c043d24bd04",
   "metadata": {},
   "outputs": [
    {
     "data": {
      "text/html": [
       "<div>\n",
       "<style scoped>\n",
       "    .dataframe tbody tr th:only-of-type {\n",
       "        vertical-align: middle;\n",
       "    }\n",
       "\n",
       "    .dataframe tbody tr th {\n",
       "        vertical-align: top;\n",
       "    }\n",
       "\n",
       "    .dataframe thead th {\n",
       "        text-align: right;\n",
       "    }\n",
       "</style>\n",
       "<table border=\"1\" class=\"dataframe\">\n",
       "  <thead>\n",
       "    <tr style=\"text-align: right;\">\n",
       "      <th></th>\n",
       "      <th>price</th>\n",
       "      <th>start price</th>\n",
       "      <th>cagr</th>\n",
       "      <th>std dev</th>\n",
       "    </tr>\n",
       "    <tr>\n",
       "      <th>Date</th>\n",
       "      <th></th>\n",
       "      <th></th>\n",
       "      <th></th>\n",
       "      <th></th>\n",
       "    </tr>\n",
       "  </thead>\n",
       "  <tbody>\n",
       "    <tr>\n",
       "      <th>1871-01-01</th>\n",
       "      <td>35.634029</td>\n",
       "      <td>NaN</td>\n",
       "      <td>NaN</td>\n",
       "      <td>0.000000</td>\n",
       "    </tr>\n",
       "    <tr>\n",
       "      <th>1871-02-01</th>\n",
       "      <td>35.046729</td>\n",
       "      <td>NaN</td>\n",
       "      <td>NaN</td>\n",
       "      <td>0.000000</td>\n",
       "    </tr>\n",
       "    <tr>\n",
       "      <th>1871-03-01</th>\n",
       "      <td>35.379893</td>\n",
       "      <td>NaN</td>\n",
       "      <td>NaN</td>\n",
       "      <td>0.000000</td>\n",
       "    </tr>\n",
       "    <tr>\n",
       "      <th>1871-04-01</th>\n",
       "      <td>37.738854</td>\n",
       "      <td>NaN</td>\n",
       "      <td>NaN</td>\n",
       "      <td>0.000000</td>\n",
       "    </tr>\n",
       "    <tr>\n",
       "      <th>1871-05-01</th>\n",
       "      <td>39.608802</td>\n",
       "      <td>NaN</td>\n",
       "      <td>NaN</td>\n",
       "      <td>0.000000</td>\n",
       "    </tr>\n",
       "    <tr>\n",
       "      <th>...</th>\n",
       "      <td>...</td>\n",
       "      <td>...</td>\n",
       "      <td>...</td>\n",
       "      <td>...</td>\n",
       "    </tr>\n",
       "    <tr>\n",
       "      <th>1886-01-01</th>\n",
       "      <td>65.081352</td>\n",
       "      <td>35.634029</td>\n",
       "      <td>4.097295</td>\n",
       "      <td>7.269496</td>\n",
       "    </tr>\n",
       "    <tr>\n",
       "      <th>1886-02-01</th>\n",
       "      <td>66.332916</td>\n",
       "      <td>35.046729</td>\n",
       "      <td>4.345111</td>\n",
       "      <td>7.496481</td>\n",
       "    </tr>\n",
       "    <tr>\n",
       "      <th>1886-03-01</th>\n",
       "      <td>65.696203</td>\n",
       "      <td>35.379893</td>\n",
       "      <td>4.212285</td>\n",
       "      <td>7.782429</td>\n",
       "    </tr>\n",
       "    <tr>\n",
       "      <th>1886-04-01</th>\n",
       "      <td>65.641026</td>\n",
       "      <td>37.738854</td>\n",
       "      <td>3.759000</td>\n",
       "      <td>8.265782</td>\n",
       "    </tr>\n",
       "    <tr>\n",
       "      <th>1886-05-01</th>\n",
       "      <td>65.965834</td>\n",
       "      <td>39.608802</td>\n",
       "      <td>3.459051</td>\n",
       "      <td>8.594685</td>\n",
       "    </tr>\n",
       "  </tbody>\n",
       "</table>\n",
       "<p>185 rows × 4 columns</p>\n",
       "</div>"
      ],
      "text/plain": [
       "                price  start price      cagr   std dev\n",
       "Date                                                  \n",
       "1871-01-01  35.634029          NaN       NaN  0.000000\n",
       "1871-02-01  35.046729          NaN       NaN  0.000000\n",
       "1871-03-01  35.379893          NaN       NaN  0.000000\n",
       "1871-04-01  37.738854          NaN       NaN  0.000000\n",
       "1871-05-01  39.608802          NaN       NaN  0.000000\n",
       "...               ...          ...       ...       ...\n",
       "1886-01-01  65.081352    35.634029  4.097295  7.269496\n",
       "1886-02-01  66.332916    35.046729  4.345111  7.496481\n",
       "1886-03-01  65.696203    35.379893  4.212285  7.782429\n",
       "1886-04-01  65.641026    37.738854  3.759000  8.265782\n",
       "1886-05-01  65.965834    39.608802  3.459051  8.594685\n",
       "\n",
       "[185 rows x 4 columns]"
      ]
     },
     "execution_count": 21,
     "metadata": {},
     "output_type": "execute_result"
    }
   ],
   "source": [
    "std_dev_list = []\n",
    "\n",
    "i = 0\n",
    "\n",
    "for i in range(rows):\n",
    "    if i < bin_size:\n",
    "        std_dev_list.append(0)\n",
    "        i = i + 1\n",
    "    else: \n",
    "        dummy = df2[i].std()\n",
    "        std_dev_list.append(dummy)\n",
    "        i = i + 1\n",
    "\n",
    "#print(std_dev_list)\n",
    "df1[\"std dev\"] = std_dev_list\n",
    "\n",
    "df1.head(185)"
   ]
  },
  {
   "cell_type": "markdown",
   "id": "8ed830b8-87cb-46fa-aef2-2e1bce7d9326",
   "metadata": {},
   "source": [
    "Getting a grip on getting the right condition"
   ]
  },
  {
   "cell_type": "code",
   "execution_count": 42,
   "id": "cae55d78-7884-46f6-b220-8ddba53ac5f3",
   "metadata": {},
   "outputs": [
    {
     "ename": "SyntaxError",
     "evalue": "invalid syntax (Temp/ipykernel_41956/192900583.py, line 2)",
     "output_type": "error",
     "traceback": [
      "\u001b[1;36m  File \u001b[1;32m\"C:\\Users\\alexb\\AppData\\Local\\Temp/ipykernel_41956/192900583.py\"\u001b[1;36m, line \u001b[1;32m2\u001b[0m\n\u001b[1;33m    if start_value = np.nan\u001b[0m\n\u001b[1;37m                   ^\u001b[0m\n\u001b[1;31mSyntaxError\u001b[0m\u001b[1;31m:\u001b[0m invalid syntax\n"
     ]
    }
   ],
   "source": [
    "def predict_value(cagr,start_value):\n",
    "    if start_value = np.nan\n",
    "        predicted value = 0\n",
    "    else:\n",
    "        predicted_value = start_value * ((1 + cagr)**years_in_window)\n",
    "    \n",
    "    return predicted_value\n",
    "    \n",
    "value = predict_value(0.04097295,35.634029 )\n",
    "value"
   ]
  },
  {
   "cell_type": "code",
   "execution_count": 37,
   "id": "871d3026-99a3-403a-a4fa-22e8ddea0714",
   "metadata": {},
   "outputs": [
    {
     "name": "stdout",
     "output_type": "stream",
     "text": [
      "nan\n",
      "0.043451113117221496\n"
     ]
    }
   ],
   "source": [
    "#print(years_in_window)\n",
    "\n",
    "#print(df1.head(185))\n",
    "\n",
    "start = df1.iloc[1,1]\n",
    "print(start)\n",
    "\n",
    "cagr = df1.iloc[181,2]\n",
    "cagr_1 = cagr/100\n",
    "print(cagr_1)"
   ]
  },
  {
   "attachments": {
    "4f9b1e27-2ea0-414a-866d-0457c3857381.png": {
     "image/png": "[encoded data removed]"
    },
    "58bd0a2c-45cf-4057-9fe5-981f2c1cda5a.png": {
     "image/png": "[encoded data removed]"
    }
   },
   "cell_type": "markdown",
   "id": "ba644e8d-af76-4c07-bddd-11209b690f77",
   "metadata": {},
   "source": [
    "![image.png](attachment:4f9b1e27-2ea0-414a-866d-0457c3857381.png)![image.png](attachment:58bd0a2c-45cf-4057-9fe5-981f2c1cda5a.png)"
   ]
  },
  {
   "cell_type": "code",
   "execution_count": 2,
   "id": "1291052c-ef55-42a0-b2cb-5142dff080b2",
   "metadata": {},
   "outputs": [
    {
     "ename": "NameError",
     "evalue": "name 'rows' is not defined",
     "output_type": "error",
     "traceback": [
      "\u001b[1;31m---------------------------------------------------------------------------\u001b[0m",
      "\u001b[1;31mNameError\u001b[0m                                 Traceback (most recent call last)",
      "\u001b[1;32m~\\AppData\\Local\\Temp/ipykernel_22364/4148706430.py\u001b[0m in \u001b[0;36m<module>\u001b[1;34m\u001b[0m\n\u001b[0;32m      3\u001b[0m \u001b[0mi\u001b[0m \u001b[1;33m=\u001b[0m \u001b[1;36m0\u001b[0m\u001b[1;33m\u001b[0m\u001b[1;33m\u001b[0m\u001b[0m\n\u001b[0;32m      4\u001b[0m \u001b[1;33m\u001b[0m\u001b[0m\n\u001b[1;32m----> 5\u001b[1;33m \u001b[1;32mfor\u001b[0m \u001b[0mi\u001b[0m \u001b[1;32min\u001b[0m \u001b[0mrange\u001b[0m\u001b[1;33m(\u001b[0m\u001b[0mrows\u001b[0m\u001b[1;33m)\u001b[0m\u001b[1;33m:\u001b[0m\u001b[1;33m\u001b[0m\u001b[1;33m\u001b[0m\u001b[0m\n\u001b[0m\u001b[0;32m      6\u001b[0m     \u001b[0mstart\u001b[0m \u001b[1;33m=\u001b[0m \u001b[0mdf1\u001b[0m\u001b[1;33m.\u001b[0m\u001b[0miloc\u001b[0m\u001b[1;33m[\u001b[0m\u001b[0mi\u001b[0m\u001b[1;33m,\u001b[0m\u001b[1;36m1\u001b[0m\u001b[1;33m]\u001b[0m\u001b[1;33m\u001b[0m\u001b[1;33m\u001b[0m\u001b[0m\n\u001b[0;32m      7\u001b[0m     \u001b[0mcagr\u001b[0m \u001b[1;33m=\u001b[0m \u001b[0mdf1\u001b[0m\u001b[1;33m.\u001b[0m\u001b[0miloc\u001b[0m\u001b[1;33m[\u001b[0m\u001b[0mi\u001b[0m\u001b[1;33m,\u001b[0m\u001b[1;36m2\u001b[0m\u001b[1;33m]\u001b[0m\u001b[1;33m\u001b[0m\u001b[1;33m\u001b[0m\u001b[0m\n",
      "\u001b[1;31mNameError\u001b[0m: name 'rows' is not defined"
     ]
    }
   ],
   "source": [
    "predictions = []\n",
    "\n",
    "i = 0\n",
    "\n",
    "for i in range(rows):\n",
    "    start = df1.iloc[i,1]\n",
    "    cagr = df1.iloc[i,2]\n",
    "    cagr_1 = cagr/100\n",
    "    predicted_value = predict_value(cagr_1,start)\n",
    "    predictions.append(predicted_value)\n",
    "    i = i + 1\n",
    "    \n",
    "#print(cond1_pred)\n",
    "df1[\"15-year predictions\"] = predictions\n",
    "df1.head(185)\n"
   ]
  },
  {
   "cell_type": "code",
   "execution_count": 25,
   "id": "9b802f72-c262-4a49-8c7a-1091fb08a19d",
   "metadata": {},
   "outputs": [
    {
     "name": "stdout",
     "output_type": "stream",
     "text": [
      "5.345550185157966\n",
      "484.23830250272033\n"
     ]
    }
   ],
   "source": [
    "print(cagr)\n",
    "print(start)"
   ]
  },
  {
   "cell_type": "code",
   "execution_count": 41,
   "id": "9845db92-0f75-484d-b4d5-8784dd660a7a",
   "metadata": {},
   "outputs": [
    {
     "data": {
      "text/plain": [
       "nan"
      ]
     },
     "execution_count": 41,
     "metadata": {},
     "output_type": "execute_result"
    }
   ],
   "source": [
    "# print(df1.iloc[i,2])\n",
    "df1.iloc[1,2]"
   ]
  },
  {
   "cell_type": "code",
   "execution_count": 59,
   "id": "b36a572e-7de2-48c3-bc75-0d37f70549f3",
   "metadata": {},
   "outputs": [
    {
     "data": {
      "image/png": "[encoded data removed]",
      "text/plain": [
       "<Figure size 432x288 with 2 Axes>"
      ]
     },
     "metadata": {
      "needs_background": "light"
     },
     "output_type": "display_data"
    }
   ],
   "source": [
    "sns.lineplot(data=df1[\"price\"])\n",
    "ax2 = plt.twinx()\n",
    "sns.lineplot(data=df1[\"15-year predictions\"], color=\"r\", ax=ax2)\n",
    "\n",
    "plt.show()"
   ]
  },
  {
   "cell_type": "code",
   "execution_count": 34,
   "id": "3b4aa7be-ec2f-4c7e-a1a7-8e36849f18aa",
   "metadata": {},
   "outputs": [
    {
     "name": "stdout",
     "output_type": "stream",
     "text": [
      "715\n"
     ]
    }
   ],
   "source": [
    "i = 0\n",
    "counter = 0\n",
    "\n",
    "for i in range(rows):\n",
    "    prediction = df1.iloc[i,4]\n",
    "    price = df1.iloc[i,0]\n",
    "    std_dev = df1.iloc[i,3]\n",
    "    \n",
    "    if price < prediction:\n",
    "        counter = counter + 1\n",
    "        i = i + 1\n",
    "    else: \n",
    "        i = i + 1\n",
    "        \n",
    "print(counter)\n",
    "    "
   ]
  },
  {
   "cell_type": "code",
   "execution_count": 35,
   "id": "214c6c24-fbd0-4032-9ce2-62cc43296a29",
   "metadata": {},
   "outputs": [
    {
     "data": {
      "text/html": [
       "<div>\n",
       "<style scoped>\n",
       "    .dataframe tbody tr th:only-of-type {\n",
       "        vertical-align: middle;\n",
       "    }\n",
       "\n",
       "    .dataframe tbody tr th {\n",
       "        vertical-align: top;\n",
       "    }\n",
       "\n",
       "    .dataframe thead th {\n",
       "        text-align: right;\n",
       "    }\n",
       "</style>\n",
       "<table border=\"1\" class=\"dataframe\">\n",
       "  <thead>\n",
       "    <tr style=\"text-align: right;\">\n",
       "      <th></th>\n",
       "      <th>price</th>\n",
       "      <th>start price</th>\n",
       "      <th>cagr</th>\n",
       "      <th>std dev</th>\n",
       "      <th>15-year predictions</th>\n",
       "      <th>difference</th>\n",
       "    </tr>\n",
       "    <tr>\n",
       "      <th>Date</th>\n",
       "      <th></th>\n",
       "      <th></th>\n",
       "      <th></th>\n",
       "      <th></th>\n",
       "      <th></th>\n",
       "      <th></th>\n",
       "    </tr>\n",
       "  </thead>\n",
       "  <tbody>\n",
       "    <tr>\n",
       "      <th>1871-01-01</th>\n",
       "      <td>35.634029</td>\n",
       "      <td>NaN</td>\n",
       "      <td>NaN</td>\n",
       "      <td>0.000000</td>\n",
       "      <td>NaN</td>\n",
       "      <td>NaN</td>\n",
       "    </tr>\n",
       "    <tr>\n",
       "      <th>1871-02-01</th>\n",
       "      <td>35.046729</td>\n",
       "      <td>NaN</td>\n",
       "      <td>NaN</td>\n",
       "      <td>0.000000</td>\n",
       "      <td>NaN</td>\n",
       "      <td>NaN</td>\n",
       "    </tr>\n",
       "    <tr>\n",
       "      <th>1871-03-01</th>\n",
       "      <td>35.379893</td>\n",
       "      <td>NaN</td>\n",
       "      <td>NaN</td>\n",
       "      <td>0.000000</td>\n",
       "      <td>NaN</td>\n",
       "      <td>NaN</td>\n",
       "    </tr>\n",
       "    <tr>\n",
       "      <th>1871-04-01</th>\n",
       "      <td>37.738854</td>\n",
       "      <td>NaN</td>\n",
       "      <td>NaN</td>\n",
       "      <td>0.000000</td>\n",
       "      <td>NaN</td>\n",
       "      <td>NaN</td>\n",
       "    </tr>\n",
       "    <tr>\n",
       "      <th>1871-05-01</th>\n",
       "      <td>39.608802</td>\n",
       "      <td>NaN</td>\n",
       "      <td>NaN</td>\n",
       "      <td>0.000000</td>\n",
       "      <td>NaN</td>\n",
       "      <td>NaN</td>\n",
       "    </tr>\n",
       "    <tr>\n",
       "      <th>...</th>\n",
       "      <td>...</td>\n",
       "      <td>...</td>\n",
       "      <td>...</td>\n",
       "      <td>...</td>\n",
       "      <td>...</td>\n",
       "      <td>...</td>\n",
       "    </tr>\n",
       "    <tr>\n",
       "      <th>1886-01-01</th>\n",
       "      <td>65.081352</td>\n",
       "      <td>35.634029</td>\n",
       "      <td>4.097295</td>\n",
       "      <td>7.269496</td>\n",
       "      <td>65.081352</td>\n",
       "      <td>8.526513e-14</td>\n",
       "    </tr>\n",
       "    <tr>\n",
       "      <th>1886-02-01</th>\n",
       "      <td>66.332916</td>\n",
       "      <td>35.046729</td>\n",
       "      <td>4.345111</td>\n",
       "      <td>7.496481</td>\n",
       "      <td>66.332916</td>\n",
       "      <td>-9.947598e-14</td>\n",
       "    </tr>\n",
       "    <tr>\n",
       "      <th>1886-03-01</th>\n",
       "      <td>65.696203</td>\n",
       "      <td>35.379893</td>\n",
       "      <td>4.212285</td>\n",
       "      <td>7.782429</td>\n",
       "      <td>65.696203</td>\n",
       "      <td>-4.263256e-14</td>\n",
       "    </tr>\n",
       "    <tr>\n",
       "      <th>1886-04-01</th>\n",
       "      <td>65.641026</td>\n",
       "      <td>37.738854</td>\n",
       "      <td>3.759000</td>\n",
       "      <td>8.265782</td>\n",
       "      <td>65.641026</td>\n",
       "      <td>5.684342e-14</td>\n",
       "    </tr>\n",
       "    <tr>\n",
       "      <th>1886-05-01</th>\n",
       "      <td>65.965834</td>\n",
       "      <td>39.608802</td>\n",
       "      <td>3.459051</td>\n",
       "      <td>8.594685</td>\n",
       "      <td>65.965834</td>\n",
       "      <td>1.421085e-14</td>\n",
       "    </tr>\n",
       "  </tbody>\n",
       "</table>\n",
       "<p>185 rows × 6 columns</p>\n",
       "</div>"
      ],
      "text/plain": [
       "                price  start price      cagr   std dev  15-year predictions  \\\n",
       "Date                                                                          \n",
       "1871-01-01  35.634029          NaN       NaN  0.000000                  NaN   \n",
       "1871-02-01  35.046729          NaN       NaN  0.000000                  NaN   \n",
       "1871-03-01  35.379893          NaN       NaN  0.000000                  NaN   \n",
       "1871-04-01  37.738854          NaN       NaN  0.000000                  NaN   \n",
       "1871-05-01  39.608802          NaN       NaN  0.000000                  NaN   \n",
       "...               ...          ...       ...       ...                  ...   \n",
       "1886-01-01  65.081352    35.634029  4.097295  7.269496            65.081352   \n",
       "1886-02-01  66.332916    35.046729  4.345111  7.496481            66.332916   \n",
       "1886-03-01  65.696203    35.379893  4.212285  7.782429            65.696203   \n",
       "1886-04-01  65.641026    37.738854  3.759000  8.265782            65.641026   \n",
       "1886-05-01  65.965834    39.608802  3.459051  8.594685            65.965834   \n",
       "\n",
       "              difference  \n",
       "Date                      \n",
       "1871-01-01           NaN  \n",
       "1871-02-01           NaN  \n",
       "1871-03-01           NaN  \n",
       "1871-04-01           NaN  \n",
       "1871-05-01           NaN  \n",
       "...                  ...  \n",
       "1886-01-01  8.526513e-14  \n",
       "1886-02-01 -9.947598e-14  \n",
       "1886-03-01 -4.263256e-14  \n",
       "1886-04-01  5.684342e-14  \n",
       "1886-05-01  1.421085e-14  \n",
       "\n",
       "[185 rows x 6 columns]"
      ]
     },
     "execution_count": 35,
     "metadata": {},
     "output_type": "execute_result"
    }
   ],
   "source": [
    "df1[\"difference\"] = df1[\"price\"]-df1[\"15-year predictions\"]\n",
    "df1.head(185)"
   ]
  },
  {
   "cell_type": "code",
   "execution_count": 36,
   "id": "21033f53-4a2b-457f-871f-29b7fb3b10cd",
   "metadata": {},
   "outputs": [
    {
     "data": {
      "text/plain": [
       "count    1.588000e+03\n",
       "mean     1.190651e-14\n",
       "std      2.765348e-13\n",
       "min     -1.591616e-12\n",
       "25%     -7.105427e-14\n",
       "50%      0.000000e+00\n",
       "75%      8.526513e-14\n",
       "max      1.477929e-12\n",
       "Name: difference, dtype: float64"
      ]
     },
     "execution_count": 36,
     "metadata": {},
     "output_type": "execute_result"
    }
   ],
   "source": [
    "df1[\"difference\"].describe()"
   ]
  },
  {
   "cell_type": "code",
   "execution_count": 49,
   "id": "950d6e1b-9f25-4774-9458-240e58a72fef",
   "metadata": {},
   "outputs": [],
   "source": [
    "def temp_dataframe(i):\n",
    "    start_value = i\n",
    "    end_value = i + 180\n",
    "    temp_df1 = df1.iloc[start_value:end_value, 0:5]\n",
    "    temp_df = pd.DataFrame(data=temp_df1)\n",
    "    return temp_df\n",
    "    \n",
    "\n",
    "#test = temp_dataframe(1500)\n",
    "#test.head(6)\n",
    "#test.describe()"
   ]
  },
  {
   "cell_type": "code",
   "execution_count": 52,
   "id": "7ce703dc-1059-4412-815b-172b1c4c51e5",
   "metadata": {},
   "outputs": [
    {
     "data": {
      "image/png": "[encoded data removed]",
      "text/plain": [
       "<Figure size 432x288 with 2 Axes>"
      ]
     },
     "metadata": {
      "needs_background": "light"
     },
     "output_type": "display_data"
    }
   ],
   "source": [
    "analysis1 = temp_dataframe(1550)\n",
    "\n",
    "#analysis1\n",
    "\n",
    "sns.lineplot(data=analysis1[\"price\"])\n",
    "ax2 = plt.twinx()\n",
    "sns.lineplot(data=analysis1[\"15-year predictions\"], color=\"r\", ax=ax2)\n",
    "\n",
    "plt.show()"
   ]
  },
  {
   "cell_type": "markdown",
   "id": "56cd9fa7-a4c3-4721-83af-239d58fa7a55",
   "metadata": {},
   "source": [
    "#### Appendix: Data Structures\n",
    "- *df1*: contains original SnP data, indexed by date (pd)\n",
    "- *date_list*: list containing only the (list)\n",
    "- *df2*: list containing final data in rolling periods\n",
    "- *list1*: temporary list storing values for a single column in df2\n",
    "\n",
    "\n",
    "\n",
    "#### Variables"
   ]
  }
 ],
 "metadata": {
  "kernelspec": {
   "display_name": "Python 3 (ipykernel)",
   "language": "python",
   "name": "python3"
  },
  "language_info": {
   "codemirror_mode": {
    "name": "ipython",
    "version": 3
   },
   "file_extension": ".py",
   "mimetype": "text/x-python",
   "name": "python",
   "nbconvert_exporter": "python",
   "pygments_lexer": "ipython3",
   "version": "3.9.7"
  }
 },
 "nbformat": 4,
 "nbformat_minor": 5
}
